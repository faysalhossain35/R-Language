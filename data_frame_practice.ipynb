{
 "cells": [
  {
   "cell_type": "code",
   "execution_count": 2,
   "metadata": {},
   "outputs": [],
   "source": [
    "#data <- read.csv(file.choose())"
   ]
  },
  {
   "cell_type": "code",
   "execution_count": 3,
   "metadata": {},
   "outputs": [
    {
     "data": {
      "text/html": [
       "'C:/Users/Faysal/Desktop/R Practice'"
      ],
      "text/latex": [
       "'C:/Users/Faysal/Desktop/R Practice'"
      ],
      "text/markdown": [
       "'C:/Users/Faysal/Desktop/R Practice'"
      ],
      "text/plain": [
       "[1] \"C:/Users/Faysal/Desktop/R Practice\""
      ]
     },
     "metadata": {},
     "output_type": "display_data"
    }
   ],
   "source": [
    "#rm(data)\n",
    "getwd()"
   ]
  },
  {
   "cell_type": "code",
   "execution_count": 4,
   "metadata": {},
   "outputs": [],
   "source": [
    "data <- read.csv(\"DemographicData.csv\")"
   ]
  },
  {
   "cell_type": "code",
   "execution_count": 5,
   "metadata": {},
   "outputs": [
    {
     "data": {
      "text/html": [
       "<table>\n",
       "<thead><tr><th scope=col>Country.Name</th><th scope=col>Country.Code</th><th scope=col>Birth.rate</th><th scope=col>Internet.users</th><th scope=col>Income.Group</th></tr></thead>\n",
       "<tbody>\n",
       "\t<tr><td>Aruba              </td><td>ABW                </td><td>10.244             </td><td>78.9               </td><td>High income        </td></tr>\n",
       "\t<tr><td>Afghanistan        </td><td>AFG                </td><td>35.253             </td><td> 5.9               </td><td>Low income         </td></tr>\n",
       "\t<tr><td>Angola             </td><td>AGO                </td><td>45.985             </td><td>19.1               </td><td>Upper middle income</td></tr>\n",
       "\t<tr><td>Albania            </td><td>ALB                </td><td>12.877             </td><td>57.2               </td><td>Upper middle income</td></tr>\n",
       "</tbody>\n",
       "</table>\n"
      ],
      "text/latex": [
       "\\begin{tabular}{r|lllll}\n",
       " Country.Name & Country.Code & Birth.rate & Internet.users & Income.Group\\\\\n",
       "\\hline\n",
       "\t Aruba               & ABW                 & 10.244              & 78.9                & High income        \\\\\n",
       "\t Afghanistan         & AFG                 & 35.253              &  5.9                & Low income         \\\\\n",
       "\t Angola              & AGO                 & 45.985              & 19.1                & Upper middle income\\\\\n",
       "\t Albania             & ALB                 & 12.877              & 57.2                & Upper middle income\\\\\n",
       "\\end{tabular}\n"
      ],
      "text/markdown": [
       "\n",
       "Country.Name | Country.Code | Birth.rate | Internet.users | Income.Group | \n",
       "|---|---|---|---|\n",
       "| Aruba               | ABW                 | 10.244              | 78.9                | High income         | \n",
       "| Afghanistan         | AFG                 | 35.253              |  5.9                | Low income          | \n",
       "| Angola              | AGO                 | 45.985              | 19.1                | Upper middle income | \n",
       "| Albania             | ALB                 | 12.877              | 57.2                | Upper middle income | \n",
       "\n",
       "\n"
      ],
      "text/plain": [
       "  Country.Name Country.Code Birth.rate Internet.users Income.Group       \n",
       "1 Aruba        ABW          10.244     78.9           High income        \n",
       "2 Afghanistan  AFG          35.253      5.9           Low income         \n",
       "3 Angola       AGO          45.985     19.1           Upper middle income\n",
       "4 Albania      ALB          12.877     57.2           Upper middle income"
      ]
     },
     "metadata": {},
     "output_type": "display_data"
    }
   ],
   "source": [
    "head(data,n=4)"
   ]
  },
  {
   "cell_type": "code",
   "execution_count": 6,
   "metadata": {},
   "outputs": [
    {
     "data": {
      "text/html": [
       "<table>\n",
       "<thead><tr><th></th><th scope=col>Country.Name</th><th scope=col>Country.Code</th><th scope=col>Birth.rate</th><th scope=col>Internet.users</th><th scope=col>Income.Group</th></tr></thead>\n",
       "<tbody>\n",
       "\t<tr><th scope=row>193</th><td>Congo, Dem. Rep.   </td><td>COD                </td><td>42.394             </td><td> 2.2               </td><td>Low income         </td></tr>\n",
       "\t<tr><th scope=row>194</th><td>Zambia             </td><td>ZMB                </td><td>40.471             </td><td>15.4               </td><td>Lower middle income</td></tr>\n",
       "\t<tr><th scope=row>195</th><td>Zimbabwe           </td><td>ZWE                </td><td>35.715             </td><td>18.5               </td><td>Low income         </td></tr>\n",
       "</tbody>\n",
       "</table>\n"
      ],
      "text/latex": [
       "\\begin{tabular}{r|lllll}\n",
       "  & Country.Name & Country.Code & Birth.rate & Internet.users & Income.Group\\\\\n",
       "\\hline\n",
       "\t193 & Congo, Dem. Rep.    & COD                 & 42.394              &  2.2                & Low income         \\\\\n",
       "\t194 & Zambia              & ZMB                 & 40.471              & 15.4                & Lower middle income\\\\\n",
       "\t195 & Zimbabwe            & ZWE                 & 35.715              & 18.5                & Low income         \\\\\n",
       "\\end{tabular}\n"
      ],
      "text/markdown": [
       "\n",
       "| <!--/--> | Country.Name | Country.Code | Birth.rate | Internet.users | Income.Group | \n",
       "|---|---|---|\n",
       "| 193 | Congo, Dem. Rep.    | COD                 | 42.394              |  2.2                | Low income          | \n",
       "| 194 | Zambia              | ZMB                 | 40.471              | 15.4                | Lower middle income | \n",
       "| 195 | Zimbabwe            | ZWE                 | 35.715              | 18.5                | Low income          | \n",
       "\n",
       "\n"
      ],
      "text/plain": [
       "    Country.Name     Country.Code Birth.rate Internet.users Income.Group       \n",
       "193 Congo, Dem. Rep. COD          42.394      2.2           Low income         \n",
       "194 Zambia           ZMB          40.471     15.4           Lower middle income\n",
       "195 Zimbabwe         ZWE          35.715     18.5           Low income         "
      ]
     },
     "metadata": {},
     "output_type": "display_data"
    }
   ],
   "source": [
    "tail(data,n=3)"
   ]
  },
  {
   "cell_type": "code",
   "execution_count": null,
   "metadata": {},
   "outputs": [],
   "source": []
  },
  {
   "cell_type": "code",
   "execution_count": 7,
   "metadata": {},
   "outputs": [
    {
     "data": {
      "text/html": [
       "195"
      ],
      "text/latex": [
       "195"
      ],
      "text/markdown": [
       "195"
      ],
      "text/plain": [
       "[1] 195"
      ]
     },
     "metadata": {},
     "output_type": "display_data"
    },
    {
     "data": {
      "text/html": [
       "5"
      ],
      "text/latex": [
       "5"
      ],
      "text/markdown": [
       "5"
      ],
      "text/plain": [
       "[1] 5"
      ]
     },
     "metadata": {},
     "output_type": "display_data"
    }
   ],
   "source": [
    "nrow(data)\n",
    "ncol(data)"
   ]
  },
  {
   "cell_type": "code",
   "execution_count": 8,
   "metadata": {},
   "outputs": [
    {
     "name": "stdout",
     "output_type": "stream",
     "text": [
      "'data.frame':\t195 obs. of  5 variables:\n",
      " $ Country.Name  : Factor w/ 195 levels \"Afghanistan\",..: 8 1 4 2 183 6 7 5 9 10 ...\n",
      " $ Country.Code  : Factor w/ 195 levels \"ABW\",\"AFG\",\"AGO\",..: 1 2 3 4 5 6 7 8 9 10 ...\n",
      " $ Birth.rate    : num  10.2 35.3 46 12.9 11 ...\n",
      " $ Internet.users: num  78.9 5.9 19.1 57.2 88 ...\n",
      " $ Income.Group  : Factor w/ 4 levels \"High income\",..: 1 2 4 4 1 1 3 1 1 1 ...\n"
     ]
    }
   ],
   "source": [
    "str(data)"
   ]
  },
  {
   "cell_type": "code",
   "execution_count": 9,
   "metadata": {},
   "outputs": [
    {
     "data": {
      "text/plain": [
       "              Country.Name  Country.Code   Birth.rate    Internet.users \n",
       " Afghanistan        :  1   ABW    :  1   Min.   : 7.90   Min.   : 0.90  \n",
       " Albania            :  1   AFG    :  1   1st Qu.:12.12   1st Qu.:14.52  \n",
       " Algeria            :  1   AGO    :  1   Median :19.68   Median :41.00  \n",
       " Angola             :  1   ALB    :  1   Mean   :21.47   Mean   :42.08  \n",
       " Antigua and Barbuda:  1   ARE    :  1   3rd Qu.:29.76   3rd Qu.:66.22  \n",
       " Argentina          :  1   ARG    :  1   Max.   :49.66   Max.   :96.55  \n",
       " (Other)            :189   (Other):189                                  \n",
       "              Income.Group\n",
       " High income        :67   \n",
       " Low income         :30   \n",
       " Lower middle income:50   \n",
       " Upper middle income:48   \n",
       "                          \n",
       "                          \n",
       "                          "
      ]
     },
     "metadata": {},
     "output_type": "display_data"
    }
   ],
   "source": [
    "summary(data)"
   ]
  },
  {
   "cell_type": "code",
   "execution_count": 10,
   "metadata": {},
   "outputs": [
    {
     "data": {
      "text/html": [
       "35.253"
      ],
      "text/latex": [
       "35.253"
      ],
      "text/markdown": [
       "35.253"
      ],
      "text/plain": [
       "[1] 35.253"
      ]
     },
     "metadata": {},
     "output_type": "display_data"
    }
   ],
   "source": [
    "data$Birth.rate[2]"
   ]
  },
  {
   "cell_type": "code",
   "execution_count": 11,
   "metadata": {},
   "outputs": [
    {
     "data": {
      "text/html": [
       "45.985"
      ],
      "text/latex": [
       "45.985"
      ],
      "text/markdown": [
       "45.985"
      ],
      "text/plain": [
       "[1] 45.985"
      ]
     },
     "metadata": {},
     "output_type": "display_data"
    }
   ],
   "source": [
    "data[3,'Birth.rate']"
   ]
  },
  {
   "cell_type": "code",
   "execution_count": 12,
   "metadata": {},
   "outputs": [
    {
     "data": {
      "text/html": [
       "<ol class=list-inline>\n",
       "\t<li>'High income'</li>\n",
       "\t<li>'Low income'</li>\n",
       "\t<li>'Lower middle income'</li>\n",
       "\t<li>'Upper middle income'</li>\n",
       "</ol>\n"
      ],
      "text/latex": [
       "\\begin{enumerate*}\n",
       "\\item 'High income'\n",
       "\\item 'Low income'\n",
       "\\item 'Lower middle income'\n",
       "\\item 'Upper middle income'\n",
       "\\end{enumerate*}\n"
      ],
      "text/markdown": [
       "1. 'High income'\n",
       "2. 'Low income'\n",
       "3. 'Lower middle income'\n",
       "4. 'Upper middle income'\n",
       "\n",
       "\n"
      ],
      "text/plain": [
       "[1] \"High income\"         \"Low income\"          \"Lower middle income\"\n",
       "[4] \"Upper middle income\""
      ]
     },
     "metadata": {},
     "output_type": "display_data"
    }
   ],
   "source": [
    "levels(data$Income.Group)"
   ]
  },
  {
   "cell_type": "code",
   "execution_count": 13,
   "metadata": {},
   "outputs": [
    {
     "data": {
      "text/html": [
       "<table>\n",
       "<thead><tr><th scope=col>Country.Name</th><th scope=col>Country.Code</th><th scope=col>Birth.rate</th></tr></thead>\n",
       "<tbody>\n",
       "\t<tr><td>Aruba               </td><td>ABW                 </td><td>10.244              </td></tr>\n",
       "\t<tr><td>Afghanistan         </td><td>AFG                 </td><td>35.253              </td></tr>\n",
       "\t<tr><td>Angola              </td><td>AGO                 </td><td>45.985              </td></tr>\n",
       "\t<tr><td>Albania             </td><td>ALB                 </td><td>12.877              </td></tr>\n",
       "\t<tr><td>United Arab Emirates</td><td>ARE                 </td><td>11.044              </td></tr>\n",
       "\t<tr><td>Argentina           </td><td>ARG                 </td><td>17.716              </td></tr>\n",
       "\t<tr><td>Armenia             </td><td>ARM                 </td><td>13.308              </td></tr>\n",
       "\t<tr><td>Antigua and Barbuda </td><td>ATG                 </td><td>16.447              </td></tr>\n",
       "\t<tr><td>Australia           </td><td>AUS                 </td><td>13.200              </td></tr>\n",
       "\t<tr><td>Austria             </td><td>AUT                 </td><td> 9.400              </td></tr>\n",
       "</tbody>\n",
       "</table>\n"
      ],
      "text/latex": [
       "\\begin{tabular}{r|lll}\n",
       " Country.Name & Country.Code & Birth.rate\\\\\n",
       "\\hline\n",
       "\t Aruba                & ABW                  & 10.244              \\\\\n",
       "\t Afghanistan          & AFG                  & 35.253              \\\\\n",
       "\t Angola               & AGO                  & 45.985              \\\\\n",
       "\t Albania              & ALB                  & 12.877              \\\\\n",
       "\t United Arab Emirates & ARE                  & 11.044              \\\\\n",
       "\t Argentina            & ARG                  & 17.716              \\\\\n",
       "\t Armenia              & ARM                  & 13.308              \\\\\n",
       "\t Antigua and Barbuda  & ATG                  & 16.447              \\\\\n",
       "\t Australia            & AUS                  & 13.200              \\\\\n",
       "\t Austria              & AUT                  &  9.400              \\\\\n",
       "\\end{tabular}\n"
      ],
      "text/markdown": [
       "\n",
       "Country.Name | Country.Code | Birth.rate | \n",
       "|---|---|---|---|---|---|---|---|---|---|\n",
       "| Aruba                | ABW                  | 10.244               | \n",
       "| Afghanistan          | AFG                  | 35.253               | \n",
       "| Angola               | AGO                  | 45.985               | \n",
       "| Albania              | ALB                  | 12.877               | \n",
       "| United Arab Emirates | ARE                  | 11.044               | \n",
       "| Argentina            | ARG                  | 17.716               | \n",
       "| Armenia              | ARM                  | 13.308               | \n",
       "| Antigua and Barbuda  | ATG                  | 16.447               | \n",
       "| Australia            | AUS                  | 13.200               | \n",
       "| Austria              | AUT                  |  9.400               | \n",
       "\n",
       "\n"
      ],
      "text/plain": [
       "   Country.Name         Country.Code Birth.rate\n",
       "1  Aruba                ABW          10.244    \n",
       "2  Afghanistan          AFG          35.253    \n",
       "3  Angola               AGO          45.985    \n",
       "4  Albania              ALB          12.877    \n",
       "5  United Arab Emirates ARE          11.044    \n",
       "6  Argentina            ARG          17.716    \n",
       "7  Armenia              ARM          13.308    \n",
       "8  Antigua and Barbuda  ATG          16.447    \n",
       "9  Australia            AUS          13.200    \n",
       "10 Austria              AUT           9.400    "
      ]
     },
     "metadata": {},
     "output_type": "display_data"
    }
   ],
   "source": [
    "data[1:10,1:3]"
   ]
  },
  {
   "cell_type": "code",
   "execution_count": 14,
   "metadata": {},
   "outputs": [
    {
     "data": {
      "text/html": [
       "<table>\n",
       "<thead><tr><th></th><th scope=col>Country.Name</th><th scope=col>Country.Code</th><th scope=col>Birth.rate</th><th scope=col>Internet.users</th><th scope=col>Income.Group</th></tr></thead>\n",
       "<tbody>\n",
       "\t<tr><th scope=row>4</th><td>Albania            </td><td>ALB                </td><td>12.877             </td><td>57.2               </td><td>Upper middle income</td></tr>\n",
       "\t<tr><th scope=row>100</th><td>Liberia            </td><td>LBR                </td><td>35.521             </td><td> 3.2               </td><td>Low income         </td></tr>\n",
       "</tbody>\n",
       "</table>\n"
      ],
      "text/latex": [
       "\\begin{tabular}{r|lllll}\n",
       "  & Country.Name & Country.Code & Birth.rate & Internet.users & Income.Group\\\\\n",
       "\\hline\n",
       "\t4 & Albania             & ALB                 & 12.877              & 57.2                & Upper middle income\\\\\n",
       "\t100 & Liberia             & LBR                 & 35.521              &  3.2                & Low income         \\\\\n",
       "\\end{tabular}\n"
      ],
      "text/markdown": [
       "\n",
       "| <!--/--> | Country.Name | Country.Code | Birth.rate | Internet.users | Income.Group | \n",
       "|---|---|\n",
       "| 4 | Albania             | ALB                 | 12.877              | 57.2                | Upper middle income | \n",
       "| 100 | Liberia             | LBR                 | 35.521              |  3.2                | Low income          | \n",
       "\n",
       "\n"
      ],
      "text/plain": [
       "    Country.Name Country.Code Birth.rate Internet.users Income.Group       \n",
       "4   Albania      ALB          12.877     57.2           Upper middle income\n",
       "100 Liberia      LBR          35.521      3.2           Low income         "
      ]
     },
     "metadata": {},
     "output_type": "display_data"
    }
   ],
   "source": [
    "data[c(4,100),]"
   ]
  },
  {
   "cell_type": "code",
   "execution_count": 15,
   "metadata": {},
   "outputs": [
    {
     "data": {
      "text/html": [
       "<table>\n",
       "<thead><tr><th></th><th scope=col>Birth.rate</th><th scope=col>Income.Group</th></tr></thead>\n",
       "<tbody>\n",
       "\t<tr><th scope=row>4</th><td>12.877             </td><td>Upper middle income</td></tr>\n",
       "\t<tr><th scope=row>100</th><td>35.521             </td><td>Low income         </td></tr>\n",
       "</tbody>\n",
       "</table>\n"
      ],
      "text/latex": [
       "\\begin{tabular}{r|ll}\n",
       "  & Birth.rate & Income.Group\\\\\n",
       "\\hline\n",
       "\t4 & 12.877              & Upper middle income\\\\\n",
       "\t100 & 35.521              & Low income         \\\\\n",
       "\\end{tabular}\n"
      ],
      "text/markdown": [
       "\n",
       "| <!--/--> | Birth.rate | Income.Group | \n",
       "|---|---|\n",
       "| 4 | 12.877              | Upper middle income | \n",
       "| 100 | 35.521              | Low income          | \n",
       "\n",
       "\n"
      ],
      "text/plain": [
       "    Birth.rate Income.Group       \n",
       "4   12.877     Upper middle income\n",
       "100 35.521     Low income         "
      ]
     },
     "metadata": {},
     "output_type": "display_data"
    }
   ],
   "source": [
    "data[c(4,100),c(3,5)]"
   ]
  },
  {
   "cell_type": "code",
   "execution_count": 16,
   "metadata": {},
   "outputs": [
    {
     "data": {
      "text/html": [
       "<table>\n",
       "<thead><tr><th scope=col>Country.Name</th><th scope=col>Country.Code</th><th scope=col>Birth.rate</th><th scope=col>Internet.users</th><th scope=col>Income.Group</th></tr></thead>\n",
       "<tbody>\n",
       "\t<tr><td>Aruba      </td><td>ABW        </td><td>10.244     </td><td>78.9       </td><td>High income</td></tr>\n",
       "</tbody>\n",
       "</table>\n"
      ],
      "text/latex": [
       "\\begin{tabular}{r|lllll}\n",
       " Country.Name & Country.Code & Birth.rate & Internet.users & Income.Group\\\\\n",
       "\\hline\n",
       "\t Aruba       & ABW         & 10.244      & 78.9        & High income\\\\\n",
       "\\end{tabular}\n"
      ],
      "text/markdown": [
       "\n",
       "Country.Name | Country.Code | Birth.rate | Internet.users | Income.Group | \n",
       "|---|\n",
       "| Aruba       | ABW         | 10.244      | 78.9        | High income | \n",
       "\n",
       "\n"
      ],
      "text/plain": [
       "  Country.Name Country.Code Birth.rate Internet.users Income.Group\n",
       "1 Aruba        ABW          10.244     78.9           High income "
      ]
     },
     "metadata": {},
     "output_type": "display_data"
    }
   ],
   "source": [
    "data[1,]"
   ]
  },
  {
   "cell_type": "code",
   "execution_count": 17,
   "metadata": {},
   "outputs": [
    {
     "data": {
      "text/html": [
       "TRUE"
      ],
      "text/latex": [
       "TRUE"
      ],
      "text/markdown": [
       "TRUE"
      ],
      "text/plain": [
       "[1] TRUE"
      ]
     },
     "metadata": {},
     "output_type": "display_data"
    }
   ],
   "source": [
    "is.data.frame(data[1,])"
   ]
  },
  {
   "cell_type": "code",
   "execution_count": 18,
   "metadata": {},
   "outputs": [
    {
     "data": {
      "text/html": [
       "<ol class=list-inline>\n",
       "\t<li>Aruba</li>\n",
       "\t<li>Afghanistan</li>\n",
       "\t<li>Angola</li>\n",
       "\t<li>Albania</li>\n",
       "\t<li>United Arab Emirates</li>\n",
       "\t<li>Argentina</li>\n",
       "\t<li>Armenia</li>\n",
       "\t<li>Antigua and Barbuda</li>\n",
       "\t<li>Australia</li>\n",
       "\t<li>Austria</li>\n",
       "\t<li>Azerbaijan</li>\n",
       "\t<li>Burundi</li>\n",
       "\t<li>Belgium</li>\n",
       "\t<li>Benin</li>\n",
       "\t<li>Burkina Faso</li>\n",
       "\t<li>Bangladesh</li>\n",
       "\t<li>Bulgaria</li>\n",
       "\t<li>Bahrain</li>\n",
       "\t<li>Bahamas, The</li>\n",
       "\t<li>Bosnia and Herzegovina</li>\n",
       "\t<li>Belarus</li>\n",
       "\t<li>Belize</li>\n",
       "\t<li>Bermuda</li>\n",
       "\t<li>Bolivia</li>\n",
       "\t<li>Brazil</li>\n",
       "\t<li>Barbados</li>\n",
       "\t<li>Brunei Darussalam</li>\n",
       "\t<li>Bhutan</li>\n",
       "\t<li>Botswana</li>\n",
       "\t<li>Central African Republic</li>\n",
       "\t<li>Canada</li>\n",
       "\t<li>Switzerland</li>\n",
       "\t<li>Chile</li>\n",
       "\t<li>China</li>\n",
       "\t<li>Cote d'Ivoire</li>\n",
       "\t<li>Cameroon</li>\n",
       "\t<li>Congo, Rep.</li>\n",
       "\t<li>Colombia</li>\n",
       "\t<li>Comoros</li>\n",
       "\t<li>Cabo Verde</li>\n",
       "\t<li>Costa Rica</li>\n",
       "\t<li>Cuba</li>\n",
       "\t<li>Cayman Islands</li>\n",
       "\t<li>Cyprus</li>\n",
       "\t<li>Czech Republic</li>\n",
       "\t<li>Germany</li>\n",
       "\t<li>Djibouti</li>\n",
       "\t<li>Denmark</li>\n",
       "\t<li>Dominican Republic</li>\n",
       "\t<li>Algeria</li>\n",
       "\t<li>Ecuador</li>\n",
       "\t<li>Egypt, Arab Rep.</li>\n",
       "\t<li>Eritrea</li>\n",
       "\t<li>Spain</li>\n",
       "\t<li>Estonia</li>\n",
       "\t<li>Ethiopia</li>\n",
       "\t<li>Finland</li>\n",
       "\t<li>Fiji</li>\n",
       "\t<li>France</li>\n",
       "\t<li>Micronesia, Fed. Sts.</li>\n",
       "\t<li>Gabon</li>\n",
       "\t<li>United Kingdom</li>\n",
       "\t<li>Georgia</li>\n",
       "\t<li>Ghana</li>\n",
       "\t<li>Guinea</li>\n",
       "\t<li>Gambia, The</li>\n",
       "\t<li>Guinea-Bissau</li>\n",
       "\t<li>Equatorial Guinea</li>\n",
       "\t<li>Greece</li>\n",
       "\t<li>Grenada</li>\n",
       "\t<li>Greenland</li>\n",
       "\t<li>Guatemala</li>\n",
       "\t<li>Guam</li>\n",
       "\t<li>Guyana</li>\n",
       "\t<li>Hong Kong SAR, China</li>\n",
       "\t<li>Honduras</li>\n",
       "\t<li>Croatia</li>\n",
       "\t<li>Haiti</li>\n",
       "\t<li>Hungary</li>\n",
       "\t<li>Indonesia</li>\n",
       "\t<li>India</li>\n",
       "\t<li>Ireland</li>\n",
       "\t<li>Iran, Islamic Rep.</li>\n",
       "\t<li>Iraq</li>\n",
       "\t<li>Iceland</li>\n",
       "\t<li>Israel</li>\n",
       "\t<li>Italy</li>\n",
       "\t<li>Jamaica</li>\n",
       "\t<li>Jordan</li>\n",
       "\t<li>Japan</li>\n",
       "\t<li>Kazakhstan</li>\n",
       "\t<li>Kenya</li>\n",
       "\t<li>Kyrgyz Republic</li>\n",
       "\t<li>Cambodia</li>\n",
       "\t<li>Kiribati</li>\n",
       "\t<li>Korea, Rep.</li>\n",
       "\t<li>Kuwait</li>\n",
       "\t<li>Lao PDR</li>\n",
       "\t<li>Lebanon</li>\n",
       "\t<li>Liberia</li>\n",
       "\t<li>Libya</li>\n",
       "\t<li>St. Lucia</li>\n",
       "\t<li>Liechtenstein</li>\n",
       "\t<li>Sri Lanka</li>\n",
       "\t<li>Lesotho</li>\n",
       "\t<li>Lithuania</li>\n",
       "\t<li>Luxembourg</li>\n",
       "\t<li>Latvia</li>\n",
       "\t<li>Macao SAR, China</li>\n",
       "\t<li>Morocco</li>\n",
       "\t<li>Moldova</li>\n",
       "\t<li>Madagascar</li>\n",
       "\t<li>Maldives</li>\n",
       "\t<li>Mexico</li>\n",
       "\t<li>Macedonia, FYR</li>\n",
       "\t<li>Mali</li>\n",
       "\t<li>Malta</li>\n",
       "\t<li>Myanmar</li>\n",
       "\t<li>Montenegro</li>\n",
       "\t<li>Mongolia</li>\n",
       "\t<li>Mozambique</li>\n",
       "\t<li>Mauritania</li>\n",
       "\t<li>Mauritius</li>\n",
       "\t<li>Malawi</li>\n",
       "\t<li>Malaysia</li>\n",
       "\t<li>Namibia</li>\n",
       "\t<li>New Caledonia</li>\n",
       "\t<li>Niger</li>\n",
       "\t<li>Nigeria</li>\n",
       "\t<li>Nicaragua</li>\n",
       "\t<li>Netherlands</li>\n",
       "\t<li>Norway</li>\n",
       "\t<li>Nepal</li>\n",
       "\t<li>New Zealand</li>\n",
       "\t<li>Oman</li>\n",
       "\t<li>Pakistan</li>\n",
       "\t<li>Panama</li>\n",
       "\t<li>Peru</li>\n",
       "\t<li>Philippines</li>\n",
       "\t<li>Papua New Guinea</li>\n",
       "\t<li>Poland</li>\n",
       "\t<li>Puerto Rico</li>\n",
       "\t<li>Portugal</li>\n",
       "\t<li>Paraguay</li>\n",
       "\t<li>French Polynesia</li>\n",
       "\t<li>Qatar</li>\n",
       "\t<li>Romania</li>\n",
       "\t<li>Russian Federation</li>\n",
       "\t<li>Rwanda</li>\n",
       "\t<li>Saudi Arabia</li>\n",
       "\t<li>Sudan</li>\n",
       "\t<li>Senegal</li>\n",
       "\t<li>Singapore</li>\n",
       "\t<li>Solomon Islands</li>\n",
       "\t<li>Sierra Leone</li>\n",
       "\t<li>El Salvador</li>\n",
       "\t<li>Somalia</li>\n",
       "\t<li>Serbia</li>\n",
       "\t<li>South Sudan</li>\n",
       "\t<li>Sao Tome and Principe</li>\n",
       "\t<li>Suriname</li>\n",
       "\t<li>Slovak Republic</li>\n",
       "\t<li>Slovenia</li>\n",
       "\t<li>Sweden</li>\n",
       "\t<li>Swaziland</li>\n",
       "\t<li>Seychelles</li>\n",
       "\t<li>Syrian Arab Republic</li>\n",
       "\t<li>Chad</li>\n",
       "\t<li>Togo</li>\n",
       "\t<li>Thailand</li>\n",
       "\t<li>Tajikistan</li>\n",
       "\t<li>Turkmenistan</li>\n",
       "\t<li>Timor-Leste</li>\n",
       "\t<li>Tonga</li>\n",
       "\t<li>Trinidad and Tobago</li>\n",
       "\t<li>Tunisia</li>\n",
       "\t<li>Turkey</li>\n",
       "\t<li>Tanzania</li>\n",
       "\t<li>Uganda</li>\n",
       "\t<li>Ukraine</li>\n",
       "\t<li>Uruguay</li>\n",
       "\t<li>United States</li>\n",
       "\t<li>Uzbekistan</li>\n",
       "\t<li>St. Vincent and the Grenadines</li>\n",
       "\t<li>Venezuela, RB</li>\n",
       "\t<li>Virgin Islands (U.S.)</li>\n",
       "\t<li>Vietnam</li>\n",
       "\t<li>Vanuatu</li>\n",
       "\t<li>West Bank and Gaza</li>\n",
       "\t<li>Samoa</li>\n",
       "\t<li>Yemen, Rep.</li>\n",
       "\t<li>South Africa</li>\n",
       "\t<li>Congo, Dem. Rep.</li>\n",
       "\t<li>Zambia</li>\n",
       "\t<li>Zimbabwe</li>\n",
       "</ol>\n",
       "\n",
       "<details>\n",
       "\t<summary style=display:list-item;cursor:pointer>\n",
       "\t\t<strong>Levels</strong>:\n",
       "\t</summary>\n",
       "\t<ol class=list-inline>\n",
       "\t\t<li>'Afghanistan'</li>\n",
       "\t\t<li>'Albania'</li>\n",
       "\t\t<li>'Algeria'</li>\n",
       "\t\t<li>'Angola'</li>\n",
       "\t\t<li>'Antigua and Barbuda'</li>\n",
       "\t\t<li>'Argentina'</li>\n",
       "\t\t<li>'Armenia'</li>\n",
       "\t\t<li>'Aruba'</li>\n",
       "\t\t<li>'Australia'</li>\n",
       "\t\t<li>'Austria'</li>\n",
       "\t\t<li>'Azerbaijan'</li>\n",
       "\t\t<li>'Bahamas, The'</li>\n",
       "\t\t<li>'Bahrain'</li>\n",
       "\t\t<li>'Bangladesh'</li>\n",
       "\t\t<li>'Barbados'</li>\n",
       "\t\t<li>'Belarus'</li>\n",
       "\t\t<li>'Belgium'</li>\n",
       "\t\t<li>'Belize'</li>\n",
       "\t\t<li>'Benin'</li>\n",
       "\t\t<li>'Bermuda'</li>\n",
       "\t\t<li>'Bhutan'</li>\n",
       "\t\t<li>'Bolivia'</li>\n",
       "\t\t<li>'Bosnia and Herzegovina'</li>\n",
       "\t\t<li>'Botswana'</li>\n",
       "\t\t<li>'Brazil'</li>\n",
       "\t\t<li>'Brunei Darussalam'</li>\n",
       "\t\t<li>'Bulgaria'</li>\n",
       "\t\t<li>'Burkina Faso'</li>\n",
       "\t\t<li>'Burundi'</li>\n",
       "\t\t<li>'Cabo Verde'</li>\n",
       "\t\t<li>'Cambodia'</li>\n",
       "\t\t<li>'Cameroon'</li>\n",
       "\t\t<li>'Canada'</li>\n",
       "\t\t<li>'Cayman Islands'</li>\n",
       "\t\t<li>'Central African Republic'</li>\n",
       "\t\t<li>'Chad'</li>\n",
       "\t\t<li>'Chile'</li>\n",
       "\t\t<li>'China'</li>\n",
       "\t\t<li>'Colombia'</li>\n",
       "\t\t<li>'Comoros'</li>\n",
       "\t\t<li>'Congo, Dem. Rep.'</li>\n",
       "\t\t<li>'Congo, Rep.'</li>\n",
       "\t\t<li>'Costa Rica'</li>\n",
       "\t\t<li>'Cote d\\'Ivoire'</li>\n",
       "\t\t<li>'Croatia'</li>\n",
       "\t\t<li>'Cuba'</li>\n",
       "\t\t<li>'Cyprus'</li>\n",
       "\t\t<li>'Czech Republic'</li>\n",
       "\t\t<li>'Denmark'</li>\n",
       "\t\t<li>'Djibouti'</li>\n",
       "\t\t<li>'Dominican Republic'</li>\n",
       "\t\t<li>'Ecuador'</li>\n",
       "\t\t<li>'Egypt, Arab Rep.'</li>\n",
       "\t\t<li>'El Salvador'</li>\n",
       "\t\t<li>'Equatorial Guinea'</li>\n",
       "\t\t<li>'Eritrea'</li>\n",
       "\t\t<li>'Estonia'</li>\n",
       "\t\t<li>'Ethiopia'</li>\n",
       "\t\t<li>'Fiji'</li>\n",
       "\t\t<li>'Finland'</li>\n",
       "\t\t<li>'France'</li>\n",
       "\t\t<li>'French Polynesia'</li>\n",
       "\t\t<li>'Gabon'</li>\n",
       "\t\t<li>'Gambia, The'</li>\n",
       "\t\t<li>'Georgia'</li>\n",
       "\t\t<li>'Germany'</li>\n",
       "\t\t<li>'Ghana'</li>\n",
       "\t\t<li>'Greece'</li>\n",
       "\t\t<li>'Greenland'</li>\n",
       "\t\t<li>'Grenada'</li>\n",
       "\t\t<li>'Guam'</li>\n",
       "\t\t<li>'Guatemala'</li>\n",
       "\t\t<li>'Guinea'</li>\n",
       "\t\t<li>'Guinea-Bissau'</li>\n",
       "\t\t<li>'Guyana'</li>\n",
       "\t\t<li>'Haiti'</li>\n",
       "\t\t<li>'Honduras'</li>\n",
       "\t\t<li>'Hong Kong SAR, China'</li>\n",
       "\t\t<li>'Hungary'</li>\n",
       "\t\t<li>'Iceland'</li>\n",
       "\t\t<li>'India'</li>\n",
       "\t\t<li>'Indonesia'</li>\n",
       "\t\t<li>'Iran, Islamic Rep.'</li>\n",
       "\t\t<li>'Iraq'</li>\n",
       "\t\t<li>'Ireland'</li>\n",
       "\t\t<li>'Israel'</li>\n",
       "\t\t<li>'Italy'</li>\n",
       "\t\t<li>'Jamaica'</li>\n",
       "\t\t<li>'Japan'</li>\n",
       "\t\t<li>'Jordan'</li>\n",
       "\t\t<li>'Kazakhstan'</li>\n",
       "\t\t<li>'Kenya'</li>\n",
       "\t\t<li>'Kiribati'</li>\n",
       "\t\t<li>'Korea, Rep.'</li>\n",
       "\t\t<li>'Kuwait'</li>\n",
       "\t\t<li>'Kyrgyz Republic'</li>\n",
       "\t\t<li>'Lao PDR'</li>\n",
       "\t\t<li>'Latvia'</li>\n",
       "\t\t<li>'Lebanon'</li>\n",
       "\t\t<li>'Lesotho'</li>\n",
       "\t\t<li>'Liberia'</li>\n",
       "\t\t<li>'Libya'</li>\n",
       "\t\t<li>'Liechtenstein'</li>\n",
       "\t\t<li>'Lithuania'</li>\n",
       "\t\t<li>'Luxembourg'</li>\n",
       "\t\t<li>'Macao SAR, China'</li>\n",
       "\t\t<li>'Macedonia, FYR'</li>\n",
       "\t\t<li>'Madagascar'</li>\n",
       "\t\t<li>'Malawi'</li>\n",
       "\t\t<li>'Malaysia'</li>\n",
       "\t\t<li>'Maldives'</li>\n",
       "\t\t<li>'Mali'</li>\n",
       "\t\t<li>'Malta'</li>\n",
       "\t\t<li>'Mauritania'</li>\n",
       "\t\t<li>'Mauritius'</li>\n",
       "\t\t<li>'Mexico'</li>\n",
       "\t\t<li>'Micronesia, Fed. Sts.'</li>\n",
       "\t\t<li>'Moldova'</li>\n",
       "\t\t<li>'Mongolia'</li>\n",
       "\t\t<li>'Montenegro'</li>\n",
       "\t\t<li>'Morocco'</li>\n",
       "\t\t<li>'Mozambique'</li>\n",
       "\t\t<li>'Myanmar'</li>\n",
       "\t\t<li>'Namibia'</li>\n",
       "\t\t<li>'Nepal'</li>\n",
       "\t\t<li>'Netherlands'</li>\n",
       "\t\t<li>'New Caledonia'</li>\n",
       "\t\t<li>'New Zealand'</li>\n",
       "\t\t<li>'Nicaragua'</li>\n",
       "\t\t<li>'Niger'</li>\n",
       "\t\t<li>'Nigeria'</li>\n",
       "\t\t<li>'Norway'</li>\n",
       "\t\t<li>'Oman'</li>\n",
       "\t\t<li>'Pakistan'</li>\n",
       "\t\t<li>'Panama'</li>\n",
       "\t\t<li>'Papua New Guinea'</li>\n",
       "\t\t<li>'Paraguay'</li>\n",
       "\t\t<li>'Peru'</li>\n",
       "\t\t<li>'Philippines'</li>\n",
       "\t\t<li>'Poland'</li>\n",
       "\t\t<li>'Portugal'</li>\n",
       "\t\t<li>'Puerto Rico'</li>\n",
       "\t\t<li>'Qatar'</li>\n",
       "\t\t<li>'Romania'</li>\n",
       "\t\t<li>'Russian Federation'</li>\n",
       "\t\t<li>'Rwanda'</li>\n",
       "\t\t<li>'Samoa'</li>\n",
       "\t\t<li>'Sao Tome and Principe'</li>\n",
       "\t\t<li>'Saudi Arabia'</li>\n",
       "\t\t<li>'Senegal'</li>\n",
       "\t\t<li>'Serbia'</li>\n",
       "\t\t<li>'Seychelles'</li>\n",
       "\t\t<li>'Sierra Leone'</li>\n",
       "\t\t<li>'Singapore'</li>\n",
       "\t\t<li>'Slovak Republic'</li>\n",
       "\t\t<li>'Slovenia'</li>\n",
       "\t\t<li>'Solomon Islands'</li>\n",
       "\t\t<li>'Somalia'</li>\n",
       "\t\t<li>'South Africa'</li>\n",
       "\t\t<li>'South Sudan'</li>\n",
       "\t\t<li>'Spain'</li>\n",
       "\t\t<li>'Sri Lanka'</li>\n",
       "\t\t<li>'St. Lucia'</li>\n",
       "\t\t<li>'St. Vincent and the Grenadines'</li>\n",
       "\t\t<li>'Sudan'</li>\n",
       "\t\t<li>'Suriname'</li>\n",
       "\t\t<li>'Swaziland'</li>\n",
       "\t\t<li>'Sweden'</li>\n",
       "\t\t<li>'Switzerland'</li>\n",
       "\t\t<li>'Syrian Arab Republic'</li>\n",
       "\t\t<li>'Tajikistan'</li>\n",
       "\t\t<li>'Tanzania'</li>\n",
       "\t\t<li>'Thailand'</li>\n",
       "\t\t<li>'Timor-Leste'</li>\n",
       "\t\t<li>'Togo'</li>\n",
       "\t\t<li>'Tonga'</li>\n",
       "\t\t<li>'Trinidad and Tobago'</li>\n",
       "\t\t<li>'Tunisia'</li>\n",
       "\t\t<li>'Turkey'</li>\n",
       "\t\t<li>'Turkmenistan'</li>\n",
       "\t\t<li>'Uganda'</li>\n",
       "\t\t<li>'Ukraine'</li>\n",
       "\t\t<li>'United Arab Emirates'</li>\n",
       "\t\t<li>'United Kingdom'</li>\n",
       "\t\t<li>'United States'</li>\n",
       "\t\t<li>'Uruguay'</li>\n",
       "\t\t<li>'Uzbekistan'</li>\n",
       "\t\t<li>'Vanuatu'</li>\n",
       "\t\t<li>'Venezuela, RB'</li>\n",
       "\t\t<li>'Vietnam'</li>\n",
       "\t\t<li>'Virgin Islands (U.S.)'</li>\n",
       "\t\t<li>'West Bank and Gaza'</li>\n",
       "\t\t<li>'Yemen, Rep.'</li>\n",
       "\t\t<li>'Zambia'</li>\n",
       "\t\t<li>'Zimbabwe'</li>\n",
       "\t</ol>\n",
       "</details>"
      ],
      "text/latex": [
       "\\begin{enumerate*}\n",
       "\\item Aruba\n",
       "\\item Afghanistan\n",
       "\\item Angola\n",
       "\\item Albania\n",
       "\\item United Arab Emirates\n",
       "\\item Argentina\n",
       "\\item Armenia\n",
       "\\item Antigua and Barbuda\n",
       "\\item Australia\n",
       "\\item Austria\n",
       "\\item Azerbaijan\n",
       "\\item Burundi\n",
       "\\item Belgium\n",
       "\\item Benin\n",
       "\\item Burkina Faso\n",
       "\\item Bangladesh\n",
       "\\item Bulgaria\n",
       "\\item Bahrain\n",
       "\\item Bahamas, The\n",
       "\\item Bosnia and Herzegovina\n",
       "\\item Belarus\n",
       "\\item Belize\n",
       "\\item Bermuda\n",
       "\\item Bolivia\n",
       "\\item Brazil\n",
       "\\item Barbados\n",
       "\\item Brunei Darussalam\n",
       "\\item Bhutan\n",
       "\\item Botswana\n",
       "\\item Central African Republic\n",
       "\\item Canada\n",
       "\\item Switzerland\n",
       "\\item Chile\n",
       "\\item China\n",
       "\\item Cote d'Ivoire\n",
       "\\item Cameroon\n",
       "\\item Congo, Rep.\n",
       "\\item Colombia\n",
       "\\item Comoros\n",
       "\\item Cabo Verde\n",
       "\\item Costa Rica\n",
       "\\item Cuba\n",
       "\\item Cayman Islands\n",
       "\\item Cyprus\n",
       "\\item Czech Republic\n",
       "\\item Germany\n",
       "\\item Djibouti\n",
       "\\item Denmark\n",
       "\\item Dominican Republic\n",
       "\\item Algeria\n",
       "\\item Ecuador\n",
       "\\item Egypt, Arab Rep.\n",
       "\\item Eritrea\n",
       "\\item Spain\n",
       "\\item Estonia\n",
       "\\item Ethiopia\n",
       "\\item Finland\n",
       "\\item Fiji\n",
       "\\item France\n",
       "\\item Micronesia, Fed. Sts.\n",
       "\\item Gabon\n",
       "\\item United Kingdom\n",
       "\\item Georgia\n",
       "\\item Ghana\n",
       "\\item Guinea\n",
       "\\item Gambia, The\n",
       "\\item Guinea-Bissau\n",
       "\\item Equatorial Guinea\n",
       "\\item Greece\n",
       "\\item Grenada\n",
       "\\item Greenland\n",
       "\\item Guatemala\n",
       "\\item Guam\n",
       "\\item Guyana\n",
       "\\item Hong Kong SAR, China\n",
       "\\item Honduras\n",
       "\\item Croatia\n",
       "\\item Haiti\n",
       "\\item Hungary\n",
       "\\item Indonesia\n",
       "\\item India\n",
       "\\item Ireland\n",
       "\\item Iran, Islamic Rep.\n",
       "\\item Iraq\n",
       "\\item Iceland\n",
       "\\item Israel\n",
       "\\item Italy\n",
       "\\item Jamaica\n",
       "\\item Jordan\n",
       "\\item Japan\n",
       "\\item Kazakhstan\n",
       "\\item Kenya\n",
       "\\item Kyrgyz Republic\n",
       "\\item Cambodia\n",
       "\\item Kiribati\n",
       "\\item Korea, Rep.\n",
       "\\item Kuwait\n",
       "\\item Lao PDR\n",
       "\\item Lebanon\n",
       "\\item Liberia\n",
       "\\item Libya\n",
       "\\item St. Lucia\n",
       "\\item Liechtenstein\n",
       "\\item Sri Lanka\n",
       "\\item Lesotho\n",
       "\\item Lithuania\n",
       "\\item Luxembourg\n",
       "\\item Latvia\n",
       "\\item Macao SAR, China\n",
       "\\item Morocco\n",
       "\\item Moldova\n",
       "\\item Madagascar\n",
       "\\item Maldives\n",
       "\\item Mexico\n",
       "\\item Macedonia, FYR\n",
       "\\item Mali\n",
       "\\item Malta\n",
       "\\item Myanmar\n",
       "\\item Montenegro\n",
       "\\item Mongolia\n",
       "\\item Mozambique\n",
       "\\item Mauritania\n",
       "\\item Mauritius\n",
       "\\item Malawi\n",
       "\\item Malaysia\n",
       "\\item Namibia\n",
       "\\item New Caledonia\n",
       "\\item Niger\n",
       "\\item Nigeria\n",
       "\\item Nicaragua\n",
       "\\item Netherlands\n",
       "\\item Norway\n",
       "\\item Nepal\n",
       "\\item New Zealand\n",
       "\\item Oman\n",
       "\\item Pakistan\n",
       "\\item Panama\n",
       "\\item Peru\n",
       "\\item Philippines\n",
       "\\item Papua New Guinea\n",
       "\\item Poland\n",
       "\\item Puerto Rico\n",
       "\\item Portugal\n",
       "\\item Paraguay\n",
       "\\item French Polynesia\n",
       "\\item Qatar\n",
       "\\item Romania\n",
       "\\item Russian Federation\n",
       "\\item Rwanda\n",
       "\\item Saudi Arabia\n",
       "\\item Sudan\n",
       "\\item Senegal\n",
       "\\item Singapore\n",
       "\\item Solomon Islands\n",
       "\\item Sierra Leone\n",
       "\\item El Salvador\n",
       "\\item Somalia\n",
       "\\item Serbia\n",
       "\\item South Sudan\n",
       "\\item Sao Tome and Principe\n",
       "\\item Suriname\n",
       "\\item Slovak Republic\n",
       "\\item Slovenia\n",
       "\\item Sweden\n",
       "\\item Swaziland\n",
       "\\item Seychelles\n",
       "\\item Syrian Arab Republic\n",
       "\\item Chad\n",
       "\\item Togo\n",
       "\\item Thailand\n",
       "\\item Tajikistan\n",
       "\\item Turkmenistan\n",
       "\\item Timor-Leste\n",
       "\\item Tonga\n",
       "\\item Trinidad and Tobago\n",
       "\\item Tunisia\n",
       "\\item Turkey\n",
       "\\item Tanzania\n",
       "\\item Uganda\n",
       "\\item Ukraine\n",
       "\\item Uruguay\n",
       "\\item United States\n",
       "\\item Uzbekistan\n",
       "\\item St. Vincent and the Grenadines\n",
       "\\item Venezuela, RB\n",
       "\\item Virgin Islands (U.S.)\n",
       "\\item Vietnam\n",
       "\\item Vanuatu\n",
       "\\item West Bank and Gaza\n",
       "\\item Samoa\n",
       "\\item Yemen, Rep.\n",
       "\\item South Africa\n",
       "\\item Congo, Dem. Rep.\n",
       "\\item Zambia\n",
       "\\item Zimbabwe\n",
       "\\end{enumerate*}\n",
       "\n",
       "\\emph{Levels}: \\begin{enumerate*}\n",
       "\\item 'Afghanistan'\n",
       "\\item 'Albania'\n",
       "\\item 'Algeria'\n",
       "\\item 'Angola'\n",
       "\\item 'Antigua and Barbuda'\n",
       "\\item 'Argentina'\n",
       "\\item 'Armenia'\n",
       "\\item 'Aruba'\n",
       "\\item 'Australia'\n",
       "\\item 'Austria'\n",
       "\\item 'Azerbaijan'\n",
       "\\item 'Bahamas, The'\n",
       "\\item 'Bahrain'\n",
       "\\item 'Bangladesh'\n",
       "\\item 'Barbados'\n",
       "\\item 'Belarus'\n",
       "\\item 'Belgium'\n",
       "\\item 'Belize'\n",
       "\\item 'Benin'\n",
       "\\item 'Bermuda'\n",
       "\\item 'Bhutan'\n",
       "\\item 'Bolivia'\n",
       "\\item 'Bosnia and Herzegovina'\n",
       "\\item 'Botswana'\n",
       "\\item 'Brazil'\n",
       "\\item 'Brunei Darussalam'\n",
       "\\item 'Bulgaria'\n",
       "\\item 'Burkina Faso'\n",
       "\\item 'Burundi'\n",
       "\\item 'Cabo Verde'\n",
       "\\item 'Cambodia'\n",
       "\\item 'Cameroon'\n",
       "\\item 'Canada'\n",
       "\\item 'Cayman Islands'\n",
       "\\item 'Central African Republic'\n",
       "\\item 'Chad'\n",
       "\\item 'Chile'\n",
       "\\item 'China'\n",
       "\\item 'Colombia'\n",
       "\\item 'Comoros'\n",
       "\\item 'Congo, Dem. Rep.'\n",
       "\\item 'Congo, Rep.'\n",
       "\\item 'Costa Rica'\n",
       "\\item 'Cote d\\textbackslash{}'Ivoire'\n",
       "\\item 'Croatia'\n",
       "\\item 'Cuba'\n",
       "\\item 'Cyprus'\n",
       "\\item 'Czech Republic'\n",
       "\\item 'Denmark'\n",
       "\\item 'Djibouti'\n",
       "\\item 'Dominican Republic'\n",
       "\\item 'Ecuador'\n",
       "\\item 'Egypt, Arab Rep.'\n",
       "\\item 'El Salvador'\n",
       "\\item 'Equatorial Guinea'\n",
       "\\item 'Eritrea'\n",
       "\\item 'Estonia'\n",
       "\\item 'Ethiopia'\n",
       "\\item 'Fiji'\n",
       "\\item 'Finland'\n",
       "\\item 'France'\n",
       "\\item 'French Polynesia'\n",
       "\\item 'Gabon'\n",
       "\\item 'Gambia, The'\n",
       "\\item 'Georgia'\n",
       "\\item 'Germany'\n",
       "\\item 'Ghana'\n",
       "\\item 'Greece'\n",
       "\\item 'Greenland'\n",
       "\\item 'Grenada'\n",
       "\\item 'Guam'\n",
       "\\item 'Guatemala'\n",
       "\\item 'Guinea'\n",
       "\\item 'Guinea-Bissau'\n",
       "\\item 'Guyana'\n",
       "\\item 'Haiti'\n",
       "\\item 'Honduras'\n",
       "\\item 'Hong Kong SAR, China'\n",
       "\\item 'Hungary'\n",
       "\\item 'Iceland'\n",
       "\\item 'India'\n",
       "\\item 'Indonesia'\n",
       "\\item 'Iran, Islamic Rep.'\n",
       "\\item 'Iraq'\n",
       "\\item 'Ireland'\n",
       "\\item 'Israel'\n",
       "\\item 'Italy'\n",
       "\\item 'Jamaica'\n",
       "\\item 'Japan'\n",
       "\\item 'Jordan'\n",
       "\\item 'Kazakhstan'\n",
       "\\item 'Kenya'\n",
       "\\item 'Kiribati'\n",
       "\\item 'Korea, Rep.'\n",
       "\\item 'Kuwait'\n",
       "\\item 'Kyrgyz Republic'\n",
       "\\item 'Lao PDR'\n",
       "\\item 'Latvia'\n",
       "\\item 'Lebanon'\n",
       "\\item 'Lesotho'\n",
       "\\item 'Liberia'\n",
       "\\item 'Libya'\n",
       "\\item 'Liechtenstein'\n",
       "\\item 'Lithuania'\n",
       "\\item 'Luxembourg'\n",
       "\\item 'Macao SAR, China'\n",
       "\\item 'Macedonia, FYR'\n",
       "\\item 'Madagascar'\n",
       "\\item 'Malawi'\n",
       "\\item 'Malaysia'\n",
       "\\item 'Maldives'\n",
       "\\item 'Mali'\n",
       "\\item 'Malta'\n",
       "\\item 'Mauritania'\n",
       "\\item 'Mauritius'\n",
       "\\item 'Mexico'\n",
       "\\item 'Micronesia, Fed. Sts.'\n",
       "\\item 'Moldova'\n",
       "\\item 'Mongolia'\n",
       "\\item 'Montenegro'\n",
       "\\item 'Morocco'\n",
       "\\item 'Mozambique'\n",
       "\\item 'Myanmar'\n",
       "\\item 'Namibia'\n",
       "\\item 'Nepal'\n",
       "\\item 'Netherlands'\n",
       "\\item 'New Caledonia'\n",
       "\\item 'New Zealand'\n",
       "\\item 'Nicaragua'\n",
       "\\item 'Niger'\n",
       "\\item 'Nigeria'\n",
       "\\item 'Norway'\n",
       "\\item 'Oman'\n",
       "\\item 'Pakistan'\n",
       "\\item 'Panama'\n",
       "\\item 'Papua New Guinea'\n",
       "\\item 'Paraguay'\n",
       "\\item 'Peru'\n",
       "\\item 'Philippines'\n",
       "\\item 'Poland'\n",
       "\\item 'Portugal'\n",
       "\\item 'Puerto Rico'\n",
       "\\item 'Qatar'\n",
       "\\item 'Romania'\n",
       "\\item 'Russian Federation'\n",
       "\\item 'Rwanda'\n",
       "\\item 'Samoa'\n",
       "\\item 'Sao Tome and Principe'\n",
       "\\item 'Saudi Arabia'\n",
       "\\item 'Senegal'\n",
       "\\item 'Serbia'\n",
       "\\item 'Seychelles'\n",
       "\\item 'Sierra Leone'\n",
       "\\item 'Singapore'\n",
       "\\item 'Slovak Republic'\n",
       "\\item 'Slovenia'\n",
       "\\item 'Solomon Islands'\n",
       "\\item 'Somalia'\n",
       "\\item 'South Africa'\n",
       "\\item 'South Sudan'\n",
       "\\item 'Spain'\n",
       "\\item 'Sri Lanka'\n",
       "\\item 'St. Lucia'\n",
       "\\item 'St. Vincent and the Grenadines'\n",
       "\\item 'Sudan'\n",
       "\\item 'Suriname'\n",
       "\\item 'Swaziland'\n",
       "\\item 'Sweden'\n",
       "\\item 'Switzerland'\n",
       "\\item 'Syrian Arab Republic'\n",
       "\\item 'Tajikistan'\n",
       "\\item 'Tanzania'\n",
       "\\item 'Thailand'\n",
       "\\item 'Timor-Leste'\n",
       "\\item 'Togo'\n",
       "\\item 'Tonga'\n",
       "\\item 'Trinidad and Tobago'\n",
       "\\item 'Tunisia'\n",
       "\\item 'Turkey'\n",
       "\\item 'Turkmenistan'\n",
       "\\item 'Uganda'\n",
       "\\item 'Ukraine'\n",
       "\\item 'United Arab Emirates'\n",
       "\\item 'United Kingdom'\n",
       "\\item 'United States'\n",
       "\\item 'Uruguay'\n",
       "\\item 'Uzbekistan'\n",
       "\\item 'Vanuatu'\n",
       "\\item 'Venezuela, RB'\n",
       "\\item 'Vietnam'\n",
       "\\item 'Virgin Islands (U.S.)'\n",
       "\\item 'West Bank and Gaza'\n",
       "\\item 'Yemen, Rep.'\n",
       "\\item 'Zambia'\n",
       "\\item 'Zimbabwe'\n",
       "\\end{enumerate*}\n"
      ],
      "text/markdown": [
       "1. Aruba\n",
       "2. Afghanistan\n",
       "3. Angola\n",
       "4. Albania\n",
       "5. United Arab Emirates\n",
       "6. Argentina\n",
       "7. Armenia\n",
       "8. Antigua and Barbuda\n",
       "9. Australia\n",
       "10. Austria\n",
       "11. Azerbaijan\n",
       "12. Burundi\n",
       "13. Belgium\n",
       "14. Benin\n",
       "15. Burkina Faso\n",
       "16. Bangladesh\n",
       "17. Bulgaria\n",
       "18. Bahrain\n",
       "19. Bahamas, The\n",
       "20. Bosnia and Herzegovina\n",
       "21. Belarus\n",
       "22. Belize\n",
       "23. Bermuda\n",
       "24. Bolivia\n",
       "25. Brazil\n",
       "26. Barbados\n",
       "27. Brunei Darussalam\n",
       "28. Bhutan\n",
       "29. Botswana\n",
       "30. Central African Republic\n",
       "31. Canada\n",
       "32. Switzerland\n",
       "33. Chile\n",
       "34. China\n",
       "35. Cote d'Ivoire\n",
       "36. Cameroon\n",
       "37. Congo, Rep.\n",
       "38. Colombia\n",
       "39. Comoros\n",
       "40. Cabo Verde\n",
       "41. Costa Rica\n",
       "42. Cuba\n",
       "43. Cayman Islands\n",
       "44. Cyprus\n",
       "45. Czech Republic\n",
       "46. Germany\n",
       "47. Djibouti\n",
       "48. Denmark\n",
       "49. Dominican Republic\n",
       "50. Algeria\n",
       "51. Ecuador\n",
       "52. Egypt, Arab Rep.\n",
       "53. Eritrea\n",
       "54. Spain\n",
       "55. Estonia\n",
       "56. Ethiopia\n",
       "57. Finland\n",
       "58. Fiji\n",
       "59. France\n",
       "60. Micronesia, Fed. Sts.\n",
       "61. Gabon\n",
       "62. United Kingdom\n",
       "63. Georgia\n",
       "64. Ghana\n",
       "65. Guinea\n",
       "66. Gambia, The\n",
       "67. Guinea-Bissau\n",
       "68. Equatorial Guinea\n",
       "69. Greece\n",
       "70. Grenada\n",
       "71. Greenland\n",
       "72. Guatemala\n",
       "73. Guam\n",
       "74. Guyana\n",
       "75. Hong Kong SAR, China\n",
       "76. Honduras\n",
       "77. Croatia\n",
       "78. Haiti\n",
       "79. Hungary\n",
       "80. Indonesia\n",
       "81. India\n",
       "82. Ireland\n",
       "83. Iran, Islamic Rep.\n",
       "84. Iraq\n",
       "85. Iceland\n",
       "86. Israel\n",
       "87. Italy\n",
       "88. Jamaica\n",
       "89. Jordan\n",
       "90. Japan\n",
       "91. Kazakhstan\n",
       "92. Kenya\n",
       "93. Kyrgyz Republic\n",
       "94. Cambodia\n",
       "95. Kiribati\n",
       "96. Korea, Rep.\n",
       "97. Kuwait\n",
       "98. Lao PDR\n",
       "99. Lebanon\n",
       "100. Liberia\n",
       "101. Libya\n",
       "102. St. Lucia\n",
       "103. Liechtenstein\n",
       "104. Sri Lanka\n",
       "105. Lesotho\n",
       "106. Lithuania\n",
       "107. Luxembourg\n",
       "108. Latvia\n",
       "109. Macao SAR, China\n",
       "110. Morocco\n",
       "111. Moldova\n",
       "112. Madagascar\n",
       "113. Maldives\n",
       "114. Mexico\n",
       "115. Macedonia, FYR\n",
       "116. Mali\n",
       "117. Malta\n",
       "118. Myanmar\n",
       "119. Montenegro\n",
       "120. Mongolia\n",
       "121. Mozambique\n",
       "122. Mauritania\n",
       "123. Mauritius\n",
       "124. Malawi\n",
       "125. Malaysia\n",
       "126. Namibia\n",
       "127. New Caledonia\n",
       "128. Niger\n",
       "129. Nigeria\n",
       "130. Nicaragua\n",
       "131. Netherlands\n",
       "132. Norway\n",
       "133. Nepal\n",
       "134. New Zealand\n",
       "135. Oman\n",
       "136. Pakistan\n",
       "137. Panama\n",
       "138. Peru\n",
       "139. Philippines\n",
       "140. Papua New Guinea\n",
       "141. Poland\n",
       "142. Puerto Rico\n",
       "143. Portugal\n",
       "144. Paraguay\n",
       "145. French Polynesia\n",
       "146. Qatar\n",
       "147. Romania\n",
       "148. Russian Federation\n",
       "149. Rwanda\n",
       "150. Saudi Arabia\n",
       "151. Sudan\n",
       "152. Senegal\n",
       "153. Singapore\n",
       "154. Solomon Islands\n",
       "155. Sierra Leone\n",
       "156. El Salvador\n",
       "157. Somalia\n",
       "158. Serbia\n",
       "159. South Sudan\n",
       "160. Sao Tome and Principe\n",
       "161. Suriname\n",
       "162. Slovak Republic\n",
       "163. Slovenia\n",
       "164. Sweden\n",
       "165. Swaziland\n",
       "166. Seychelles\n",
       "167. Syrian Arab Republic\n",
       "168. Chad\n",
       "169. Togo\n",
       "170. Thailand\n",
       "171. Tajikistan\n",
       "172. Turkmenistan\n",
       "173. Timor-Leste\n",
       "174. Tonga\n",
       "175. Trinidad and Tobago\n",
       "176. Tunisia\n",
       "177. Turkey\n",
       "178. Tanzania\n",
       "179. Uganda\n",
       "180. Ukraine\n",
       "181. Uruguay\n",
       "182. United States\n",
       "183. Uzbekistan\n",
       "184. St. Vincent and the Grenadines\n",
       "185. Venezuela, RB\n",
       "186. Virgin Islands (U.S.)\n",
       "187. Vietnam\n",
       "188. Vanuatu\n",
       "189. West Bank and Gaza\n",
       "190. Samoa\n",
       "191. Yemen, Rep.\n",
       "192. South Africa\n",
       "193. Congo, Dem. Rep.\n",
       "194. Zambia\n",
       "195. Zimbabwe\n",
       "\n",
       "\n",
       "\n",
       "**Levels**: 1. 'Afghanistan'\n",
       "2. 'Albania'\n",
       "3. 'Algeria'\n",
       "4. 'Angola'\n",
       "5. 'Antigua and Barbuda'\n",
       "6. 'Argentina'\n",
       "7. 'Armenia'\n",
       "8. 'Aruba'\n",
       "9. 'Australia'\n",
       "10. 'Austria'\n",
       "11. 'Azerbaijan'\n",
       "12. 'Bahamas, The'\n",
       "13. 'Bahrain'\n",
       "14. 'Bangladesh'\n",
       "15. 'Barbados'\n",
       "16. 'Belarus'\n",
       "17. 'Belgium'\n",
       "18. 'Belize'\n",
       "19. 'Benin'\n",
       "20. 'Bermuda'\n",
       "21. 'Bhutan'\n",
       "22. 'Bolivia'\n",
       "23. 'Bosnia and Herzegovina'\n",
       "24. 'Botswana'\n",
       "25. 'Brazil'\n",
       "26. 'Brunei Darussalam'\n",
       "27. 'Bulgaria'\n",
       "28. 'Burkina Faso'\n",
       "29. 'Burundi'\n",
       "30. 'Cabo Verde'\n",
       "31. 'Cambodia'\n",
       "32. 'Cameroon'\n",
       "33. 'Canada'\n",
       "34. 'Cayman Islands'\n",
       "35. 'Central African Republic'\n",
       "36. 'Chad'\n",
       "37. 'Chile'\n",
       "38. 'China'\n",
       "39. 'Colombia'\n",
       "40. 'Comoros'\n",
       "41. 'Congo, Dem. Rep.'\n",
       "42. 'Congo, Rep.'\n",
       "43. 'Costa Rica'\n",
       "44. 'Cote d\\'Ivoire'\n",
       "45. 'Croatia'\n",
       "46. 'Cuba'\n",
       "47. 'Cyprus'\n",
       "48. 'Czech Republic'\n",
       "49. 'Denmark'\n",
       "50. 'Djibouti'\n",
       "51. 'Dominican Republic'\n",
       "52. 'Ecuador'\n",
       "53. 'Egypt, Arab Rep.'\n",
       "54. 'El Salvador'\n",
       "55. 'Equatorial Guinea'\n",
       "56. 'Eritrea'\n",
       "57. 'Estonia'\n",
       "58. 'Ethiopia'\n",
       "59. 'Fiji'\n",
       "60. 'Finland'\n",
       "61. 'France'\n",
       "62. 'French Polynesia'\n",
       "63. 'Gabon'\n",
       "64. 'Gambia, The'\n",
       "65. 'Georgia'\n",
       "66. 'Germany'\n",
       "67. 'Ghana'\n",
       "68. 'Greece'\n",
       "69. 'Greenland'\n",
       "70. 'Grenada'\n",
       "71. 'Guam'\n",
       "72. 'Guatemala'\n",
       "73. 'Guinea'\n",
       "74. 'Guinea-Bissau'\n",
       "75. 'Guyana'\n",
       "76. 'Haiti'\n",
       "77. 'Honduras'\n",
       "78. 'Hong Kong SAR, China'\n",
       "79. 'Hungary'\n",
       "80. 'Iceland'\n",
       "81. 'India'\n",
       "82. 'Indonesia'\n",
       "83. 'Iran, Islamic Rep.'\n",
       "84. 'Iraq'\n",
       "85. 'Ireland'\n",
       "86. 'Israel'\n",
       "87. 'Italy'\n",
       "88. 'Jamaica'\n",
       "89. 'Japan'\n",
       "90. 'Jordan'\n",
       "91. 'Kazakhstan'\n",
       "92. 'Kenya'\n",
       "93. 'Kiribati'\n",
       "94. 'Korea, Rep.'\n",
       "95. 'Kuwait'\n",
       "96. 'Kyrgyz Republic'\n",
       "97. 'Lao PDR'\n",
       "98. 'Latvia'\n",
       "99. 'Lebanon'\n",
       "100. 'Lesotho'\n",
       "101. 'Liberia'\n",
       "102. 'Libya'\n",
       "103. 'Liechtenstein'\n",
       "104. 'Lithuania'\n",
       "105. 'Luxembourg'\n",
       "106. 'Macao SAR, China'\n",
       "107. 'Macedonia, FYR'\n",
       "108. 'Madagascar'\n",
       "109. 'Malawi'\n",
       "110. 'Malaysia'\n",
       "111. 'Maldives'\n",
       "112. 'Mali'\n",
       "113. 'Malta'\n",
       "114. 'Mauritania'\n",
       "115. 'Mauritius'\n",
       "116. 'Mexico'\n",
       "117. 'Micronesia, Fed. Sts.'\n",
       "118. 'Moldova'\n",
       "119. 'Mongolia'\n",
       "120. 'Montenegro'\n",
       "121. 'Morocco'\n",
       "122. 'Mozambique'\n",
       "123. 'Myanmar'\n",
       "124. 'Namibia'\n",
       "125. 'Nepal'\n",
       "126. 'Netherlands'\n",
       "127. 'New Caledonia'\n",
       "128. 'New Zealand'\n",
       "129. 'Nicaragua'\n",
       "130. 'Niger'\n",
       "131. 'Nigeria'\n",
       "132. 'Norway'\n",
       "133. 'Oman'\n",
       "134. 'Pakistan'\n",
       "135. 'Panama'\n",
       "136. 'Papua New Guinea'\n",
       "137. 'Paraguay'\n",
       "138. 'Peru'\n",
       "139. 'Philippines'\n",
       "140. 'Poland'\n",
       "141. 'Portugal'\n",
       "142. 'Puerto Rico'\n",
       "143. 'Qatar'\n",
       "144. 'Romania'\n",
       "145. 'Russian Federation'\n",
       "146. 'Rwanda'\n",
       "147. 'Samoa'\n",
       "148. 'Sao Tome and Principe'\n",
       "149. 'Saudi Arabia'\n",
       "150. 'Senegal'\n",
       "151. 'Serbia'\n",
       "152. 'Seychelles'\n",
       "153. 'Sierra Leone'\n",
       "154. 'Singapore'\n",
       "155. 'Slovak Republic'\n",
       "156. 'Slovenia'\n",
       "157. 'Solomon Islands'\n",
       "158. 'Somalia'\n",
       "159. 'South Africa'\n",
       "160. 'South Sudan'\n",
       "161. 'Spain'\n",
       "162. 'Sri Lanka'\n",
       "163. 'St. Lucia'\n",
       "164. 'St. Vincent and the Grenadines'\n",
       "165. 'Sudan'\n",
       "166. 'Suriname'\n",
       "167. 'Swaziland'\n",
       "168. 'Sweden'\n",
       "169. 'Switzerland'\n",
       "170. 'Syrian Arab Republic'\n",
       "171. 'Tajikistan'\n",
       "172. 'Tanzania'\n",
       "173. 'Thailand'\n",
       "174. 'Timor-Leste'\n",
       "175. 'Togo'\n",
       "176. 'Tonga'\n",
       "177. 'Trinidad and Tobago'\n",
       "178. 'Tunisia'\n",
       "179. 'Turkey'\n",
       "180. 'Turkmenistan'\n",
       "181. 'Uganda'\n",
       "182. 'Ukraine'\n",
       "183. 'United Arab Emirates'\n",
       "184. 'United Kingdom'\n",
       "185. 'United States'\n",
       "186. 'Uruguay'\n",
       "187. 'Uzbekistan'\n",
       "188. 'Vanuatu'\n",
       "189. 'Venezuela, RB'\n",
       "190. 'Vietnam'\n",
       "191. 'Virgin Islands (U.S.)'\n",
       "192. 'West Bank and Gaza'\n",
       "193. 'Yemen, Rep.'\n",
       "194. 'Zambia'\n",
       "195. 'Zimbabwe'\n",
       "\n",
       "\n"
      ],
      "text/plain": [
       "  [1] Aruba                          Afghanistan                   \n",
       "  [3] Angola                         Albania                       \n",
       "  [5] United Arab Emirates           Argentina                     \n",
       "  [7] Armenia                        Antigua and Barbuda           \n",
       "  [9] Australia                      Austria                       \n",
       " [11] Azerbaijan                     Burundi                       \n",
       " [13] Belgium                        Benin                         \n",
       " [15] Burkina Faso                   Bangladesh                    \n",
       " [17] Bulgaria                       Bahrain                       \n",
       " [19] Bahamas, The                   Bosnia and Herzegovina        \n",
       " [21] Belarus                        Belize                        \n",
       " [23] Bermuda                        Bolivia                       \n",
       " [25] Brazil                         Barbados                      \n",
       " [27] Brunei Darussalam              Bhutan                        \n",
       " [29] Botswana                       Central African Republic      \n",
       " [31] Canada                         Switzerland                   \n",
       " [33] Chile                          China                         \n",
       " [35] Cote d'Ivoire                  Cameroon                      \n",
       " [37] Congo, Rep.                    Colombia                      \n",
       " [39] Comoros                        Cabo Verde                    \n",
       " [41] Costa Rica                     Cuba                          \n",
       " [43] Cayman Islands                 Cyprus                        \n",
       " [45] Czech Republic                 Germany                       \n",
       " [47] Djibouti                       Denmark                       \n",
       " [49] Dominican Republic             Algeria                       \n",
       " [51] Ecuador                        Egypt, Arab Rep.              \n",
       " [53] Eritrea                        Spain                         \n",
       " [55] Estonia                        Ethiopia                      \n",
       " [57] Finland                        Fiji                          \n",
       " [59] France                         Micronesia, Fed. Sts.         \n",
       " [61] Gabon                          United Kingdom                \n",
       " [63] Georgia                        Ghana                         \n",
       " [65] Guinea                         Gambia, The                   \n",
       " [67] Guinea-Bissau                  Equatorial Guinea             \n",
       " [69] Greece                         Grenada                       \n",
       " [71] Greenland                      Guatemala                     \n",
       " [73] Guam                           Guyana                        \n",
       " [75] Hong Kong SAR, China           Honduras                      \n",
       " [77] Croatia                        Haiti                         \n",
       " [79] Hungary                        Indonesia                     \n",
       " [81] India                          Ireland                       \n",
       " [83] Iran, Islamic Rep.             Iraq                          \n",
       " [85] Iceland                        Israel                        \n",
       " [87] Italy                          Jamaica                       \n",
       " [89] Jordan                         Japan                         \n",
       " [91] Kazakhstan                     Kenya                         \n",
       " [93] Kyrgyz Republic                Cambodia                      \n",
       " [95] Kiribati                       Korea, Rep.                   \n",
       " [97] Kuwait                         Lao PDR                       \n",
       " [99] Lebanon                        Liberia                       \n",
       "[101] Libya                          St. Lucia                     \n",
       "[103] Liechtenstein                  Sri Lanka                     \n",
       "[105] Lesotho                        Lithuania                     \n",
       "[107] Luxembourg                     Latvia                        \n",
       "[109] Macao SAR, China               Morocco                       \n",
       "[111] Moldova                        Madagascar                    \n",
       "[113] Maldives                       Mexico                        \n",
       "[115] Macedonia, FYR                 Mali                          \n",
       "[117] Malta                          Myanmar                       \n",
       "[119] Montenegro                     Mongolia                      \n",
       "[121] Mozambique                     Mauritania                    \n",
       "[123] Mauritius                      Malawi                        \n",
       "[125] Malaysia                       Namibia                       \n",
       "[127] New Caledonia                  Niger                         \n",
       "[129] Nigeria                        Nicaragua                     \n",
       "[131] Netherlands                    Norway                        \n",
       "[133] Nepal                          New Zealand                   \n",
       "[135] Oman                           Pakistan                      \n",
       "[137] Panama                         Peru                          \n",
       "[139] Philippines                    Papua New Guinea              \n",
       "[141] Poland                         Puerto Rico                   \n",
       "[143] Portugal                       Paraguay                      \n",
       "[145] French Polynesia               Qatar                         \n",
       "[147] Romania                        Russian Federation            \n",
       "[149] Rwanda                         Saudi Arabia                  \n",
       "[151] Sudan                          Senegal                       \n",
       "[153] Singapore                      Solomon Islands               \n",
       "[155] Sierra Leone                   El Salvador                   \n",
       "[157] Somalia                        Serbia                        \n",
       "[159] South Sudan                    Sao Tome and Principe         \n",
       "[161] Suriname                       Slovak Republic               \n",
       "[163] Slovenia                       Sweden                        \n",
       "[165] Swaziland                      Seychelles                    \n",
       "[167] Syrian Arab Republic           Chad                          \n",
       "[169] Togo                           Thailand                      \n",
       "[171] Tajikistan                     Turkmenistan                  \n",
       "[173] Timor-Leste                    Tonga                         \n",
       "[175] Trinidad and Tobago            Tunisia                       \n",
       "[177] Turkey                         Tanzania                      \n",
       "[179] Uganda                         Ukraine                       \n",
       "[181] Uruguay                        United States                 \n",
       "[183] Uzbekistan                     St. Vincent and the Grenadines\n",
       "[185] Venezuela, RB                  Virgin Islands (U.S.)         \n",
       "[187] Vietnam                        Vanuatu                       \n",
       "[189] West Bank and Gaza             Samoa                         \n",
       "[191] Yemen, Rep.                    South Africa                  \n",
       "[193] Congo, Dem. Rep.               Zambia                        \n",
       "[195] Zimbabwe                      \n",
       "195 Levels: Afghanistan Albania Algeria Angola Antigua and Barbuda ... Zimbabwe"
      ]
     },
     "metadata": {},
     "output_type": "display_data"
    }
   ],
   "source": [
    "data[,1]"
   ]
  },
  {
   "cell_type": "code",
   "execution_count": 19,
   "metadata": {},
   "outputs": [
    {
     "data": {
      "text/html": [
       "FALSE"
      ],
      "text/latex": [
       "FALSE"
      ],
      "text/markdown": [
       "FALSE"
      ],
      "text/plain": [
       "[1] FALSE"
      ]
     },
     "metadata": {},
     "output_type": "display_data"
    }
   ],
   "source": [
    "is.data.frame(data[,1])"
   ]
  },
  {
   "cell_type": "code",
   "execution_count": 20,
   "metadata": {},
   "outputs": [
    {
     "data": {
      "text/html": [
       "<table>\n",
       "<thead><tr><th scope=col>Country.Name</th></tr></thead>\n",
       "<tbody>\n",
       "\t<tr><td>Aruba                   </td></tr>\n",
       "\t<tr><td>Afghanistan             </td></tr>\n",
       "\t<tr><td>Angola                  </td></tr>\n",
       "\t<tr><td>Albania                 </td></tr>\n",
       "\t<tr><td>United Arab Emirates    </td></tr>\n",
       "\t<tr><td>Argentina               </td></tr>\n",
       "\t<tr><td>Armenia                 </td></tr>\n",
       "\t<tr><td>Antigua and Barbuda     </td></tr>\n",
       "\t<tr><td>Australia               </td></tr>\n",
       "\t<tr><td>Austria                 </td></tr>\n",
       "\t<tr><td>Azerbaijan              </td></tr>\n",
       "\t<tr><td>Burundi                 </td></tr>\n",
       "\t<tr><td>Belgium                 </td></tr>\n",
       "\t<tr><td>Benin                   </td></tr>\n",
       "\t<tr><td>Burkina Faso            </td></tr>\n",
       "\t<tr><td>Bangladesh              </td></tr>\n",
       "\t<tr><td>Bulgaria                </td></tr>\n",
       "\t<tr><td>Bahrain                 </td></tr>\n",
       "\t<tr><td>Bahamas, The            </td></tr>\n",
       "\t<tr><td>Bosnia and Herzegovina  </td></tr>\n",
       "\t<tr><td>Belarus                 </td></tr>\n",
       "\t<tr><td>Belize                  </td></tr>\n",
       "\t<tr><td>Bermuda                 </td></tr>\n",
       "\t<tr><td>Bolivia                 </td></tr>\n",
       "\t<tr><td>Brazil                  </td></tr>\n",
       "\t<tr><td>Barbados                </td></tr>\n",
       "\t<tr><td>Brunei Darussalam       </td></tr>\n",
       "\t<tr><td>Bhutan                  </td></tr>\n",
       "\t<tr><td>Botswana                </td></tr>\n",
       "\t<tr><td>Central African Republic</td></tr>\n",
       "\t<tr><td>...</td></tr>\n",
       "\t<tr><td>Seychelles                    </td></tr>\n",
       "\t<tr><td>Syrian Arab Republic          </td></tr>\n",
       "\t<tr><td>Chad                          </td></tr>\n",
       "\t<tr><td>Togo                          </td></tr>\n",
       "\t<tr><td>Thailand                      </td></tr>\n",
       "\t<tr><td>Tajikistan                    </td></tr>\n",
       "\t<tr><td>Turkmenistan                  </td></tr>\n",
       "\t<tr><td>Timor-Leste                   </td></tr>\n",
       "\t<tr><td>Tonga                         </td></tr>\n",
       "\t<tr><td>Trinidad and Tobago           </td></tr>\n",
       "\t<tr><td>Tunisia                       </td></tr>\n",
       "\t<tr><td>Turkey                        </td></tr>\n",
       "\t<tr><td>Tanzania                      </td></tr>\n",
       "\t<tr><td>Uganda                        </td></tr>\n",
       "\t<tr><td>Ukraine                       </td></tr>\n",
       "\t<tr><td>Uruguay                       </td></tr>\n",
       "\t<tr><td>United States                 </td></tr>\n",
       "\t<tr><td>Uzbekistan                    </td></tr>\n",
       "\t<tr><td>St. Vincent and the Grenadines</td></tr>\n",
       "\t<tr><td>Venezuela, RB                 </td></tr>\n",
       "\t<tr><td>Virgin Islands (U.S.)         </td></tr>\n",
       "\t<tr><td>Vietnam                       </td></tr>\n",
       "\t<tr><td>Vanuatu                       </td></tr>\n",
       "\t<tr><td>West Bank and Gaza            </td></tr>\n",
       "\t<tr><td>Samoa                         </td></tr>\n",
       "\t<tr><td>Yemen, Rep.                   </td></tr>\n",
       "\t<tr><td>South Africa                  </td></tr>\n",
       "\t<tr><td>Congo, Dem. Rep.              </td></tr>\n",
       "\t<tr><td>Zambia                        </td></tr>\n",
       "\t<tr><td>Zimbabwe                      </td></tr>\n",
       "</tbody>\n",
       "</table>\n"
      ],
      "text/latex": [
       "\\begin{tabular}{r|l}\n",
       " Country.Name\\\\\n",
       "\\hline\n",
       "\t Aruba                   \\\\\n",
       "\t Afghanistan             \\\\\n",
       "\t Angola                  \\\\\n",
       "\t Albania                 \\\\\n",
       "\t United Arab Emirates    \\\\\n",
       "\t Argentina               \\\\\n",
       "\t Armenia                 \\\\\n",
       "\t Antigua and Barbuda     \\\\\n",
       "\t Australia               \\\\\n",
       "\t Austria                 \\\\\n",
       "\t Azerbaijan              \\\\\n",
       "\t Burundi                 \\\\\n",
       "\t Belgium                 \\\\\n",
       "\t Benin                   \\\\\n",
       "\t Burkina Faso            \\\\\n",
       "\t Bangladesh              \\\\\n",
       "\t Bulgaria                \\\\\n",
       "\t Bahrain                 \\\\\n",
       "\t Bahamas, The            \\\\\n",
       "\t Bosnia and Herzegovina  \\\\\n",
       "\t Belarus                 \\\\\n",
       "\t Belize                  \\\\\n",
       "\t Bermuda                 \\\\\n",
       "\t Bolivia                 \\\\\n",
       "\t Brazil                  \\\\\n",
       "\t Barbados                \\\\\n",
       "\t Brunei Darussalam       \\\\\n",
       "\t Bhutan                  \\\\\n",
       "\t Botswana                \\\\\n",
       "\t Central African Republic\\\\\n",
       "\t ...\\\\\n",
       "\t Seychelles                    \\\\\n",
       "\t Syrian Arab Republic          \\\\\n",
       "\t Chad                          \\\\\n",
       "\t Togo                          \\\\\n",
       "\t Thailand                      \\\\\n",
       "\t Tajikistan                    \\\\\n",
       "\t Turkmenistan                  \\\\\n",
       "\t Timor-Leste                   \\\\\n",
       "\t Tonga                         \\\\\n",
       "\t Trinidad and Tobago           \\\\\n",
       "\t Tunisia                       \\\\\n",
       "\t Turkey                        \\\\\n",
       "\t Tanzania                      \\\\\n",
       "\t Uganda                        \\\\\n",
       "\t Ukraine                       \\\\\n",
       "\t Uruguay                       \\\\\n",
       "\t United States                 \\\\\n",
       "\t Uzbekistan                    \\\\\n",
       "\t St. Vincent and the Grenadines\\\\\n",
       "\t Venezuela, RB                 \\\\\n",
       "\t Virgin Islands (U.S.)         \\\\\n",
       "\t Vietnam                       \\\\\n",
       "\t Vanuatu                       \\\\\n",
       "\t West Bank and Gaza            \\\\\n",
       "\t Samoa                         \\\\\n",
       "\t Yemen, Rep.                   \\\\\n",
       "\t South Africa                  \\\\\n",
       "\t Congo, Dem. Rep.              \\\\\n",
       "\t Zambia                        \\\\\n",
       "\t Zimbabwe                      \\\\\n",
       "\\end{tabular}\n"
      ],
      "text/markdown": [
       "\n",
       "Country.Name | \n",
       "|---|---|---|---|---|---|---|---|---|---|---|---|---|---|---|---|---|---|---|---|---|---|---|---|---|---|---|---|---|---|---|---|---|---|---|---|---|---|---|---|---|---|---|---|---|---|---|---|---|---|---|---|---|---|---|---|---|---|---|---|---|\n",
       "| Aruba                    | \n",
       "| Afghanistan              | \n",
       "| Angola                   | \n",
       "| Albania                  | \n",
       "| United Arab Emirates     | \n",
       "| Argentina                | \n",
       "| Armenia                  | \n",
       "| Antigua and Barbuda      | \n",
       "| Australia                | \n",
       "| Austria                  | \n",
       "| Azerbaijan               | \n",
       "| Burundi                  | \n",
       "| Belgium                  | \n",
       "| Benin                    | \n",
       "| Burkina Faso             | \n",
       "| Bangladesh               | \n",
       "| Bulgaria                 | \n",
       "| Bahrain                  | \n",
       "| Bahamas, The             | \n",
       "| Bosnia and Herzegovina   | \n",
       "| Belarus                  | \n",
       "| Belize                   | \n",
       "| Bermuda                  | \n",
       "| Bolivia                  | \n",
       "| Brazil                   | \n",
       "| Barbados                 | \n",
       "| Brunei Darussalam        | \n",
       "| Bhutan                   | \n",
       "| Botswana                 | \n",
       "| Central African Republic | \n",
       "| ... | \n",
       "| Seychelles                     | \n",
       "| Syrian Arab Republic           | \n",
       "| Chad                           | \n",
       "| Togo                           | \n",
       "| Thailand                       | \n",
       "| Tajikistan                     | \n",
       "| Turkmenistan                   | \n",
       "| Timor-Leste                    | \n",
       "| Tonga                          | \n",
       "| Trinidad and Tobago            | \n",
       "| Tunisia                        | \n",
       "| Turkey                         | \n",
       "| Tanzania                       | \n",
       "| Uganda                         | \n",
       "| Ukraine                        | \n",
       "| Uruguay                        | \n",
       "| United States                  | \n",
       "| Uzbekistan                     | \n",
       "| St. Vincent and the Grenadines | \n",
       "| Venezuela, RB                  | \n",
       "| Virgin Islands (U.S.)          | \n",
       "| Vietnam                        | \n",
       "| Vanuatu                        | \n",
       "| West Bank and Gaza             | \n",
       "| Samoa                          | \n",
       "| Yemen, Rep.                    | \n",
       "| South Africa                   | \n",
       "| Congo, Dem. Rep.               | \n",
       "| Zambia                         | \n",
       "| Zimbabwe                       | \n",
       "\n",
       "\n"
      ],
      "text/plain": [
       "    Country.Name                  \n",
       "1   Aruba                         \n",
       "2   Afghanistan                   \n",
       "3   Angola                        \n",
       "4   Albania                       \n",
       "5   United Arab Emirates          \n",
       "6   Argentina                     \n",
       "7   Armenia                       \n",
       "8   Antigua and Barbuda           \n",
       "9   Australia                     \n",
       "10  Austria                       \n",
       "11  Azerbaijan                    \n",
       "12  Burundi                       \n",
       "13  Belgium                       \n",
       "14  Benin                         \n",
       "15  Burkina Faso                  \n",
       "16  Bangladesh                    \n",
       "17  Bulgaria                      \n",
       "18  Bahrain                       \n",
       "19  Bahamas, The                  \n",
       "20  Bosnia and Herzegovina        \n",
       "21  Belarus                       \n",
       "22  Belize                        \n",
       "23  Bermuda                       \n",
       "24  Bolivia                       \n",
       "25  Brazil                        \n",
       "26  Barbados                      \n",
       "27  Brunei Darussalam             \n",
       "28  Bhutan                        \n",
       "29  Botswana                      \n",
       "30  Central African Republic      \n",
       "... ...                           \n",
       "166 Seychelles                    \n",
       "167 Syrian Arab Republic          \n",
       "168 Chad                          \n",
       "169 Togo                          \n",
       "170 Thailand                      \n",
       "171 Tajikistan                    \n",
       "172 Turkmenistan                  \n",
       "173 Timor-Leste                   \n",
       "174 Tonga                         \n",
       "175 Trinidad and Tobago           \n",
       "176 Tunisia                       \n",
       "177 Turkey                        \n",
       "178 Tanzania                      \n",
       "179 Uganda                        \n",
       "180 Ukraine                       \n",
       "181 Uruguay                       \n",
       "182 United States                 \n",
       "183 Uzbekistan                    \n",
       "184 St. Vincent and the Grenadines\n",
       "185 Venezuela, RB                 \n",
       "186 Virgin Islands (U.S.)         \n",
       "187 Vietnam                       \n",
       "188 Vanuatu                       \n",
       "189 West Bank and Gaza            \n",
       "190 Samoa                         \n",
       "191 Yemen, Rep.                   \n",
       "192 South Africa                  \n",
       "193 Congo, Dem. Rep.              \n",
       "194 Zambia                        \n",
       "195 Zimbabwe                      "
      ]
     },
     "metadata": {},
     "output_type": "display_data"
    }
   ],
   "source": [
    "data[,1,drop=FALSE]"
   ]
  },
  {
   "cell_type": "code",
   "execution_count": 21,
   "metadata": {},
   "outputs": [
    {
     "data": {
      "text/html": [
       "TRUE"
      ],
      "text/latex": [
       "TRUE"
      ],
      "text/markdown": [
       "TRUE"
      ],
      "text/plain": [
       "[1] TRUE"
      ]
     },
     "metadata": {},
     "output_type": "display_data"
    }
   ],
   "source": [
    "is.data.frame(data[,1,drop=F])"
   ]
  },
  {
   "cell_type": "code",
   "execution_count": 22,
   "metadata": {},
   "outputs": [],
   "source": [
    "data$MyCal <- data$Birth.rate * data$Internet.users"
   ]
  },
  {
   "cell_type": "code",
   "execution_count": 23,
   "metadata": {},
   "outputs": [
    {
     "data": {
      "text/html": [
       "<table>\n",
       "<thead><tr><th scope=col>Country.Name</th><th scope=col>Country.Code</th><th scope=col>Birth.rate</th><th scope=col>Internet.users</th><th scope=col>Income.Group</th><th scope=col>MyCal</th></tr></thead>\n",
       "<tbody>\n",
       "\t<tr><td>Aruba               </td><td>ABW                 </td><td>10.244              </td><td>78.9                </td><td>High income         </td><td> 808.2516           </td></tr>\n",
       "\t<tr><td>Afghanistan         </td><td>AFG                 </td><td>35.253              </td><td> 5.9                </td><td>Low income          </td><td> 207.9927           </td></tr>\n",
       "\t<tr><td>Angola              </td><td>AGO                 </td><td>45.985              </td><td>19.1                </td><td>Upper middle income </td><td> 878.3135           </td></tr>\n",
       "\t<tr><td>Albania             </td><td>ALB                 </td><td>12.877              </td><td>57.2                </td><td>Upper middle income </td><td> 736.5644           </td></tr>\n",
       "\t<tr><td>United Arab Emirates</td><td>ARE                 </td><td>11.044              </td><td>88.0                </td><td>High income         </td><td> 971.8720           </td></tr>\n",
       "\t<tr><td>Argentina           </td><td>ARG                 </td><td>17.716              </td><td>59.9                </td><td>High income         </td><td>1061.1884           </td></tr>\n",
       "</tbody>\n",
       "</table>\n"
      ],
      "text/latex": [
       "\\begin{tabular}{r|llllll}\n",
       " Country.Name & Country.Code & Birth.rate & Internet.users & Income.Group & MyCal\\\\\n",
       "\\hline\n",
       "\t Aruba                & ABW                  & 10.244               & 78.9                 & High income          &  808.2516           \\\\\n",
       "\t Afghanistan          & AFG                  & 35.253               &  5.9                 & Low income           &  207.9927           \\\\\n",
       "\t Angola               & AGO                  & 45.985               & 19.1                 & Upper middle income  &  878.3135           \\\\\n",
       "\t Albania              & ALB                  & 12.877               & 57.2                 & Upper middle income  &  736.5644           \\\\\n",
       "\t United Arab Emirates & ARE                  & 11.044               & 88.0                 & High income          &  971.8720           \\\\\n",
       "\t Argentina            & ARG                  & 17.716               & 59.9                 & High income          & 1061.1884           \\\\\n",
       "\\end{tabular}\n"
      ],
      "text/markdown": [
       "\n",
       "Country.Name | Country.Code | Birth.rate | Internet.users | Income.Group | MyCal | \n",
       "|---|---|---|---|---|---|\n",
       "| Aruba                | ABW                  | 10.244               | 78.9                 | High income          |  808.2516            | \n",
       "| Afghanistan          | AFG                  | 35.253               |  5.9                 | Low income           |  207.9927            | \n",
       "| Angola               | AGO                  | 45.985               | 19.1                 | Upper middle income  |  878.3135            | \n",
       "| Albania              | ALB                  | 12.877               | 57.2                 | Upper middle income  |  736.5644            | \n",
       "| United Arab Emirates | ARE                  | 11.044               | 88.0                 | High income          |  971.8720            | \n",
       "| Argentina            | ARG                  | 17.716               | 59.9                 | High income          | 1061.1884            | \n",
       "\n",
       "\n"
      ],
      "text/plain": [
       "  Country.Name         Country.Code Birth.rate Internet.users\n",
       "1 Aruba                ABW          10.244     78.9          \n",
       "2 Afghanistan          AFG          35.253      5.9          \n",
       "3 Angola               AGO          45.985     19.1          \n",
       "4 Albania              ALB          12.877     57.2          \n",
       "5 United Arab Emirates ARE          11.044     88.0          \n",
       "6 Argentina            ARG          17.716     59.9          \n",
       "  Income.Group        MyCal    \n",
       "1 High income          808.2516\n",
       "2 Low income           207.9927\n",
       "3 Upper middle income  878.3135\n",
       "4 Upper middle income  736.5644\n",
       "5 High income          971.8720\n",
       "6 High income         1061.1884"
      ]
     },
     "metadata": {},
     "output_type": "display_data"
    }
   ],
   "source": [
    "head(data)"
   ]
  },
  {
   "cell_type": "code",
   "execution_count": 24,
   "metadata": {},
   "outputs": [],
   "source": [
    "data$xyz<-1:5"
   ]
  },
  {
   "cell_type": "code",
   "execution_count": 25,
   "metadata": {},
   "outputs": [],
   "source": [
    "data$MyCal <- NULL\n",
    "data$xyz <- NULL"
   ]
  },
  {
   "cell_type": "code",
   "execution_count": 26,
   "metadata": {},
   "outputs": [
    {
     "data": {
      "text/html": [
       "<table>\n",
       "<thead><tr><th scope=col>Country.Name</th><th scope=col>Country.Code</th><th scope=col>Birth.rate</th><th scope=col>Internet.users</th><th scope=col>Income.Group</th></tr></thead>\n",
       "<tbody>\n",
       "\t<tr><td>Aruba               </td><td>ABW                 </td><td>10.244              </td><td>78.9                </td><td>High income         </td></tr>\n",
       "\t<tr><td>Afghanistan         </td><td>AFG                 </td><td>35.253              </td><td> 5.9                </td><td>Low income          </td></tr>\n",
       "\t<tr><td>Angola              </td><td>AGO                 </td><td>45.985              </td><td>19.1                </td><td>Upper middle income </td></tr>\n",
       "\t<tr><td>Albania             </td><td>ALB                 </td><td>12.877              </td><td>57.2                </td><td>Upper middle income </td></tr>\n",
       "\t<tr><td>United Arab Emirates</td><td>ARE                 </td><td>11.044              </td><td>88.0                </td><td>High income         </td></tr>\n",
       "\t<tr><td>Argentina           </td><td>ARG                 </td><td>17.716              </td><td>59.9                </td><td>High income         </td></tr>\n",
       "</tbody>\n",
       "</table>\n"
      ],
      "text/latex": [
       "\\begin{tabular}{r|lllll}\n",
       " Country.Name & Country.Code & Birth.rate & Internet.users & Income.Group\\\\\n",
       "\\hline\n",
       "\t Aruba                & ABW                  & 10.244               & 78.9                 & High income         \\\\\n",
       "\t Afghanistan          & AFG                  & 35.253               &  5.9                 & Low income          \\\\\n",
       "\t Angola               & AGO                  & 45.985               & 19.1                 & Upper middle income \\\\\n",
       "\t Albania              & ALB                  & 12.877               & 57.2                 & Upper middle income \\\\\n",
       "\t United Arab Emirates & ARE                  & 11.044               & 88.0                 & High income         \\\\\n",
       "\t Argentina            & ARG                  & 17.716               & 59.9                 & High income         \\\\\n",
       "\\end{tabular}\n"
      ],
      "text/markdown": [
       "\n",
       "Country.Name | Country.Code | Birth.rate | Internet.users | Income.Group | \n",
       "|---|---|---|---|---|---|\n",
       "| Aruba                | ABW                  | 10.244               | 78.9                 | High income          | \n",
       "| Afghanistan          | AFG                  | 35.253               |  5.9                 | Low income           | \n",
       "| Angola               | AGO                  | 45.985               | 19.1                 | Upper middle income  | \n",
       "| Albania              | ALB                  | 12.877               | 57.2                 | Upper middle income  | \n",
       "| United Arab Emirates | ARE                  | 11.044               | 88.0                 | High income          | \n",
       "| Argentina            | ARG                  | 17.716               | 59.9                 | High income          | \n",
       "\n",
       "\n"
      ],
      "text/plain": [
       "  Country.Name         Country.Code Birth.rate Internet.users\n",
       "1 Aruba                ABW          10.244     78.9          \n",
       "2 Afghanistan          AFG          35.253      5.9          \n",
       "3 Angola               AGO          45.985     19.1          \n",
       "4 Albania              ALB          12.877     57.2          \n",
       "5 United Arab Emirates ARE          11.044     88.0          \n",
       "6 Argentina            ARG          17.716     59.9          \n",
       "  Income.Group       \n",
       "1 High income        \n",
       "2 Low income         \n",
       "3 Upper middle income\n",
       "4 Upper middle income\n",
       "5 High income        \n",
       "6 High income        "
      ]
     },
     "metadata": {},
     "output_type": "display_data"
    }
   ],
   "source": [
    "head(data)"
   ]
  },
  {
   "cell_type": "code",
   "execution_count": 27,
   "metadata": {},
   "outputs": [],
   "source": [
    "filter <- data$Internet.users < 2"
   ]
  },
  {
   "cell_type": "code",
   "execution_count": 28,
   "metadata": {},
   "outputs": [
    {
     "data": {
      "text/html": [
       "<ol class=list-inline>\n",
       "\t<li>FALSE</li>\n",
       "\t<li>FALSE</li>\n",
       "\t<li>FALSE</li>\n",
       "\t<li>FALSE</li>\n",
       "\t<li>FALSE</li>\n",
       "\t<li>FALSE</li>\n",
       "\t<li>FALSE</li>\n",
       "\t<li>FALSE</li>\n",
       "\t<li>FALSE</li>\n",
       "\t<li>FALSE</li>\n",
       "\t<li>FALSE</li>\n",
       "\t<li>TRUE</li>\n",
       "\t<li>FALSE</li>\n",
       "\t<li>FALSE</li>\n",
       "\t<li>FALSE</li>\n",
       "\t<li>FALSE</li>\n",
       "\t<li>FALSE</li>\n",
       "\t<li>FALSE</li>\n",
       "\t<li>FALSE</li>\n",
       "\t<li>FALSE</li>\n",
       "\t<li>FALSE</li>\n",
       "\t<li>FALSE</li>\n",
       "\t<li>FALSE</li>\n",
       "\t<li>FALSE</li>\n",
       "\t<li>FALSE</li>\n",
       "\t<li>FALSE</li>\n",
       "\t<li>FALSE</li>\n",
       "\t<li>FALSE</li>\n",
       "\t<li>FALSE</li>\n",
       "\t<li>FALSE</li>\n",
       "\t<li>FALSE</li>\n",
       "\t<li>FALSE</li>\n",
       "\t<li>FALSE</li>\n",
       "\t<li>FALSE</li>\n",
       "\t<li>FALSE</li>\n",
       "\t<li>FALSE</li>\n",
       "\t<li>FALSE</li>\n",
       "\t<li>FALSE</li>\n",
       "\t<li>FALSE</li>\n",
       "\t<li>FALSE</li>\n",
       "\t<li>FALSE</li>\n",
       "\t<li>FALSE</li>\n",
       "\t<li>FALSE</li>\n",
       "\t<li>FALSE</li>\n",
       "\t<li>FALSE</li>\n",
       "\t<li>FALSE</li>\n",
       "\t<li>FALSE</li>\n",
       "\t<li>FALSE</li>\n",
       "\t<li>FALSE</li>\n",
       "\t<li>FALSE</li>\n",
       "\t<li>FALSE</li>\n",
       "\t<li>FALSE</li>\n",
       "\t<li>TRUE</li>\n",
       "\t<li>FALSE</li>\n",
       "\t<li>FALSE</li>\n",
       "\t<li>TRUE</li>\n",
       "\t<li>FALSE</li>\n",
       "\t<li>FALSE</li>\n",
       "\t<li>FALSE</li>\n",
       "\t<li>FALSE</li>\n",
       "\t<li>FALSE</li>\n",
       "\t<li>FALSE</li>\n",
       "\t<li>FALSE</li>\n",
       "\t<li>FALSE</li>\n",
       "\t<li>TRUE</li>\n",
       "\t<li>FALSE</li>\n",
       "\t<li>FALSE</li>\n",
       "\t<li>FALSE</li>\n",
       "\t<li>FALSE</li>\n",
       "\t<li>FALSE</li>\n",
       "\t<li>FALSE</li>\n",
       "\t<li>FALSE</li>\n",
       "\t<li>FALSE</li>\n",
       "\t<li>FALSE</li>\n",
       "\t<li>FALSE</li>\n",
       "\t<li>FALSE</li>\n",
       "\t<li>FALSE</li>\n",
       "\t<li>FALSE</li>\n",
       "\t<li>FALSE</li>\n",
       "\t<li>FALSE</li>\n",
       "\t<li>FALSE</li>\n",
       "\t<li>FALSE</li>\n",
       "\t<li>FALSE</li>\n",
       "\t<li>FALSE</li>\n",
       "\t<li>FALSE</li>\n",
       "\t<li>FALSE</li>\n",
       "\t<li>FALSE</li>\n",
       "\t<li>FALSE</li>\n",
       "\t<li>FALSE</li>\n",
       "\t<li>FALSE</li>\n",
       "\t<li>FALSE</li>\n",
       "\t<li>FALSE</li>\n",
       "\t<li>FALSE</li>\n",
       "\t<li>FALSE</li>\n",
       "\t<li>FALSE</li>\n",
       "\t<li>FALSE</li>\n",
       "\t<li>FALSE</li>\n",
       "\t<li>FALSE</li>\n",
       "\t<li>FALSE</li>\n",
       "\t<li>FALSE</li>\n",
       "\t<li>FALSE</li>\n",
       "\t<li>FALSE</li>\n",
       "\t<li>FALSE</li>\n",
       "\t<li>FALSE</li>\n",
       "\t<li>FALSE</li>\n",
       "\t<li>FALSE</li>\n",
       "\t<li>FALSE</li>\n",
       "\t<li>FALSE</li>\n",
       "\t<li>FALSE</li>\n",
       "\t<li>FALSE</li>\n",
       "\t<li>FALSE</li>\n",
       "\t<li>FALSE</li>\n",
       "\t<li>FALSE</li>\n",
       "\t<li>FALSE</li>\n",
       "\t<li>FALSE</li>\n",
       "\t<li>FALSE</li>\n",
       "\t<li>FALSE</li>\n",
       "\t<li>TRUE</li>\n",
       "\t<li>FALSE</li>\n",
       "\t<li>FALSE</li>\n",
       "\t<li>FALSE</li>\n",
       "\t<li>FALSE</li>\n",
       "\t<li>FALSE</li>\n",
       "\t<li>FALSE</li>\n",
       "\t<li>FALSE</li>\n",
       "\t<li>FALSE</li>\n",
       "\t<li>FALSE</li>\n",
       "\t<li>TRUE</li>\n",
       "\t<li>FALSE</li>\n",
       "\t<li>FALSE</li>\n",
       "\t<li>FALSE</li>\n",
       "\t<li>FALSE</li>\n",
       "\t<li>FALSE</li>\n",
       "\t<li>FALSE</li>\n",
       "\t<li>FALSE</li>\n",
       "\t<li>FALSE</li>\n",
       "\t<li>FALSE</li>\n",
       "\t<li>FALSE</li>\n",
       "\t<li>FALSE</li>\n",
       "\t<li>FALSE</li>\n",
       "\t<li>FALSE</li>\n",
       "\t<li>FALSE</li>\n",
       "\t<li>FALSE</li>\n",
       "\t<li>FALSE</li>\n",
       "\t<li>FALSE</li>\n",
       "\t<li>FALSE</li>\n",
       "\t<li>FALSE</li>\n",
       "\t<li>FALSE</li>\n",
       "\t<li>FALSE</li>\n",
       "\t<li>FALSE</li>\n",
       "\t<li>FALSE</li>\n",
       "\t<li>FALSE</li>\n",
       "\t<li>FALSE</li>\n",
       "\t<li>FALSE</li>\n",
       "\t<li>TRUE</li>\n",
       "\t<li>FALSE</li>\n",
       "\t<li>TRUE</li>\n",
       "\t<li>FALSE</li>\n",
       "\t<li>FALSE</li>\n",
       "\t<li>FALSE</li>\n",
       "\t<li>FALSE</li>\n",
       "\t<li>FALSE</li>\n",
       "\t<li>FALSE</li>\n",
       "\t<li>FALSE</li>\n",
       "\t<li>FALSE</li>\n",
       "\t<li>FALSE</li>\n",
       "\t<li>FALSE</li>\n",
       "\t<li>FALSE</li>\n",
       "\t<li>FALSE</li>\n",
       "\t<li>FALSE</li>\n",
       "\t<li>FALSE</li>\n",
       "\t<li>FALSE</li>\n",
       "\t<li>TRUE</li>\n",
       "\t<li>FALSE</li>\n",
       "\t<li>FALSE</li>\n",
       "\t<li>FALSE</li>\n",
       "\t<li>FALSE</li>\n",
       "\t<li>FALSE</li>\n",
       "\t<li>FALSE</li>\n",
       "\t<li>FALSE</li>\n",
       "\t<li>FALSE</li>\n",
       "\t<li>FALSE</li>\n",
       "\t<li>FALSE</li>\n",
       "\t<li>FALSE</li>\n",
       "\t<li>FALSE</li>\n",
       "\t<li>FALSE</li>\n",
       "\t<li>FALSE</li>\n",
       "\t<li>FALSE</li>\n",
       "\t<li>FALSE</li>\n",
       "\t<li>FALSE</li>\n",
       "\t<li>FALSE</li>\n",
       "\t<li>FALSE</li>\n",
       "\t<li>FALSE</li>\n",
       "\t<li>FALSE</li>\n",
       "\t<li>FALSE</li>\n",
       "</ol>\n"
      ],
      "text/latex": [
       "\\begin{enumerate*}\n",
       "\\item FALSE\n",
       "\\item FALSE\n",
       "\\item FALSE\n",
       "\\item FALSE\n",
       "\\item FALSE\n",
       "\\item FALSE\n",
       "\\item FALSE\n",
       "\\item FALSE\n",
       "\\item FALSE\n",
       "\\item FALSE\n",
       "\\item FALSE\n",
       "\\item TRUE\n",
       "\\item FALSE\n",
       "\\item FALSE\n",
       "\\item FALSE\n",
       "\\item FALSE\n",
       "\\item FALSE\n",
       "\\item FALSE\n",
       "\\item FALSE\n",
       "\\item FALSE\n",
       "\\item FALSE\n",
       "\\item FALSE\n",
       "\\item FALSE\n",
       "\\item FALSE\n",
       "\\item FALSE\n",
       "\\item FALSE\n",
       "\\item FALSE\n",
       "\\item FALSE\n",
       "\\item FALSE\n",
       "\\item FALSE\n",
       "\\item FALSE\n",
       "\\item FALSE\n",
       "\\item FALSE\n",
       "\\item FALSE\n",
       "\\item FALSE\n",
       "\\item FALSE\n",
       "\\item FALSE\n",
       "\\item FALSE\n",
       "\\item FALSE\n",
       "\\item FALSE\n",
       "\\item FALSE\n",
       "\\item FALSE\n",
       "\\item FALSE\n",
       "\\item FALSE\n",
       "\\item FALSE\n",
       "\\item FALSE\n",
       "\\item FALSE\n",
       "\\item FALSE\n",
       "\\item FALSE\n",
       "\\item FALSE\n",
       "\\item FALSE\n",
       "\\item FALSE\n",
       "\\item TRUE\n",
       "\\item FALSE\n",
       "\\item FALSE\n",
       "\\item TRUE\n",
       "\\item FALSE\n",
       "\\item FALSE\n",
       "\\item FALSE\n",
       "\\item FALSE\n",
       "\\item FALSE\n",
       "\\item FALSE\n",
       "\\item FALSE\n",
       "\\item FALSE\n",
       "\\item TRUE\n",
       "\\item FALSE\n",
       "\\item FALSE\n",
       "\\item FALSE\n",
       "\\item FALSE\n",
       "\\item FALSE\n",
       "\\item FALSE\n",
       "\\item FALSE\n",
       "\\item FALSE\n",
       "\\item FALSE\n",
       "\\item FALSE\n",
       "\\item FALSE\n",
       "\\item FALSE\n",
       "\\item FALSE\n",
       "\\item FALSE\n",
       "\\item FALSE\n",
       "\\item FALSE\n",
       "\\item FALSE\n",
       "\\item FALSE\n",
       "\\item FALSE\n",
       "\\item FALSE\n",
       "\\item FALSE\n",
       "\\item FALSE\n",
       "\\item FALSE\n",
       "\\item FALSE\n",
       "\\item FALSE\n",
       "\\item FALSE\n",
       "\\item FALSE\n",
       "\\item FALSE\n",
       "\\item FALSE\n",
       "\\item FALSE\n",
       "\\item FALSE\n",
       "\\item FALSE\n",
       "\\item FALSE\n",
       "\\item FALSE\n",
       "\\item FALSE\n",
       "\\item FALSE\n",
       "\\item FALSE\n",
       "\\item FALSE\n",
       "\\item FALSE\n",
       "\\item FALSE\n",
       "\\item FALSE\n",
       "\\item FALSE\n",
       "\\item FALSE\n",
       "\\item FALSE\n",
       "\\item FALSE\n",
       "\\item FALSE\n",
       "\\item FALSE\n",
       "\\item FALSE\n",
       "\\item FALSE\n",
       "\\item FALSE\n",
       "\\item FALSE\n",
       "\\item FALSE\n",
       "\\item TRUE\n",
       "\\item FALSE\n",
       "\\item FALSE\n",
       "\\item FALSE\n",
       "\\item FALSE\n",
       "\\item FALSE\n",
       "\\item FALSE\n",
       "\\item FALSE\n",
       "\\item FALSE\n",
       "\\item FALSE\n",
       "\\item TRUE\n",
       "\\item FALSE\n",
       "\\item FALSE\n",
       "\\item FALSE\n",
       "\\item FALSE\n",
       "\\item FALSE\n",
       "\\item FALSE\n",
       "\\item FALSE\n",
       "\\item FALSE\n",
       "\\item FALSE\n",
       "\\item FALSE\n",
       "\\item FALSE\n",
       "\\item FALSE\n",
       "\\item FALSE\n",
       "\\item FALSE\n",
       "\\item FALSE\n",
       "\\item FALSE\n",
       "\\item FALSE\n",
       "\\item FALSE\n",
       "\\item FALSE\n",
       "\\item FALSE\n",
       "\\item FALSE\n",
       "\\item FALSE\n",
       "\\item FALSE\n",
       "\\item FALSE\n",
       "\\item FALSE\n",
       "\\item FALSE\n",
       "\\item TRUE\n",
       "\\item FALSE\n",
       "\\item TRUE\n",
       "\\item FALSE\n",
       "\\item FALSE\n",
       "\\item FALSE\n",
       "\\item FALSE\n",
       "\\item FALSE\n",
       "\\item FALSE\n",
       "\\item FALSE\n",
       "\\item FALSE\n",
       "\\item FALSE\n",
       "\\item FALSE\n",
       "\\item FALSE\n",
       "\\item FALSE\n",
       "\\item FALSE\n",
       "\\item FALSE\n",
       "\\item FALSE\n",
       "\\item TRUE\n",
       "\\item FALSE\n",
       "\\item FALSE\n",
       "\\item FALSE\n",
       "\\item FALSE\n",
       "\\item FALSE\n",
       "\\item FALSE\n",
       "\\item FALSE\n",
       "\\item FALSE\n",
       "\\item FALSE\n",
       "\\item FALSE\n",
       "\\item FALSE\n",
       "\\item FALSE\n",
       "\\item FALSE\n",
       "\\item FALSE\n",
       "\\item FALSE\n",
       "\\item FALSE\n",
       "\\item FALSE\n",
       "\\item FALSE\n",
       "\\item FALSE\n",
       "\\item FALSE\n",
       "\\item FALSE\n",
       "\\item FALSE\n",
       "\\end{enumerate*}\n"
      ],
      "text/markdown": [
       "1. FALSE\n",
       "2. FALSE\n",
       "3. FALSE\n",
       "4. FALSE\n",
       "5. FALSE\n",
       "6. FALSE\n",
       "7. FALSE\n",
       "8. FALSE\n",
       "9. FALSE\n",
       "10. FALSE\n",
       "11. FALSE\n",
       "12. TRUE\n",
       "13. FALSE\n",
       "14. FALSE\n",
       "15. FALSE\n",
       "16. FALSE\n",
       "17. FALSE\n",
       "18. FALSE\n",
       "19. FALSE\n",
       "20. FALSE\n",
       "21. FALSE\n",
       "22. FALSE\n",
       "23. FALSE\n",
       "24. FALSE\n",
       "25. FALSE\n",
       "26. FALSE\n",
       "27. FALSE\n",
       "28. FALSE\n",
       "29. FALSE\n",
       "30. FALSE\n",
       "31. FALSE\n",
       "32. FALSE\n",
       "33. FALSE\n",
       "34. FALSE\n",
       "35. FALSE\n",
       "36. FALSE\n",
       "37. FALSE\n",
       "38. FALSE\n",
       "39. FALSE\n",
       "40. FALSE\n",
       "41. FALSE\n",
       "42. FALSE\n",
       "43. FALSE\n",
       "44. FALSE\n",
       "45. FALSE\n",
       "46. FALSE\n",
       "47. FALSE\n",
       "48. FALSE\n",
       "49. FALSE\n",
       "50. FALSE\n",
       "51. FALSE\n",
       "52. FALSE\n",
       "53. TRUE\n",
       "54. FALSE\n",
       "55. FALSE\n",
       "56. TRUE\n",
       "57. FALSE\n",
       "58. FALSE\n",
       "59. FALSE\n",
       "60. FALSE\n",
       "61. FALSE\n",
       "62. FALSE\n",
       "63. FALSE\n",
       "64. FALSE\n",
       "65. TRUE\n",
       "66. FALSE\n",
       "67. FALSE\n",
       "68. FALSE\n",
       "69. FALSE\n",
       "70. FALSE\n",
       "71. FALSE\n",
       "72. FALSE\n",
       "73. FALSE\n",
       "74. FALSE\n",
       "75. FALSE\n",
       "76. FALSE\n",
       "77. FALSE\n",
       "78. FALSE\n",
       "79. FALSE\n",
       "80. FALSE\n",
       "81. FALSE\n",
       "82. FALSE\n",
       "83. FALSE\n",
       "84. FALSE\n",
       "85. FALSE\n",
       "86. FALSE\n",
       "87. FALSE\n",
       "88. FALSE\n",
       "89. FALSE\n",
       "90. FALSE\n",
       "91. FALSE\n",
       "92. FALSE\n",
       "93. FALSE\n",
       "94. FALSE\n",
       "95. FALSE\n",
       "96. FALSE\n",
       "97. FALSE\n",
       "98. FALSE\n",
       "99. FALSE\n",
       "100. FALSE\n",
       "101. FALSE\n",
       "102. FALSE\n",
       "103. FALSE\n",
       "104. FALSE\n",
       "105. FALSE\n",
       "106. FALSE\n",
       "107. FALSE\n",
       "108. FALSE\n",
       "109. FALSE\n",
       "110. FALSE\n",
       "111. FALSE\n",
       "112. FALSE\n",
       "113. FALSE\n",
       "114. FALSE\n",
       "115. FALSE\n",
       "116. FALSE\n",
       "117. FALSE\n",
       "118. TRUE\n",
       "119. FALSE\n",
       "120. FALSE\n",
       "121. FALSE\n",
       "122. FALSE\n",
       "123. FALSE\n",
       "124. FALSE\n",
       "125. FALSE\n",
       "126. FALSE\n",
       "127. FALSE\n",
       "128. TRUE\n",
       "129. FALSE\n",
       "130. FALSE\n",
       "131. FALSE\n",
       "132. FALSE\n",
       "133. FALSE\n",
       "134. FALSE\n",
       "135. FALSE\n",
       "136. FALSE\n",
       "137. FALSE\n",
       "138. FALSE\n",
       "139. FALSE\n",
       "140. FALSE\n",
       "141. FALSE\n",
       "142. FALSE\n",
       "143. FALSE\n",
       "144. FALSE\n",
       "145. FALSE\n",
       "146. FALSE\n",
       "147. FALSE\n",
       "148. FALSE\n",
       "149. FALSE\n",
       "150. FALSE\n",
       "151. FALSE\n",
       "152. FALSE\n",
       "153. FALSE\n",
       "154. FALSE\n",
       "155. TRUE\n",
       "156. FALSE\n",
       "157. TRUE\n",
       "158. FALSE\n",
       "159. FALSE\n",
       "160. FALSE\n",
       "161. FALSE\n",
       "162. FALSE\n",
       "163. FALSE\n",
       "164. FALSE\n",
       "165. FALSE\n",
       "166. FALSE\n",
       "167. FALSE\n",
       "168. FALSE\n",
       "169. FALSE\n",
       "170. FALSE\n",
       "171. FALSE\n",
       "172. FALSE\n",
       "173. TRUE\n",
       "174. FALSE\n",
       "175. FALSE\n",
       "176. FALSE\n",
       "177. FALSE\n",
       "178. FALSE\n",
       "179. FALSE\n",
       "180. FALSE\n",
       "181. FALSE\n",
       "182. FALSE\n",
       "183. FALSE\n",
       "184. FALSE\n",
       "185. FALSE\n",
       "186. FALSE\n",
       "187. FALSE\n",
       "188. FALSE\n",
       "189. FALSE\n",
       "190. FALSE\n",
       "191. FALSE\n",
       "192. FALSE\n",
       "193. FALSE\n",
       "194. FALSE\n",
       "195. FALSE\n",
       "\n",
       "\n"
      ],
      "text/plain": [
       "  [1] FALSE FALSE FALSE FALSE FALSE FALSE FALSE FALSE FALSE FALSE FALSE  TRUE\n",
       " [13] FALSE FALSE FALSE FALSE FALSE FALSE FALSE FALSE FALSE FALSE FALSE FALSE\n",
       " [25] FALSE FALSE FALSE FALSE FALSE FALSE FALSE FALSE FALSE FALSE FALSE FALSE\n",
       " [37] FALSE FALSE FALSE FALSE FALSE FALSE FALSE FALSE FALSE FALSE FALSE FALSE\n",
       " [49] FALSE FALSE FALSE FALSE  TRUE FALSE FALSE  TRUE FALSE FALSE FALSE FALSE\n",
       " [61] FALSE FALSE FALSE FALSE  TRUE FALSE FALSE FALSE FALSE FALSE FALSE FALSE\n",
       " [73] FALSE FALSE FALSE FALSE FALSE FALSE FALSE FALSE FALSE FALSE FALSE FALSE\n",
       " [85] FALSE FALSE FALSE FALSE FALSE FALSE FALSE FALSE FALSE FALSE FALSE FALSE\n",
       " [97] FALSE FALSE FALSE FALSE FALSE FALSE FALSE FALSE FALSE FALSE FALSE FALSE\n",
       "[109] FALSE FALSE FALSE FALSE FALSE FALSE FALSE FALSE FALSE  TRUE FALSE FALSE\n",
       "[121] FALSE FALSE FALSE FALSE FALSE FALSE FALSE  TRUE FALSE FALSE FALSE FALSE\n",
       "[133] FALSE FALSE FALSE FALSE FALSE FALSE FALSE FALSE FALSE FALSE FALSE FALSE\n",
       "[145] FALSE FALSE FALSE FALSE FALSE FALSE FALSE FALSE FALSE FALSE  TRUE FALSE\n",
       "[157]  TRUE FALSE FALSE FALSE FALSE FALSE FALSE FALSE FALSE FALSE FALSE FALSE\n",
       "[169] FALSE FALSE FALSE FALSE  TRUE FALSE FALSE FALSE FALSE FALSE FALSE FALSE\n",
       "[181] FALSE FALSE FALSE FALSE FALSE FALSE FALSE FALSE FALSE FALSE FALSE FALSE\n",
       "[193] FALSE FALSE FALSE"
      ]
     },
     "metadata": {},
     "output_type": "display_data"
    }
   ],
   "source": [
    "filter"
   ]
  },
  {
   "cell_type": "code",
   "execution_count": 29,
   "metadata": {},
   "outputs": [
    {
     "data": {
      "text/html": [
       "<table>\n",
       "<thead><tr><th></th><th scope=col>Country.Name</th><th scope=col>Country.Code</th><th scope=col>Birth.rate</th><th scope=col>Internet.users</th><th scope=col>Income.Group</th></tr></thead>\n",
       "<tbody>\n",
       "\t<tr><th scope=row>12</th><td>Burundi            </td><td>BDI                </td><td>44.151             </td><td>1.3                </td><td>Low income         </td></tr>\n",
       "\t<tr><th scope=row>53</th><td>Eritrea            </td><td>ERI                </td><td>34.800             </td><td>0.9                </td><td>Low income         </td></tr>\n",
       "\t<tr><th scope=row>56</th><td>Ethiopia           </td><td>ETH                </td><td>32.925             </td><td>1.9                </td><td>Low income         </td></tr>\n",
       "\t<tr><th scope=row>65</th><td>Guinea             </td><td>GIN                </td><td>37.337             </td><td>1.6                </td><td>Low income         </td></tr>\n",
       "\t<tr><th scope=row>118</th><td>Myanmar            </td><td>MMR                </td><td>18.119             </td><td>1.6                </td><td>Lower middle income</td></tr>\n",
       "\t<tr><th scope=row>128</th><td>Niger              </td><td>NER                </td><td>49.661             </td><td>1.7                </td><td>Low income         </td></tr>\n",
       "\t<tr><th scope=row>155</th><td>Sierra Leone       </td><td>SLE                </td><td>36.729             </td><td>1.7                </td><td>Low income         </td></tr>\n",
       "\t<tr><th scope=row>157</th><td>Somalia            </td><td>SOM                </td><td>43.891             </td><td>1.5                </td><td>Low income         </td></tr>\n",
       "\t<tr><th scope=row>173</th><td>Timor-Leste        </td><td>TLS                </td><td>35.755             </td><td>1.1                </td><td>Lower middle income</td></tr>\n",
       "</tbody>\n",
       "</table>\n"
      ],
      "text/latex": [
       "\\begin{tabular}{r|lllll}\n",
       "  & Country.Name & Country.Code & Birth.rate & Internet.users & Income.Group\\\\\n",
       "\\hline\n",
       "\t12 & Burundi             & BDI                 & 44.151              & 1.3                 & Low income         \\\\\n",
       "\t53 & Eritrea             & ERI                 & 34.800              & 0.9                 & Low income         \\\\\n",
       "\t56 & Ethiopia            & ETH                 & 32.925              & 1.9                 & Low income         \\\\\n",
       "\t65 & Guinea              & GIN                 & 37.337              & 1.6                 & Low income         \\\\\n",
       "\t118 & Myanmar             & MMR                 & 18.119              & 1.6                 & Lower middle income\\\\\n",
       "\t128 & Niger               & NER                 & 49.661              & 1.7                 & Low income         \\\\\n",
       "\t155 & Sierra Leone        & SLE                 & 36.729              & 1.7                 & Low income         \\\\\n",
       "\t157 & Somalia             & SOM                 & 43.891              & 1.5                 & Low income         \\\\\n",
       "\t173 & Timor-Leste         & TLS                 & 35.755              & 1.1                 & Lower middle income\\\\\n",
       "\\end{tabular}\n"
      ],
      "text/markdown": [
       "\n",
       "| <!--/--> | Country.Name | Country.Code | Birth.rate | Internet.users | Income.Group | \n",
       "|---|---|---|---|---|---|---|---|---|\n",
       "| 12 | Burundi             | BDI                 | 44.151              | 1.3                 | Low income          | \n",
       "| 53 | Eritrea             | ERI                 | 34.800              | 0.9                 | Low income          | \n",
       "| 56 | Ethiopia            | ETH                 | 32.925              | 1.9                 | Low income          | \n",
       "| 65 | Guinea              | GIN                 | 37.337              | 1.6                 | Low income          | \n",
       "| 118 | Myanmar             | MMR                 | 18.119              | 1.6                 | Lower middle income | \n",
       "| 128 | Niger               | NER                 | 49.661              | 1.7                 | Low income          | \n",
       "| 155 | Sierra Leone        | SLE                 | 36.729              | 1.7                 | Low income          | \n",
       "| 157 | Somalia             | SOM                 | 43.891              | 1.5                 | Low income          | \n",
       "| 173 | Timor-Leste         | TLS                 | 35.755              | 1.1                 | Lower middle income | \n",
       "\n",
       "\n"
      ],
      "text/plain": [
       "    Country.Name Country.Code Birth.rate Internet.users Income.Group       \n",
       "12  Burundi      BDI          44.151     1.3            Low income         \n",
       "53  Eritrea      ERI          34.800     0.9            Low income         \n",
       "56  Ethiopia     ETH          32.925     1.9            Low income         \n",
       "65  Guinea       GIN          37.337     1.6            Low income         \n",
       "118 Myanmar      MMR          18.119     1.6            Lower middle income\n",
       "128 Niger        NER          49.661     1.7            Low income         \n",
       "155 Sierra Leone SLE          36.729     1.7            Low income         \n",
       "157 Somalia      SOM          43.891     1.5            Low income         \n",
       "173 Timor-Leste  TLS          35.755     1.1            Lower middle income"
      ]
     },
     "metadata": {},
     "output_type": "display_data"
    }
   ],
   "source": [
    "data[filter,]"
   ]
  },
  {
   "cell_type": "code",
   "execution_count": 30,
   "metadata": {},
   "outputs": [
    {
     "data": {
      "text/html": [
       "<table>\n",
       "<thead><tr><th></th><th scope=col>Country.Name</th><th scope=col>Country.Code</th><th scope=col>Birth.rate</th><th scope=col>Internet.users</th><th scope=col>Income.Group</th></tr></thead>\n",
       "<tbody>\n",
       "\t<tr><th scope=row>12</th><td>Burundi            </td><td>BDI                </td><td>44.151             </td><td>1.3                </td><td>Low income         </td></tr>\n",
       "\t<tr><th scope=row>53</th><td>Eritrea            </td><td>ERI                </td><td>34.800             </td><td>0.9                </td><td>Low income         </td></tr>\n",
       "\t<tr><th scope=row>56</th><td>Ethiopia           </td><td>ETH                </td><td>32.925             </td><td>1.9                </td><td>Low income         </td></tr>\n",
       "\t<tr><th scope=row>65</th><td>Guinea             </td><td>GIN                </td><td>37.337             </td><td>1.6                </td><td>Low income         </td></tr>\n",
       "\t<tr><th scope=row>118</th><td>Myanmar            </td><td>MMR                </td><td>18.119             </td><td>1.6                </td><td>Lower middle income</td></tr>\n",
       "\t<tr><th scope=row>128</th><td>Niger              </td><td>NER                </td><td>49.661             </td><td>1.7                </td><td>Low income         </td></tr>\n",
       "\t<tr><th scope=row>155</th><td>Sierra Leone       </td><td>SLE                </td><td>36.729             </td><td>1.7                </td><td>Low income         </td></tr>\n",
       "\t<tr><th scope=row>157</th><td>Somalia            </td><td>SOM                </td><td>43.891             </td><td>1.5                </td><td>Low income         </td></tr>\n",
       "\t<tr><th scope=row>173</th><td>Timor-Leste        </td><td>TLS                </td><td>35.755             </td><td>1.1                </td><td>Lower middle income</td></tr>\n",
       "</tbody>\n",
       "</table>\n"
      ],
      "text/latex": [
       "\\begin{tabular}{r|lllll}\n",
       "  & Country.Name & Country.Code & Birth.rate & Internet.users & Income.Group\\\\\n",
       "\\hline\n",
       "\t12 & Burundi             & BDI                 & 44.151              & 1.3                 & Low income         \\\\\n",
       "\t53 & Eritrea             & ERI                 & 34.800              & 0.9                 & Low income         \\\\\n",
       "\t56 & Ethiopia            & ETH                 & 32.925              & 1.9                 & Low income         \\\\\n",
       "\t65 & Guinea              & GIN                 & 37.337              & 1.6                 & Low income         \\\\\n",
       "\t118 & Myanmar             & MMR                 & 18.119              & 1.6                 & Lower middle income\\\\\n",
       "\t128 & Niger               & NER                 & 49.661              & 1.7                 & Low income         \\\\\n",
       "\t155 & Sierra Leone        & SLE                 & 36.729              & 1.7                 & Low income         \\\\\n",
       "\t157 & Somalia             & SOM                 & 43.891              & 1.5                 & Low income         \\\\\n",
       "\t173 & Timor-Leste         & TLS                 & 35.755              & 1.1                 & Lower middle income\\\\\n",
       "\\end{tabular}\n"
      ],
      "text/markdown": [
       "\n",
       "| <!--/--> | Country.Name | Country.Code | Birth.rate | Internet.users | Income.Group | \n",
       "|---|---|---|---|---|---|---|---|---|\n",
       "| 12 | Burundi             | BDI                 | 44.151              | 1.3                 | Low income          | \n",
       "| 53 | Eritrea             | ERI                 | 34.800              | 0.9                 | Low income          | \n",
       "| 56 | Ethiopia            | ETH                 | 32.925              | 1.9                 | Low income          | \n",
       "| 65 | Guinea              | GIN                 | 37.337              | 1.6                 | Low income          | \n",
       "| 118 | Myanmar             | MMR                 | 18.119              | 1.6                 | Lower middle income | \n",
       "| 128 | Niger               | NER                 | 49.661              | 1.7                 | Low income          | \n",
       "| 155 | Sierra Leone        | SLE                 | 36.729              | 1.7                 | Low income          | \n",
       "| 157 | Somalia             | SOM                 | 43.891              | 1.5                 | Low income          | \n",
       "| 173 | Timor-Leste         | TLS                 | 35.755              | 1.1                 | Lower middle income | \n",
       "\n",
       "\n"
      ],
      "text/plain": [
       "    Country.Name Country.Code Birth.rate Internet.users Income.Group       \n",
       "12  Burundi      BDI          44.151     1.3            Low income         \n",
       "53  Eritrea      ERI          34.800     0.9            Low income         \n",
       "56  Ethiopia     ETH          32.925     1.9            Low income         \n",
       "65  Guinea       GIN          37.337     1.6            Low income         \n",
       "118 Myanmar      MMR          18.119     1.6            Lower middle income\n",
       "128 Niger        NER          49.661     1.7            Low income         \n",
       "155 Sierra Leone SLE          36.729     1.7            Low income         \n",
       "157 Somalia      SOM          43.891     1.5            Low income         \n",
       "173 Timor-Leste  TLS          35.755     1.1            Lower middle income"
      ]
     },
     "metadata": {},
     "output_type": "display_data"
    }
   ],
   "source": [
    "data[data$Internet.users < 2,]"
   ]
  },
  {
   "cell_type": "code",
   "execution_count": 31,
   "metadata": {},
   "outputs": [
    {
     "data": {
      "text/html": [
       "<table>\n",
       "<thead><tr><th></th><th scope=col>Country.Name</th><th scope=col>Country.Code</th><th scope=col>Birth.rate</th><th scope=col>Internet.users</th><th scope=col>Income.Group</th></tr></thead>\n",
       "<tbody>\n",
       "\t<tr><th scope=row>12</th><td>Burundi   </td><td>BDI       </td><td>44.151    </td><td>1.3       </td><td>Low income</td></tr>\n",
       "\t<tr><th scope=row>128</th><td>Niger     </td><td>NER       </td><td>49.661    </td><td>1.7       </td><td>Low income</td></tr>\n",
       "\t<tr><th scope=row>157</th><td>Somalia   </td><td>SOM       </td><td>43.891    </td><td>1.5       </td><td>Low income</td></tr>\n",
       "</tbody>\n",
       "</table>\n"
      ],
      "text/latex": [
       "\\begin{tabular}{r|lllll}\n",
       "  & Country.Name & Country.Code & Birth.rate & Internet.users & Income.Group\\\\\n",
       "\\hline\n",
       "\t12 & Burundi    & BDI        & 44.151     & 1.3        & Low income\\\\\n",
       "\t128 & Niger      & NER        & 49.661     & 1.7        & Low income\\\\\n",
       "\t157 & Somalia    & SOM        & 43.891     & 1.5        & Low income\\\\\n",
       "\\end{tabular}\n"
      ],
      "text/markdown": [
       "\n",
       "| <!--/--> | Country.Name | Country.Code | Birth.rate | Internet.users | Income.Group | \n",
       "|---|---|---|\n",
       "| 12 | Burundi    | BDI        | 44.151     | 1.3        | Low income | \n",
       "| 128 | Niger      | NER        | 49.661     | 1.7        | Low income | \n",
       "| 157 | Somalia    | SOM        | 43.891     | 1.5        | Low income | \n",
       "\n",
       "\n"
      ],
      "text/plain": [
       "    Country.Name Country.Code Birth.rate Internet.users Income.Group\n",
       "12  Burundi      BDI          44.151     1.3            Low income  \n",
       "128 Niger        NER          49.661     1.7            Low income  \n",
       "157 Somalia      SOM          43.891     1.5            Low income  "
      ]
     },
     "metadata": {},
     "output_type": "display_data"
    }
   ],
   "source": [
    "data[data$Birth.rate > 40 &data$Internet.users < 2,]"
   ]
  },
  {
   "cell_type": "code",
   "execution_count": 32,
   "metadata": {},
   "outputs": [
    {
     "data": {
      "text/html": [
       "<table>\n",
       "<thead><tr><th></th><th scope=col>Country.Name</th><th scope=col>Country.Code</th><th scope=col>Birth.rate</th><th scope=col>Internet.users</th><th scope=col>Income.Group</th></tr></thead>\n",
       "<tbody>\n",
       "\t<tr><th scope=row>157</th><td>Somalia   </td><td>SOM       </td><td>43.891    </td><td>1.5       </td><td>Low income</td></tr>\n",
       "</tbody>\n",
       "</table>\n"
      ],
      "text/latex": [
       "\\begin{tabular}{r|lllll}\n",
       "  & Country.Name & Country.Code & Birth.rate & Internet.users & Income.Group\\\\\n",
       "\\hline\n",
       "\t157 & Somalia    & SOM        & 43.891     & 1.5        & Low income\\\\\n",
       "\\end{tabular}\n"
      ],
      "text/markdown": [
       "\n",
       "| <!--/--> | Country.Name | Country.Code | Birth.rate | Internet.users | Income.Group | \n",
       "|---|\n",
       "| 157 | Somalia    | SOM        | 43.891     | 1.5        | Low income | \n",
       "\n",
       "\n"
      ],
      "text/plain": [
       "    Country.Name Country.Code Birth.rate Internet.users Income.Group\n",
       "157 Somalia      SOM          43.891     1.5            Low income  "
      ]
     },
     "metadata": {},
     "output_type": "display_data"
    }
   ],
   "source": [
    "data[data$\tCountry.Name ==\"Somalia\",]"
   ]
  },
  {
   "cell_type": "code",
   "execution_count": 33,
   "metadata": {},
   "outputs": [],
   "source": [
    "library(ggplot2)"
   ]
  },
  {
   "cell_type": "code",
   "execution_count": 34,
   "metadata": {},
   "outputs": [
    {
     "data": {},
     "metadata": {},
     "output_type": "display_data"
    },
    {
     "data": {
      "image/png": "[encoded data removed]",
      "text/plain": [
       "plot without title"
      ]
     },
     "metadata": {},
     "output_type": "display_data"
    }
   ],
   "source": [
    "qplot(data=data,x=Income.Group,y=Birth.rate,geom =\"boxplot\",size=I(1),color=I(\"blue\"))"
   ]
  },
  {
   "cell_type": "code",
   "execution_count": 35,
   "metadata": {},
   "outputs": [
    {
     "data": {},
     "metadata": {},
     "output_type": "display_data"
    },
    {
     "data": {
      "image/png": "[encoded data removed]",
      "text/plain": [
       "plot without title"
      ]
     },
     "metadata": {},
     "output_type": "display_data"
    }
   ],
   "source": [
    "qplot(data=data,x=Internet.users,y=Birth.rate,size=I(3),color=Income.Group)"
   ]
  },
  {
   "cell_type": "code",
   "execution_count": 37,
   "metadata": {},
   "outputs": [],
   "source": [
    "#Execute below code to generate three new vectors\n",
    "Countries_2012_Dataset <- c(\"Aruba\",\"Afghanistan\",\"Angola\",\"Albania\",\"United Arab Emirates\",\"Argentina\",\"Armenia\",\"Antigua and Barbuda\",\"Australia\",\"Austria\",\"Azerbaijan\",\"Burundi\",\"Belgium\",\"Benin\",\"Burkina Faso\",\"Bangladesh\",\"Bulgaria\",\"Bahrain\",\"Bahamas, The\",\"Bosnia and Herzegovina\",\"Belarus\",\"Belize\",\"Bermuda\",\"Bolivia\",\"Brazil\",\"Barbados\",\"Brunei Darussalam\",\"Bhutan\",\"Botswana\",\"Central African Republic\",\"Canada\",\"Switzerland\",\"Chile\",\"China\",\"Cote d'Ivoire\",\"Cameroon\",\"Congo, Rep.\",\"Colombia\",\"Comoros\",\"Cabo Verde\",\"Costa Rica\",\"Cuba\",\"Cayman Islands\",\"Cyprus\",\"Czech Republic\",\"Germany\",\"Djibouti\",\"Denmark\",\"Dominican Republic\",\"Algeria\",\"Ecuador\",\"Egypt, Arab Rep.\",\"Eritrea\",\"Spain\",\"Estonia\",\"Ethiopia\",\"Finland\",\"Fiji\",\"France\",\"Micronesia, Fed. Sts.\",\"Gabon\",\"United Kingdom\",\"Georgia\",\"Ghana\",\"Guinea\",\"Gambia, The\",\"Guinea-Bissau\",\"Equatorial Guinea\",\"Greece\",\"Grenada\",\"Greenland\",\"Guatemala\",\"Guam\",\"Guyana\",\"Hong Kong SAR, China\",\"Honduras\",\"Croatia\",\"Haiti\",\"Hungary\",\"Indonesia\",\"India\",\"Ireland\",\"Iran, Islamic Rep.\",\"Iraq\",\"Iceland\",\"Israel\",\"Italy\",\"Jamaica\",\"Jordan\",\"Japan\",\"Kazakhstan\",\"Kenya\",\"Kyrgyz Republic\",\"Cambodia\",\"Kiribati\",\"Korea, Rep.\",\"Kuwait\",\"Lao PDR\",\"Lebanon\",\"Liberia\",\"Libya\",\"St. Lucia\",\"Liechtenstein\",\"Sri Lanka\",\"Lesotho\",\"Lithuania\",\"Luxembourg\",\"Latvia\",\"Macao SAR, China\",\"Morocco\",\"Moldova\",\"Madagascar\",\"Maldives\",\"Mexico\",\"Macedonia, FYR\",\"Mali\",\"Malta\",\"Myanmar\",\"Montenegro\",\"Mongolia\",\"Mozambique\",\"Mauritania\",\"Mauritius\",\"Malawi\",\"Malaysia\",\"Namibia\",\"New Caledonia\",\"Niger\",\"Nigeria\",\"Nicaragua\",\"Netherlands\",\"Norway\",\"Nepal\",\"New Zealand\",\"Oman\",\"Pakistan\",\"Panama\",\"Peru\",\"Philippines\",\"Papua New Guinea\",\"Poland\",\"Puerto Rico\",\"Portugal\",\"Paraguay\",\"French Polynesia\",\"Qatar\",\"Romania\",\"Russian Federation\",\"Rwanda\",\"Saudi Arabia\",\"Sudan\",\"Senegal\",\"Singapore\",\"Solomon Islands\",\"Sierra Leone\",\"El Salvador\",\"Somalia\",\"Serbia\",\"South Sudan\",\"Sao Tome and Principe\",\"Suriname\",\"Slovak Republic\",\"Slovenia\",\"Sweden\",\"Swaziland\",\"Seychelles\",\"Syrian Arab Republic\",\"Chad\",\"Togo\",\"Thailand\",\"Tajikistan\",\"Turkmenistan\",\"Timor-Leste\",\"Tonga\",\"Trinidad and Tobago\",\"Tunisia\",\"Turkey\",\"Tanzania\",\"Uganda\",\"Ukraine\",\"Uruguay\",\"United States\",\"Uzbekistan\",\"St. Vincent and the Grenadines\",\"Venezuela, RB\",\"Virgin Islands (U.S.)\",\"Vietnam\",\"Vanuatu\",\"West Bank and Gaza\",\"Samoa\",\"Yemen, Rep.\",\"South Africa\",\"Congo, Dem. Rep.\",\"Zambia\",\"Zimbabwe\")\n",
    "Codes_2012_Dataset <- c(\"ABW\",\"AFG\",\"AGO\",\"ALB\",\"ARE\",\"ARG\",\"ARM\",\"ATG\",\"AUS\",\"AUT\",\"AZE\",\"BDI\",\"BEL\",\"BEN\",\"BFA\",\"BGD\",\"BGR\",\"BHR\",\"BHS\",\"BIH\",\"BLR\",\"BLZ\",\"BMU\",\"BOL\",\"BRA\",\"BRB\",\"BRN\",\"BTN\",\"BWA\",\"CAF\",\"CAN\",\"CHE\",\"CHL\",\"CHN\",\"CIV\",\"CMR\",\"COG\",\"COL\",\"COM\",\"CPV\",\"CRI\",\"CUB\",\"CYM\",\"CYP\",\"CZE\",\"DEU\",\"DJI\",\"DNK\",\"DOM\",\"DZA\",\"ECU\",\"EGY\",\"ERI\",\"ESP\",\"EST\",\"ETH\",\"FIN\",\"FJI\",\"FRA\",\"FSM\",\"GAB\",\"GBR\",\"GEO\",\"GHA\",\"GIN\",\"GMB\",\"GNB\",\"GNQ\",\"GRC\",\"GRD\",\"GRL\",\"GTM\",\"GUM\",\"GUY\",\"HKG\",\"HND\",\"HRV\",\"HTI\",\"HUN\",\"IDN\",\"IND\",\"IRL\",\"IRN\",\"IRQ\",\"ISL\",\"ISR\",\"ITA\",\"JAM\",\"JOR\",\"JPN\",\"KAZ\",\"KEN\",\"KGZ\",\"KHM\",\"KIR\",\"KOR\",\"KWT\",\"LAO\",\"LBN\",\"LBR\",\"LBY\",\"LCA\",\"LIE\",\"LKA\",\"LSO\",\"LTU\",\"LUX\",\"LVA\",\"MAC\",\"MAR\",\"MDA\",\"MDG\",\"MDV\",\"MEX\",\"MKD\",\"MLI\",\"MLT\",\"MMR\",\"MNE\",\"MNG\",\"MOZ\",\"MRT\",\"MUS\",\"MWI\",\"MYS\",\"NAM\",\"NCL\",\"NER\",\"NGA\",\"NIC\",\"NLD\",\"NOR\",\"NPL\",\"NZL\",\"OMN\",\"PAK\",\"PAN\",\"PER\",\"PHL\",\"PNG\",\"POL\",\"PRI\",\"PRT\",\"PRY\",\"PYF\",\"QAT\",\"ROU\",\"RUS\",\"RWA\",\"SAU\",\"SDN\",\"SEN\",\"SGP\",\"SLB\",\"SLE\",\"SLV\",\"SOM\",\"SRB\",\"SSD\",\"STP\",\"SUR\",\"SVK\",\"SVN\",\"SWE\",\"SWZ\",\"SYC\",\"SYR\",\"TCD\",\"TGO\",\"THA\",\"TJK\",\"TKM\",\"TLS\",\"TON\",\"TTO\",\"TUN\",\"TUR\",\"TZA\",\"UGA\",\"UKR\",\"URY\",\"USA\",\"UZB\",\"VCT\",\"VEN\",\"VIR\",\"VNM\",\"VUT\",\"PSE\",\"WSM\",\"YEM\",\"ZAF\",\"COD\",\"ZMB\",\"ZWE\")\n",
    "Regions_2012_Dataset <- c(\"The Americas\",\"Asia\",\"Africa\",\"Europe\",\"Middle East\",\"The Americas\",\"Asia\",\"The Americas\",\"Oceania\",\"Europe\",\"Asia\",\"Africa\",\"Europe\",\"Africa\",\"Africa\",\"Asia\",\"Europe\",\"Middle East\",\"The Americas\",\"Europe\",\"Europe\",\"The Americas\",\"The Americas\",\"The Americas\",\"The Americas\",\"The Americas\",\"Asia\",\"Asia\",\"Africa\",\"Africa\",\"The Americas\",\"Europe\",\"The Americas\",\"Asia\",\"Africa\",\"Africa\",\"Africa\",\"The Americas\",\"Africa\",\"Africa\",\"The Americas\",\"The Americas\",\"The Americas\",\"Europe\",\"Europe\",\"Europe\",\"Africa\",\"Europe\",\"The Americas\",\"Africa\",\"The Americas\",\"Africa\",\"Africa\",\"Europe\",\"Europe\",\"Africa\",\"Europe\",\"Oceania\",\"Europe\",\"Oceania\",\"Africa\",\"Europe\",\"Asia\",\"Africa\",\"Africa\",\"Africa\",\"Africa\",\"Africa\",\"Europe\",\"The Americas\",\"The Americas\",\"The Americas\",\"Oceania\",\"The Americas\",\"Asia\",\"The Americas\",\"Europe\",\"The Americas\",\"Europe\",\"Asia\",\"Asia\",\"Europe\",\"Middle East\",\"Middle East\",\"Europe\",\"Middle East\",\"Europe\",\"The Americas\",\"Middle East\",\"Asia\",\"Asia\",\"Africa\",\"Asia\",\"Asia\",\"Oceania\",\"Asia\",\"Middle East\",\"Asia\",\"Middle East\",\"Africa\",\"Africa\",\"The Americas\",\"Europe\",\"Asia\",\"Africa\",\"Europe\",\"Europe\",\"Europe\",\"Asia\",\"Africa\",\"Europe\",\"Africa\",\"Asia\",\"The Americas\",\"Europe\",\"Africa\",\"Europe\",\"Asia\",\"Europe\",\"Asia\",\"Africa\",\"Africa\",\"Africa\",\"Africa\",\"Asia\",\"Africa\",\"Oceania\",\"Africa\",\"Africa\",\"The Americas\",\"Europe\",\"Europe\",\"Asia\",\"Oceania\",\"Middle East\",\"Asia\",\"The Americas\",\"The Americas\",\"Asia\",\"Oceania\",\"Europe\",\"The Americas\",\"Europe\",\"The Americas\",\"Oceania\",\"Middle East\",\"Europe\",\"Europe\",\"Africa\",\"Middle East\",\"Africa\",\"Africa\",\"Asia\",\"Oceania\",\"Africa\",\"The Americas\",\"Africa\",\"Europe\",\"Africa\",\"Africa\",\"The Americas\",\"Europe\",\"Europe\",\"Europe\",\"Africa\",\"Africa\",\"Middle East\",\"Africa\",\"Africa\",\"Asia\",\"Asia\",\"Asia\",\"Asia\",\"Oceania\",\"The Americas\",\"Africa\",\"Europe\",\"Africa\",\"Africa\",\"Europe\",\"The Americas\",\"The Americas\",\"Asia\",\"The Americas\",\"The Americas\",\"The Americas\",\"Asia\",\"Oceania\",\"Middle East\",\"Oceania\",\"Middle East\",\"Africa\",\"Africa\",\"Africa\",\"Africa\")"
   ]
  },
  {
   "cell_type": "code",
   "execution_count": 40,
   "metadata": {},
   "outputs": [],
   "source": [
    "mydf <- data.frame(Country=Countries_2012_Dataset,Code=Codes_2012_Dataset,Region=Regions_2012_Dataset)"
   ]
  },
  {
   "cell_type": "code",
   "execution_count": 42,
   "metadata": {},
   "outputs": [
    {
     "data": {
      "text/html": [
       "<table>\n",
       "<thead><tr><th scope=col>Country</th><th scope=col>Code</th><th scope=col>Region</th></tr></thead>\n",
       "<tbody>\n",
       "\t<tr><td>Aruba               </td><td>ABW                 </td><td>The Americas        </td></tr>\n",
       "\t<tr><td>Afghanistan         </td><td>AFG                 </td><td>Asia                </td></tr>\n",
       "\t<tr><td>Angola              </td><td>AGO                 </td><td>Africa              </td></tr>\n",
       "\t<tr><td>Albania             </td><td>ALB                 </td><td>Europe              </td></tr>\n",
       "\t<tr><td>United Arab Emirates</td><td>ARE                 </td><td>Middle East         </td></tr>\n",
       "\t<tr><td>Argentina           </td><td>ARG                 </td><td>The Americas        </td></tr>\n",
       "</tbody>\n",
       "</table>\n"
      ],
      "text/latex": [
       "\\begin{tabular}{r|lll}\n",
       " Country & Code & Region\\\\\n",
       "\\hline\n",
       "\t Aruba                & ABW                  & The Americas        \\\\\n",
       "\t Afghanistan          & AFG                  & Asia                \\\\\n",
       "\t Angola               & AGO                  & Africa              \\\\\n",
       "\t Albania              & ALB                  & Europe              \\\\\n",
       "\t United Arab Emirates & ARE                  & Middle East         \\\\\n",
       "\t Argentina            & ARG                  & The Americas        \\\\\n",
       "\\end{tabular}\n"
      ],
      "text/markdown": [
       "\n",
       "Country | Code | Region | \n",
       "|---|---|---|---|---|---|\n",
       "| Aruba                | ABW                  | The Americas         | \n",
       "| Afghanistan          | AFG                  | Asia                 | \n",
       "| Angola               | AGO                  | Africa               | \n",
       "| Albania              | ALB                  | Europe               | \n",
       "| United Arab Emirates | ARE                  | Middle East          | \n",
       "| Argentina            | ARG                  | The Americas         | \n",
       "\n",
       "\n"
      ],
      "text/plain": [
       "  Country              Code Region      \n",
       "1 Aruba                ABW  The Americas\n",
       "2 Afghanistan          AFG  Asia        \n",
       "3 Angola               AGO  Africa      \n",
       "4 Albania              ALB  Europe      \n",
       "5 United Arab Emirates ARE  Middle East \n",
       "6 Argentina            ARG  The Americas"
      ]
     },
     "metadata": {},
     "output_type": "display_data"
    }
   ],
   "source": [
    "head(mydf)"
   ]
  },
  {
   "cell_type": "code",
   "execution_count": 45,
   "metadata": {},
   "outputs": [
    {
     "data": {
      "text/html": [
       "<table>\n",
       "<thead><tr><th scope=col>Country.Name</th><th scope=col>Country.Code</th><th scope=col>Birth.rate</th><th scope=col>Internet.users</th><th scope=col>Income.Group</th></tr></thead>\n",
       "<tbody>\n",
       "\t<tr><td>Aruba               </td><td>ABW                 </td><td>10.244              </td><td>78.9                </td><td>High income         </td></tr>\n",
       "\t<tr><td>Afghanistan         </td><td>AFG                 </td><td>35.253              </td><td> 5.9                </td><td>Low income          </td></tr>\n",
       "\t<tr><td>Angola              </td><td>AGO                 </td><td>45.985              </td><td>19.1                </td><td>Upper middle income </td></tr>\n",
       "\t<tr><td>Albania             </td><td>ALB                 </td><td>12.877              </td><td>57.2                </td><td>Upper middle income </td></tr>\n",
       "\t<tr><td>United Arab Emirates</td><td>ARE                 </td><td>11.044              </td><td>88.0                </td><td>High income         </td></tr>\n",
       "\t<tr><td>Argentina           </td><td>ARG                 </td><td>17.716              </td><td>59.9                </td><td>High income         </td></tr>\n",
       "</tbody>\n",
       "</table>\n"
      ],
      "text/latex": [
       "\\begin{tabular}{r|lllll}\n",
       " Country.Name & Country.Code & Birth.rate & Internet.users & Income.Group\\\\\n",
       "\\hline\n",
       "\t Aruba                & ABW                  & 10.244               & 78.9                 & High income         \\\\\n",
       "\t Afghanistan          & AFG                  & 35.253               &  5.9                 & Low income          \\\\\n",
       "\t Angola               & AGO                  & 45.985               & 19.1                 & Upper middle income \\\\\n",
       "\t Albania              & ALB                  & 12.877               & 57.2                 & Upper middle income \\\\\n",
       "\t United Arab Emirates & ARE                  & 11.044               & 88.0                 & High income         \\\\\n",
       "\t Argentina            & ARG                  & 17.716               & 59.9                 & High income         \\\\\n",
       "\\end{tabular}\n"
      ],
      "text/markdown": [
       "\n",
       "Country.Name | Country.Code | Birth.rate | Internet.users | Income.Group | \n",
       "|---|---|---|---|---|---|\n",
       "| Aruba                | ABW                  | 10.244               | 78.9                 | High income          | \n",
       "| Afghanistan          | AFG                  | 35.253               |  5.9                 | Low income           | \n",
       "| Angola               | AGO                  | 45.985               | 19.1                 | Upper middle income  | \n",
       "| Albania              | ALB                  | 12.877               | 57.2                 | Upper middle income  | \n",
       "| United Arab Emirates | ARE                  | 11.044               | 88.0                 | High income          | \n",
       "| Argentina            | ARG                  | 17.716               | 59.9                 | High income          | \n",
       "\n",
       "\n"
      ],
      "text/plain": [
       "  Country.Name         Country.Code Birth.rate Internet.users\n",
       "1 Aruba                ABW          10.244     78.9          \n",
       "2 Afghanistan          AFG          35.253      5.9          \n",
       "3 Angola               AGO          45.985     19.1          \n",
       "4 Albania              ALB          12.877     57.2          \n",
       "5 United Arab Emirates ARE          11.044     88.0          \n",
       "6 Argentina            ARG          17.716     59.9          \n",
       "  Income.Group       \n",
       "1 High income        \n",
       "2 Low income         \n",
       "3 Upper middle income\n",
       "4 Upper middle income\n",
       "5 High income        \n",
       "6 High income        "
      ]
     },
     "metadata": {},
     "output_type": "display_data"
    }
   ],
   "source": [
    "head(data)"
   ]
  },
  {
   "cell_type": "code",
   "execution_count": 46,
   "metadata": {},
   "outputs": [],
   "source": [
    "merged <- merge(data,mydf,by.x =\"Country.Code\",by.y = \"Code\" )"
   ]
  },
  {
   "cell_type": "code",
   "execution_count": 47,
   "metadata": {},
   "outputs": [
    {
     "data": {
      "text/html": [
       "<table>\n",
       "<thead><tr><th scope=col>Country.Code</th><th scope=col>Country.Name</th><th scope=col>Birth.rate</th><th scope=col>Internet.users</th><th scope=col>Income.Group</th><th scope=col>Country</th><th scope=col>Region</th></tr></thead>\n",
       "<tbody>\n",
       "\t<tr><td>ABW                 </td><td>Aruba               </td><td>10.244              </td><td>78.9                </td><td>High income         </td><td>Aruba               </td><td>The Americas        </td></tr>\n",
       "\t<tr><td>AFG                 </td><td>Afghanistan         </td><td>35.253              </td><td> 5.9                </td><td>Low income          </td><td>Afghanistan         </td><td>Asia                </td></tr>\n",
       "\t<tr><td>AGO                 </td><td>Angola              </td><td>45.985              </td><td>19.1                </td><td>Upper middle income </td><td>Angola              </td><td>Africa              </td></tr>\n",
       "\t<tr><td>ALB                 </td><td>Albania             </td><td>12.877              </td><td>57.2                </td><td>Upper middle income </td><td>Albania             </td><td>Europe              </td></tr>\n",
       "\t<tr><td>ARE                 </td><td>United Arab Emirates</td><td>11.044              </td><td>88.0                </td><td>High income         </td><td>United Arab Emirates</td><td>Middle East         </td></tr>\n",
       "\t<tr><td>ARG                 </td><td>Argentina           </td><td>17.716              </td><td>59.9                </td><td>High income         </td><td>Argentina           </td><td>The Americas        </td></tr>\n",
       "</tbody>\n",
       "</table>\n"
      ],
      "text/latex": [
       "\\begin{tabular}{r|lllllll}\n",
       " Country.Code & Country.Name & Birth.rate & Internet.users & Income.Group & Country & Region\\\\\n",
       "\\hline\n",
       "\t ABW                  & Aruba                & 10.244               & 78.9                 & High income          & Aruba                & The Americas        \\\\\n",
       "\t AFG                  & Afghanistan          & 35.253               &  5.9                 & Low income           & Afghanistan          & Asia                \\\\\n",
       "\t AGO                  & Angola               & 45.985               & 19.1                 & Upper middle income  & Angola               & Africa              \\\\\n",
       "\t ALB                  & Albania              & 12.877               & 57.2                 & Upper middle income  & Albania              & Europe              \\\\\n",
       "\t ARE                  & United Arab Emirates & 11.044               & 88.0                 & High income          & United Arab Emirates & Middle East         \\\\\n",
       "\t ARG                  & Argentina            & 17.716               & 59.9                 & High income          & Argentina            & The Americas        \\\\\n",
       "\\end{tabular}\n"
      ],
      "text/markdown": [
       "\n",
       "Country.Code | Country.Name | Birth.rate | Internet.users | Income.Group | Country | Region | \n",
       "|---|---|---|---|---|---|\n",
       "| ABW                  | Aruba                | 10.244               | 78.9                 | High income          | Aruba                | The Americas         | \n",
       "| AFG                  | Afghanistan          | 35.253               |  5.9                 | Low income           | Afghanistan          | Asia                 | \n",
       "| AGO                  | Angola               | 45.985               | 19.1                 | Upper middle income  | Angola               | Africa               | \n",
       "| ALB                  | Albania              | 12.877               | 57.2                 | Upper middle income  | Albania              | Europe               | \n",
       "| ARE                  | United Arab Emirates | 11.044               | 88.0                 | High income          | United Arab Emirates | Middle East          | \n",
       "| ARG                  | Argentina            | 17.716               | 59.9                 | High income          | Argentina            | The Americas         | \n",
       "\n",
       "\n"
      ],
      "text/plain": [
       "  Country.Code Country.Name         Birth.rate Internet.users\n",
       "1 ABW          Aruba                10.244     78.9          \n",
       "2 AFG          Afghanistan          35.253      5.9          \n",
       "3 AGO          Angola               45.985     19.1          \n",
       "4 ALB          Albania              12.877     57.2          \n",
       "5 ARE          United Arab Emirates 11.044     88.0          \n",
       "6 ARG          Argentina            17.716     59.9          \n",
       "  Income.Group        Country              Region      \n",
       "1 High income         Aruba                The Americas\n",
       "2 Low income          Afghanistan          Asia        \n",
       "3 Upper middle income Angola               Africa      \n",
       "4 Upper middle income Albania              Europe      \n",
       "5 High income         United Arab Emirates Middle East \n",
       "6 High income         Argentina            The Americas"
      ]
     },
     "metadata": {},
     "output_type": "display_data"
    }
   ],
   "source": [
    "head(merged)"
   ]
  },
  {
   "cell_type": "code",
   "execution_count": 48,
   "metadata": {},
   "outputs": [],
   "source": [
    "merged$Country <- NULL"
   ]
  },
  {
   "cell_type": "code",
   "execution_count": 49,
   "metadata": {},
   "outputs": [
    {
     "data": {
      "text/html": [
       "<table>\n",
       "<thead><tr><th scope=col>Country.Code</th><th scope=col>Country.Name</th><th scope=col>Birth.rate</th><th scope=col>Internet.users</th><th scope=col>Income.Group</th><th scope=col>Region</th></tr></thead>\n",
       "<tbody>\n",
       "\t<tr><td>ABW                 </td><td>Aruba               </td><td>10.244              </td><td>78.9                </td><td>High income         </td><td>The Americas        </td></tr>\n",
       "\t<tr><td>AFG                 </td><td>Afghanistan         </td><td>35.253              </td><td> 5.9                </td><td>Low income          </td><td>Asia                </td></tr>\n",
       "\t<tr><td>AGO                 </td><td>Angola              </td><td>45.985              </td><td>19.1                </td><td>Upper middle income </td><td>Africa              </td></tr>\n",
       "\t<tr><td>ALB                 </td><td>Albania             </td><td>12.877              </td><td>57.2                </td><td>Upper middle income </td><td>Europe              </td></tr>\n",
       "\t<tr><td>ARE                 </td><td>United Arab Emirates</td><td>11.044              </td><td>88.0                </td><td>High income         </td><td>Middle East         </td></tr>\n",
       "\t<tr><td>ARG                 </td><td>Argentina           </td><td>17.716              </td><td>59.9                </td><td>High income         </td><td>The Americas        </td></tr>\n",
       "</tbody>\n",
       "</table>\n"
      ],
      "text/latex": [
       "\\begin{tabular}{r|llllll}\n",
       " Country.Code & Country.Name & Birth.rate & Internet.users & Income.Group & Region\\\\\n",
       "\\hline\n",
       "\t ABW                  & Aruba                & 10.244               & 78.9                 & High income          & The Americas        \\\\\n",
       "\t AFG                  & Afghanistan          & 35.253               &  5.9                 & Low income           & Asia                \\\\\n",
       "\t AGO                  & Angola               & 45.985               & 19.1                 & Upper middle income  & Africa              \\\\\n",
       "\t ALB                  & Albania              & 12.877               & 57.2                 & Upper middle income  & Europe              \\\\\n",
       "\t ARE                  & United Arab Emirates & 11.044               & 88.0                 & High income          & Middle East         \\\\\n",
       "\t ARG                  & Argentina            & 17.716               & 59.9                 & High income          & The Americas        \\\\\n",
       "\\end{tabular}\n"
      ],
      "text/markdown": [
       "\n",
       "Country.Code | Country.Name | Birth.rate | Internet.users | Income.Group | Region | \n",
       "|---|---|---|---|---|---|\n",
       "| ABW                  | Aruba                | 10.244               | 78.9                 | High income          | The Americas         | \n",
       "| AFG                  | Afghanistan          | 35.253               |  5.9                 | Low income           | Asia                 | \n",
       "| AGO                  | Angola               | 45.985               | 19.1                 | Upper middle income  | Africa               | \n",
       "| ALB                  | Albania              | 12.877               | 57.2                 | Upper middle income  | Europe               | \n",
       "| ARE                  | United Arab Emirates | 11.044               | 88.0                 | High income          | Middle East          | \n",
       "| ARG                  | Argentina            | 17.716               | 59.9                 | High income          | The Americas         | \n",
       "\n",
       "\n"
      ],
      "text/plain": [
       "  Country.Code Country.Name         Birth.rate Internet.users\n",
       "1 ABW          Aruba                10.244     78.9          \n",
       "2 AFG          Afghanistan          35.253      5.9          \n",
       "3 AGO          Angola               45.985     19.1          \n",
       "4 ALB          Albania              12.877     57.2          \n",
       "5 ARE          United Arab Emirates 11.044     88.0          \n",
       "6 ARG          Argentina            17.716     59.9          \n",
       "  Income.Group        Region      \n",
       "1 High income         The Americas\n",
       "2 Low income          Asia        \n",
       "3 Upper middle income Africa      \n",
       "4 Upper middle income Europe      \n",
       "5 High income         Middle East \n",
       "6 High income         The Americas"
      ]
     },
     "metadata": {},
     "output_type": "display_data"
    }
   ],
   "source": [
    "head(merged)"
   ]
  },
  {
   "cell_type": "code",
   "execution_count": 51,
   "metadata": {},
   "outputs": [
    {
     "data": {},
     "metadata": {},
     "output_type": "display_data"
    },
    {
     "data": {
      "image/png": "[encoded data removed]",
      "text/plain": [
       "plot without title"
      ]
     },
     "metadata": {},
     "output_type": "display_data"
    }
   ],
   "source": [
    "qplot(data=merged,x=Internet.users,y=Birth.rate,size=I(3),color=Region)"
   ]
  },
  {
   "cell_type": "code",
   "execution_count": 64,
   "metadata": {},
   "outputs": [
    {
     "data": {},
     "metadata": {},
     "output_type": "display_data"
    },
    {
     "data": {
      "image/png": "[encoded data removed]",
      "text/plain": [
       "plot without title"
      ]
     },
     "metadata": {},
     "output_type": "display_data"
    }
   ],
   "source": [
    "qplot(data=merged,x=Internet.users,y=Birth.rate,size=I(2),\n",
    "      shape=I(17),color=Region,alpha=I(0.7),main=\"Birth Rate VS Internet User\")"
   ]
  },
  {
   "cell_type": "markdown",
   "metadata": {},
   "source": [
    "# Home Work 5"
   ]
  },
  {
   "cell_type": "code",
   "execution_count": 67,
   "metadata": {},
   "outputs": [],
   "source": [
    "#Execute below code to generate three new vectors\n",
    "Country_Code <- c(\"ABW\",\"AFG\",\"AGO\",\"ALB\",\"ARE\",\"ARG\",\"ARM\",\"ATG\",\"AUS\",\"AUT\",\"AZE\",\"BDI\",\"BEL\",\"BEN\",\"BFA\",\"BGD\",\"BGR\",\"BHR\",\"BHS\",\"BIH\",\"BLR\",\"BLZ\",\"BOL\",\"BRA\",\"BRB\",\"BRN\",\"BTN\",\"BWA\",\"CAF\",\"CAN\",\"CHE\",\"CHL\",\"CHN\",\"CIV\",\"CMR\",\"COG\",\"COL\",\"COM\",\"CPV\",\"CRI\",\"CUB\",\"CYP\",\"CZE\",\"DEU\",\"DJI\",\"DNK\",\"DOM\",\"DZA\",\"ECU\",\"EGY\",\"ERI\",\"ESP\",\"EST\",\"ETH\",\"FIN\",\"FJI\",\"FRA\",\"FSM\",\"GAB\",\"GBR\",\"GEO\",\"GHA\",\"GIN\",\"GMB\",\"GNB\",\"GNQ\",\"GRC\",\"GRD\",\"GTM\",\"GUM\",\"GUY\",\"HKG\",\"HND\",\"HRV\",\"HTI\",\"HUN\",\"IDN\",\"IND\",\"IRL\",\"IRN\",\"IRQ\",\"ISL\",\"ITA\",\"JAM\",\"JOR\",\"JPN\",\"KAZ\",\"KEN\",\"KGZ\",\"KHM\",\"KIR\",\"KOR\",\"KWT\",\"LAO\",\"LBN\",\"LBR\",\"LBY\",\"LCA\",\"LKA\",\"LSO\",\"LTU\",\"LUX\",\"LVA\",\"MAC\",\"MAR\",\"MDA\",\"MDG\",\"MDV\",\"MEX\",\"MKD\",\"MLI\",\"MLT\",\"MMR\",\"MNE\",\"MNG\",\"MOZ\",\"MRT\",\"MUS\",\"MWI\",\"MYS\",\"NAM\",\"NCL\",\"NER\",\"NGA\",\"NIC\",\"NLD\",\"NOR\",\"NPL\",\"NZL\",\"OMN\",\"PAK\",\"PAN\",\"PER\",\"PHL\",\"PNG\",\"POL\",\"PRI\",\"PRT\",\"PRY\",\"PYF\",\"QAT\",\"ROU\",\"RUS\",\"RWA\",\"SAU\",\"SDN\",\"SEN\",\"SGP\",\"SLB\",\"SLE\",\"SLV\",\"SOM\",\"SSD\",\"STP\",\"SUR\",\"SVK\",\"SVN\",\"SWE\",\"SWZ\",\"SYR\",\"TCD\",\"TGO\",\"THA\",\"TJK\",\"TKM\",\"TLS\",\"TON\",\"TTO\",\"TUN\",\"TUR\",\"TZA\",\"UGA\",\"UKR\",\"URY\",\"USA\",\"UZB\",\"VCT\",\"VEN\",\"VIR\",\"VNM\",\"VUT\",\"WSM\",\"YEM\",\"ZAF\",\"COD\",\"ZMB\",\"ZWE\")\n",
    "Life_Expectancy_At_Birth_1960 <- c(65.5693658536586,32.328512195122,32.9848292682927,62.2543658536585,52.2432195121951,65.2155365853659,65.8634634146342,61.7827317073171,70.8170731707317,68.5856097560976,60.836243902439,41.2360487804878,69.7019512195122,37.2782682926829,34.4779024390244,45.8293170731707,69.2475609756098,52.0893658536585,62.7290487804878,60.2762195121951,67.7080975609756,59.9613658536585,42.1183170731707,54.2054634146342,60.7380487804878,62.5003658536585,32.3593658536585,50.5477317073171,36.4826341463415,71.1331707317073,71.3134146341463,57.4582926829268,43.4658048780488,36.8724146341463,41.523756097561,48.5816341463415,56.716756097561,41.4424390243903,48.8564146341463,60.5761951219512,63.9046585365854,69.5939268292683,70.3487804878049,69.3129512195122,44.0212682926829,72.1765853658537,51.8452682926829,46.1351219512195,53.215,48.0137073170732,37.3629024390244,69.1092682926829,67.9059756097561,38.4057073170732,68.819756097561,55.9584878048781,69.8682926829268,57.5865853658537,39.5701219512195,71.1268292682927,63.4318536585366,45.8314634146342,34.8863902439024,32.0422195121951,37.8404390243902,36.7330487804878,68.1639024390244,59.8159268292683,45.5316341463415,61.2263414634146,60.2787317073171,66.9997073170732,46.2883170731707,64.6086585365854,42.1000975609756,68.0031707317073,48.6403170731707,41.1719512195122,69.691756097561,44.945512195122,48.0306829268293,73.4286585365854,69.1239024390244,64.1918292682927,52.6852682926829,67.6660975609756,58.3675853658537,46.3624146341463,56.1280731707317,41.2320243902439,49.2159756097561,53.0013170731707,60.3479512195122,43.2044634146342,63.2801219512195,34.7831707317073,42.6411951219512,57.303756097561,59.7471463414634,46.5107073170732,69.8473170731707,68.4463902439024,69.7868292682927,64.6609268292683,48.4466341463415,61.8127804878049,39.9746829268293,37.2686341463415,57.0656341463415,60.6228048780488,28.2116097560976,67.6017804878049,42.7363902439024,63.7056097560976,48.3688048780488,35.0037073170732,43.4830975609756,58.7452195121951,37.7736341463415,59.4753414634146,46.8803902439024,58.6390243902439,35.5150487804878,37.1829512195122,46.9988292682927,73.3926829268293,73.549756097561,35.1708292682927,71.2365853658537,42.6670731707317,45.2904634146342,60.8817073170732,47.6915853658537,57.8119268292683,38.462243902439,67.6804878048781,68.7196097560976,62.8089268292683,63.7937073170732,56.3570487804878,61.2060731707317,65.6424390243903,66.0552926829268,42.2492926829268,45.6662682926829,48.1876341463415,38.206,65.6598292682927,49.3817073170732,30.3315365853659,49.9479268292683,36.9658780487805,31.6767073170732,50.4513658536585,59.6801219512195,69.9759268292683,68.9780487804878,73.0056097560976,44.2337804878049,52.768243902439,38.0161219512195,40.2728292682927,54.6993170731707,56.1535365853659,54.4586829268293,33.7271219512195,61.3645365853659,62.6575853658537,42.009756097561,45.3844146341463,43.6538780487805,43.9835609756098,68.2995365853659,67.8963902439025,69.7707317073171,58.8855365853659,57.7238780487805,59.2851219512195,63.7302195121951,59.0670243902439,46.4874878048781,49.969512195122,34.3638048780488,49.0362926829268,41.0180487804878,45.1098048780488,51.5424634146342)\n",
    "Life_Expectancy_At_Birth_2013 <- c(75.3286585365854,60.0282682926829,51.8661707317073,77.537243902439,77.1956341463415,75.9860975609756,74.5613658536585,75.7786585365854,82.1975609756098,80.890243902439,70.6931463414634,56.2516097560976,80.3853658536585,59.3120243902439,58.2406341463415,71.245243902439,74.4658536585366,76.5459512195122,75.0735365853659,76.2769268292683,72.4707317073171,69.9820487804878,67.9134390243903,74.1224390243903,75.3339512195122,78.5466585365854,69.1029268292683,64.3608048780488,49.8798780487805,81.4011219512195,82.7487804878049,81.1979268292683,75.3530243902439,51.2084634146342,55.0418048780488,61.6663902439024,73.8097317073171,62.9321707317073,72.9723658536585,79.2252195121951,79.2563902439025,79.9497804878049,78.2780487804878,81.0439024390244,61.6864634146342,80.3024390243903,73.3199024390244,74.5689512195122,75.648512195122,70.9257804878049,63.1778780487805,82.4268292682927,76.4243902439025,63.4421951219512,80.8317073170732,69.9179268292683,81.9682926829268,68.9733902439024,63.8435853658537,80.9560975609756,74.079512195122,61.1420731707317,58.216487804878,59.9992682926829,54.8384146341464,57.2908292682927,80.6341463414634,73.1935609756098,71.4863902439024,78.872512195122,66.3100243902439,83.8317073170732,72.9428536585366,77.1268292682927,62.4011463414634,75.2682926829268,68.7046097560976,67.6604146341463,81.0439024390244,75.1259756097561,69.4716829268293,83.1170731707317,82.290243902439,73.4689268292683,73.9014146341463,83.3319512195122,70.45,60.9537804878049,70.2024390243902,67.7720487804878,65.7665853658537,81.459756097561,74.462756097561,65.687243902439,80.1288780487805,60.5203902439024,71.6576829268293,74.9127073170732,74.2402926829268,49.3314634146342,74.1634146341464,81.7975609756098,73.9804878048781,80.3391463414634,73.7090487804878,68.811512195122,64.6739024390244,76.6026097560976,76.5326585365854,75.1870487804878,57.5351951219512,80.7463414634146,65.6540975609756,74.7583658536585,69.0618048780488,54.641512195122,62.8027073170732,74.46,61.466,74.567512195122,64.3438780487805,77.1219512195122,60.8281463414634,52.4421463414634,74.514756097561,81.1048780487805,81.4512195121951,69.222,81.4073170731707,76.8410487804878,65.9636829268293,77.4192195121951,74.2838536585366,68.1315609756097,62.4491707317073,76.8487804878049,78.7111951219512,80.3731707317073,72.7991707317073,76.3340731707317,78.4184878048781,74.4634146341463,71.0731707317073,63.3948292682927,74.1776341463415,63.1670487804878,65.878756097561,82.3463414634146,67.7189268292683,50.3631219512195,72.4981463414634,55.0230243902439,55.2209024390244,66.259512195122,70.99,76.2609756097561,80.2780487804878,81.7048780487805,48.9379268292683,74.7157804878049,51.1914878048781,59.1323658536585,74.2469268292683,69.4001707317073,65.4565609756098,67.5223658536585,72.6403414634147,70.3052926829268,73.6463414634147,75.1759512195122,64.2918292682927,57.7676829268293,71.159512195122,76.8361951219512,78.8414634146341,68.2275853658537,72.8108780487805,74.0744146341464,79.6243902439024,75.756487804878,71.669243902439,73.2503902439024,63.583512195122,56.7365853658537,58.2719268292683,59.2373658536585,55.633)"
   ]
  },
  {
   "cell_type": "code",
   "execution_count": 69,
   "metadata": {},
   "outputs": [],
   "source": [
    "df <- read.csv(\"Section5-Homework.csv\")"
   ]
  },
  {
   "cell_type": "code",
   "execution_count": 70,
   "metadata": {},
   "outputs": [
    {
     "data": {
      "text/html": [
       "<table>\n",
       "<thead><tr><th scope=col>Country.Name</th><th scope=col>Country.Code</th><th scope=col>Region</th><th scope=col>Year</th><th scope=col>Fertility.Rate</th></tr></thead>\n",
       "<tbody>\n",
       "\t<tr><td>Aruba               </td><td>ABW                 </td><td>The Americas        </td><td>1960                </td><td>4.820               </td></tr>\n",
       "\t<tr><td>Afghanistan         </td><td>AFG                 </td><td>Asia                </td><td>1960                </td><td>7.450               </td></tr>\n",
       "\t<tr><td>Angola              </td><td>AGO                 </td><td>Africa              </td><td>1960                </td><td>7.379               </td></tr>\n",
       "\t<tr><td>Albania             </td><td>ALB                 </td><td>Europe              </td><td>1960                </td><td>6.186               </td></tr>\n",
       "\t<tr><td>United Arab Emirates</td><td>ARE                 </td><td>Middle East         </td><td>1960                </td><td>6.928               </td></tr>\n",
       "\t<tr><td>Argentina           </td><td>ARG                 </td><td>The Americas        </td><td>1960                </td><td>3.109               </td></tr>\n",
       "</tbody>\n",
       "</table>\n"
      ],
      "text/latex": [
       "\\begin{tabular}{r|lllll}\n",
       " Country.Name & Country.Code & Region & Year & Fertility.Rate\\\\\n",
       "\\hline\n",
       "\t Aruba                & ABW                  & The Americas         & 1960                 & 4.820               \\\\\n",
       "\t Afghanistan          & AFG                  & Asia                 & 1960                 & 7.450               \\\\\n",
       "\t Angola               & AGO                  & Africa               & 1960                 & 7.379               \\\\\n",
       "\t Albania              & ALB                  & Europe               & 1960                 & 6.186               \\\\\n",
       "\t United Arab Emirates & ARE                  & Middle East          & 1960                 & 6.928               \\\\\n",
       "\t Argentina            & ARG                  & The Americas         & 1960                 & 3.109               \\\\\n",
       "\\end{tabular}\n"
      ],
      "text/markdown": [
       "\n",
       "Country.Name | Country.Code | Region | Year | Fertility.Rate | \n",
       "|---|---|---|---|---|---|\n",
       "| Aruba                | ABW                  | The Americas         | 1960                 | 4.820                | \n",
       "| Afghanistan          | AFG                  | Asia                 | 1960                 | 7.450                | \n",
       "| Angola               | AGO                  | Africa               | 1960                 | 7.379                | \n",
       "| Albania              | ALB                  | Europe               | 1960                 | 6.186                | \n",
       "| United Arab Emirates | ARE                  | Middle East          | 1960                 | 6.928                | \n",
       "| Argentina            | ARG                  | The Americas         | 1960                 | 3.109                | \n",
       "\n",
       "\n"
      ],
      "text/plain": [
       "  Country.Name         Country.Code Region       Year Fertility.Rate\n",
       "1 Aruba                ABW          The Americas 1960 4.820         \n",
       "2 Afghanistan          AFG          Asia         1960 7.450         \n",
       "3 Angola               AGO          Africa       1960 7.379         \n",
       "4 Albania              ALB          Europe       1960 6.186         \n",
       "5 United Arab Emirates ARE          Middle East  1960 6.928         \n",
       "6 Argentina            ARG          The Americas 1960 3.109         "
      ]
     },
     "metadata": {},
     "output_type": "display_data"
    }
   ],
   "source": [
    "head(df)"
   ]
  },
  {
   "cell_type": "code",
   "execution_count": 71,
   "metadata": {},
   "outputs": [
    {
     "data": {
      "text/html": [
       "<table>\n",
       "<thead><tr><th></th><th scope=col>Country.Name</th><th scope=col>Country.Code</th><th scope=col>Region</th><th scope=col>Year</th><th scope=col>Fertility.Rate</th></tr></thead>\n",
       "<tbody>\n",
       "\t<tr><th scope=row>369</th><td>Samoa           </td><td>WSM             </td><td>Oceania         </td><td>2013            </td><td>4.147           </td></tr>\n",
       "\t<tr><th scope=row>370</th><td>Yemen, Rep.     </td><td>YEM             </td><td>Middle East     </td><td>2013            </td><td>4.284           </td></tr>\n",
       "\t<tr><th scope=row>371</th><td>South Africa    </td><td>ZAF             </td><td>Africa          </td><td>2013            </td><td>2.387           </td></tr>\n",
       "\t<tr><th scope=row>372</th><td>Congo, Dem. Rep.</td><td>COD             </td><td>Africa          </td><td>2013            </td><td>6.103           </td></tr>\n",
       "\t<tr><th scope=row>373</th><td>Zambia          </td><td>ZMB             </td><td>Africa          </td><td>2013            </td><td>5.429           </td></tr>\n",
       "\t<tr><th scope=row>374</th><td>Zimbabwe        </td><td>ZWE             </td><td>Africa          </td><td>2013            </td><td>3.977           </td></tr>\n",
       "</tbody>\n",
       "</table>\n"
      ],
      "text/latex": [
       "\\begin{tabular}{r|lllll}\n",
       "  & Country.Name & Country.Code & Region & Year & Fertility.Rate\\\\\n",
       "\\hline\n",
       "\t369 & Samoa            & WSM              & Oceania          & 2013             & 4.147           \\\\\n",
       "\t370 & Yemen, Rep.      & YEM              & Middle East      & 2013             & 4.284           \\\\\n",
       "\t371 & South Africa     & ZAF              & Africa           & 2013             & 2.387           \\\\\n",
       "\t372 & Congo, Dem. Rep. & COD              & Africa           & 2013             & 6.103           \\\\\n",
       "\t373 & Zambia           & ZMB              & Africa           & 2013             & 5.429           \\\\\n",
       "\t374 & Zimbabwe         & ZWE              & Africa           & 2013             & 3.977           \\\\\n",
       "\\end{tabular}\n"
      ],
      "text/markdown": [
       "\n",
       "| <!--/--> | Country.Name | Country.Code | Region | Year | Fertility.Rate | \n",
       "|---|---|---|---|---|---|\n",
       "| 369 | Samoa            | WSM              | Oceania          | 2013             | 4.147            | \n",
       "| 370 | Yemen, Rep.      | YEM              | Middle East      | 2013             | 4.284            | \n",
       "| 371 | South Africa     | ZAF              | Africa           | 2013             | 2.387            | \n",
       "| 372 | Congo, Dem. Rep. | COD              | Africa           | 2013             | 6.103            | \n",
       "| 373 | Zambia           | ZMB              | Africa           | 2013             | 5.429            | \n",
       "| 374 | Zimbabwe         | ZWE              | Africa           | 2013             | 3.977            | \n",
       "\n",
       "\n"
      ],
      "text/plain": [
       "    Country.Name     Country.Code Region      Year Fertility.Rate\n",
       "369 Samoa            WSM          Oceania     2013 4.147         \n",
       "370 Yemen, Rep.      YEM          Middle East 2013 4.284         \n",
       "371 South Africa     ZAF          Africa      2013 2.387         \n",
       "372 Congo, Dem. Rep. COD          Africa      2013 6.103         \n",
       "373 Zambia           ZMB          Africa      2013 5.429         \n",
       "374 Zimbabwe         ZWE          Africa      2013 3.977         "
      ]
     },
     "metadata": {},
     "output_type": "display_data"
    }
   ],
   "source": [
    "tail(df)"
   ]
  },
  {
   "cell_type": "code",
   "execution_count": 73,
   "metadata": {},
   "outputs": [],
   "source": [
    "df_1960 <- df[df$Year == 1960,]"
   ]
  },
  {
   "cell_type": "code",
   "execution_count": 74,
   "metadata": {},
   "outputs": [
    {
     "data": {
      "text/html": [
       "<table>\n",
       "<thead><tr><th scope=col>Country.Name</th><th scope=col>Country.Code</th><th scope=col>Region</th><th scope=col>Year</th><th scope=col>Fertility.Rate</th></tr></thead>\n",
       "<tbody>\n",
       "\t<tr><td>Aruba               </td><td>ABW                 </td><td>The Americas        </td><td>1960                </td><td>4.820               </td></tr>\n",
       "\t<tr><td>Afghanistan         </td><td>AFG                 </td><td>Asia                </td><td>1960                </td><td>7.450               </td></tr>\n",
       "\t<tr><td>Angola              </td><td>AGO                 </td><td>Africa              </td><td>1960                </td><td>7.379               </td></tr>\n",
       "\t<tr><td>Albania             </td><td>ALB                 </td><td>Europe              </td><td>1960                </td><td>6.186               </td></tr>\n",
       "\t<tr><td>United Arab Emirates</td><td>ARE                 </td><td>Middle East         </td><td>1960                </td><td>6.928               </td></tr>\n",
       "\t<tr><td>Argentina           </td><td>ARG                 </td><td>The Americas        </td><td>1960                </td><td>3.109               </td></tr>\n",
       "</tbody>\n",
       "</table>\n"
      ],
      "text/latex": [
       "\\begin{tabular}{r|lllll}\n",
       " Country.Name & Country.Code & Region & Year & Fertility.Rate\\\\\n",
       "\\hline\n",
       "\t Aruba                & ABW                  & The Americas         & 1960                 & 4.820               \\\\\n",
       "\t Afghanistan          & AFG                  & Asia                 & 1960                 & 7.450               \\\\\n",
       "\t Angola               & AGO                  & Africa               & 1960                 & 7.379               \\\\\n",
       "\t Albania              & ALB                  & Europe               & 1960                 & 6.186               \\\\\n",
       "\t United Arab Emirates & ARE                  & Middle East          & 1960                 & 6.928               \\\\\n",
       "\t Argentina            & ARG                  & The Americas         & 1960                 & 3.109               \\\\\n",
       "\\end{tabular}\n"
      ],
      "text/markdown": [
       "\n",
       "Country.Name | Country.Code | Region | Year | Fertility.Rate | \n",
       "|---|---|---|---|---|---|\n",
       "| Aruba                | ABW                  | The Americas         | 1960                 | 4.820                | \n",
       "| Afghanistan          | AFG                  | Asia                 | 1960                 | 7.450                | \n",
       "| Angola               | AGO                  | Africa               | 1960                 | 7.379                | \n",
       "| Albania              | ALB                  | Europe               | 1960                 | 6.186                | \n",
       "| United Arab Emirates | ARE                  | Middle East          | 1960                 | 6.928                | \n",
       "| Argentina            | ARG                  | The Americas         | 1960                 | 3.109                | \n",
       "\n",
       "\n"
      ],
      "text/plain": [
       "  Country.Name         Country.Code Region       Year Fertility.Rate\n",
       "1 Aruba                ABW          The Americas 1960 4.820         \n",
       "2 Afghanistan          AFG          Asia         1960 7.450         \n",
       "3 Angola               AGO          Africa       1960 7.379         \n",
       "4 Albania              ALB          Europe       1960 6.186         \n",
       "5 United Arab Emirates ARE          Middle East  1960 6.928         \n",
       "6 Argentina            ARG          The Americas 1960 3.109         "
      ]
     },
     "metadata": {},
     "output_type": "display_data"
    }
   ],
   "source": [
    "head(df_1960)"
   ]
  },
  {
   "cell_type": "code",
   "execution_count": 75,
   "metadata": {},
   "outputs": [],
   "source": [
    "df_2013 <- df[df$Year == 2013,]"
   ]
  },
  {
   "cell_type": "code",
   "execution_count": 77,
   "metadata": {},
   "outputs": [
    {
     "data": {
      "text/html": [
       "<table>\n",
       "<thead><tr><th></th><th scope=col>Country.Name</th><th scope=col>Country.Code</th><th scope=col>Region</th><th scope=col>Year</th><th scope=col>Fertility.Rate</th></tr></thead>\n",
       "<tbody>\n",
       "\t<tr><th scope=row>188</th><td>Aruba               </td><td>ABW                 </td><td>The Americas        </td><td>2013                </td><td>1.669               </td></tr>\n",
       "\t<tr><th scope=row>189</th><td>Afghanistan         </td><td>AFG                 </td><td>Asia                </td><td>2013                </td><td>5.050               </td></tr>\n",
       "\t<tr><th scope=row>190</th><td>Angola              </td><td>AGO                 </td><td>Africa              </td><td>2013                </td><td>6.165               </td></tr>\n",
       "\t<tr><th scope=row>191</th><td>Albania             </td><td>ALB                 </td><td>Europe              </td><td>2013                </td><td>1.771               </td></tr>\n",
       "\t<tr><th scope=row>192</th><td>United Arab Emirates</td><td>ARE                 </td><td>Middle East         </td><td>2013                </td><td>1.801               </td></tr>\n",
       "\t<tr><th scope=row>193</th><td>Argentina           </td><td>ARG                 </td><td>The Americas        </td><td>2013                </td><td>2.335               </td></tr>\n",
       "</tbody>\n",
       "</table>\n"
      ],
      "text/latex": [
       "\\begin{tabular}{r|lllll}\n",
       "  & Country.Name & Country.Code & Region & Year & Fertility.Rate\\\\\n",
       "\\hline\n",
       "\t188 & Aruba                & ABW                  & The Americas         & 2013                 & 1.669               \\\\\n",
       "\t189 & Afghanistan          & AFG                  & Asia                 & 2013                 & 5.050               \\\\\n",
       "\t190 & Angola               & AGO                  & Africa               & 2013                 & 6.165               \\\\\n",
       "\t191 & Albania              & ALB                  & Europe               & 2013                 & 1.771               \\\\\n",
       "\t192 & United Arab Emirates & ARE                  & Middle East          & 2013                 & 1.801               \\\\\n",
       "\t193 & Argentina            & ARG                  & The Americas         & 2013                 & 2.335               \\\\\n",
       "\\end{tabular}\n"
      ],
      "text/markdown": [
       "\n",
       "| <!--/--> | Country.Name | Country.Code | Region | Year | Fertility.Rate | \n",
       "|---|---|---|---|---|---|\n",
       "| 188 | Aruba                | ABW                  | The Americas         | 2013                 | 1.669                | \n",
       "| 189 | Afghanistan          | AFG                  | Asia                 | 2013                 | 5.050                | \n",
       "| 190 | Angola               | AGO                  | Africa               | 2013                 | 6.165                | \n",
       "| 191 | Albania              | ALB                  | Europe               | 2013                 | 1.771                | \n",
       "| 192 | United Arab Emirates | ARE                  | Middle East          | 2013                 | 1.801                | \n",
       "| 193 | Argentina            | ARG                  | The Americas         | 2013                 | 2.335                | \n",
       "\n",
       "\n"
      ],
      "text/plain": [
       "    Country.Name         Country.Code Region       Year Fertility.Rate\n",
       "188 Aruba                ABW          The Americas 2013 1.669         \n",
       "189 Afghanistan          AFG          Asia         2013 5.050         \n",
       "190 Angola               AGO          Africa       2013 6.165         \n",
       "191 Albania              ALB          Europe       2013 1.771         \n",
       "192 United Arab Emirates ARE          Middle East  2013 1.801         \n",
       "193 Argentina            ARG          The Americas 2013 2.335         "
      ]
     },
     "metadata": {},
     "output_type": "display_data"
    }
   ],
   "source": [
    "head(df_2013)"
   ]
  },
  {
   "cell_type": "code",
   "execution_count": 78,
   "metadata": {},
   "outputs": [],
   "source": [
    "world_df <- data.frame(Country_Code,Life_Expectancy_At_Birth_1960,Life_Expectancy_At_Birth_2013)"
   ]
  },
  {
   "cell_type": "code",
   "execution_count": 79,
   "metadata": {},
   "outputs": [
    {
     "data": {
      "text/html": [
       "<table>\n",
       "<thead><tr><th scope=col>Country_Code</th><th scope=col>Life_Expectancy_At_Birth_1960</th><th scope=col>Life_Expectancy_At_Birth_2013</th></tr></thead>\n",
       "<tbody>\n",
       "\t<tr><td>ABW     </td><td>65.56937</td><td>75.32866</td></tr>\n",
       "\t<tr><td>AFG     </td><td>32.32851</td><td>60.02827</td></tr>\n",
       "\t<tr><td>AGO     </td><td>32.98483</td><td>51.86617</td></tr>\n",
       "\t<tr><td>ALB     </td><td>62.25437</td><td>77.53724</td></tr>\n",
       "\t<tr><td>ARE     </td><td>52.24322</td><td>77.19563</td></tr>\n",
       "\t<tr><td>ARG     </td><td>65.21554</td><td>75.98610</td></tr>\n",
       "</tbody>\n",
       "</table>\n"
      ],
      "text/latex": [
       "\\begin{tabular}{r|lll}\n",
       " Country\\_Code & Life\\_Expectancy\\_At\\_Birth\\_1960 & Life\\_Expectancy\\_At\\_Birth\\_2013\\\\\n",
       "\\hline\n",
       "\t ABW      & 65.56937 & 75.32866\\\\\n",
       "\t AFG      & 32.32851 & 60.02827\\\\\n",
       "\t AGO      & 32.98483 & 51.86617\\\\\n",
       "\t ALB      & 62.25437 & 77.53724\\\\\n",
       "\t ARE      & 52.24322 & 77.19563\\\\\n",
       "\t ARG      & 65.21554 & 75.98610\\\\\n",
       "\\end{tabular}\n"
      ],
      "text/markdown": [
       "\n",
       "Country_Code | Life_Expectancy_At_Birth_1960 | Life_Expectancy_At_Birth_2013 | \n",
       "|---|---|---|---|---|---|\n",
       "| ABW      | 65.56937 | 75.32866 | \n",
       "| AFG      | 32.32851 | 60.02827 | \n",
       "| AGO      | 32.98483 | 51.86617 | \n",
       "| ALB      | 62.25437 | 77.53724 | \n",
       "| ARE      | 52.24322 | 77.19563 | \n",
       "| ARG      | 65.21554 | 75.98610 | \n",
       "\n",
       "\n"
      ],
      "text/plain": [
       "  Country_Code Life_Expectancy_At_Birth_1960 Life_Expectancy_At_Birth_2013\n",
       "1 ABW          65.56937                      75.32866                     \n",
       "2 AFG          32.32851                      60.02827                     \n",
       "3 AGO          32.98483                      51.86617                     \n",
       "4 ALB          62.25437                      77.53724                     \n",
       "5 ARE          52.24322                      77.19563                     \n",
       "6 ARG          65.21554                      75.98610                     "
      ]
     },
     "metadata": {},
     "output_type": "display_data"
    }
   ],
   "source": [
    "head(world_df)"
   ]
  },
  {
   "cell_type": "code",
   "execution_count": 82,
   "metadata": {},
   "outputs": [],
   "source": [
    "merged_1960 <- merge(df_1960,world_df,by.x =\"Country.Code\",by.y = \"Country_Code\" )\n",
    "merged_1960$Life_Expectancy_At_Birth_2013 <- NULL"
   ]
  },
  {
   "cell_type": "code",
   "execution_count": 83,
   "metadata": {},
   "outputs": [
    {
     "data": {
      "text/html": [
       "<table>\n",
       "<thead><tr><th scope=col>Country.Code</th><th scope=col>Country.Name</th><th scope=col>Region</th><th scope=col>Year</th><th scope=col>Fertility.Rate</th><th scope=col>Life_Expectancy_At_Birth_1960</th></tr></thead>\n",
       "<tbody>\n",
       "\t<tr><td>ABW                 </td><td>Aruba               </td><td>The Americas        </td><td>1960                </td><td>4.820               </td><td>65.56937            </td></tr>\n",
       "\t<tr><td>AFG                 </td><td>Afghanistan         </td><td>Asia                </td><td>1960                </td><td>7.450               </td><td>32.32851            </td></tr>\n",
       "\t<tr><td>AGO                 </td><td>Angola              </td><td>Africa              </td><td>1960                </td><td>7.379               </td><td>32.98483            </td></tr>\n",
       "\t<tr><td>ALB                 </td><td>Albania             </td><td>Europe              </td><td>1960                </td><td>6.186               </td><td>62.25437            </td></tr>\n",
       "\t<tr><td>ARE                 </td><td>United Arab Emirates</td><td>Middle East         </td><td>1960                </td><td>6.928               </td><td>52.24322            </td></tr>\n",
       "\t<tr><td>ARG                 </td><td>Argentina           </td><td>The Americas        </td><td>1960                </td><td>3.109               </td><td>65.21554            </td></tr>\n",
       "</tbody>\n",
       "</table>\n"
      ],
      "text/latex": [
       "\\begin{tabular}{r|llllll}\n",
       " Country.Code & Country.Name & Region & Year & Fertility.Rate & Life\\_Expectancy\\_At\\_Birth\\_1960\\\\\n",
       "\\hline\n",
       "\t ABW                  & Aruba                & The Americas         & 1960                 & 4.820                & 65.56937            \\\\\n",
       "\t AFG                  & Afghanistan          & Asia                 & 1960                 & 7.450                & 32.32851            \\\\\n",
       "\t AGO                  & Angola               & Africa               & 1960                 & 7.379                & 32.98483            \\\\\n",
       "\t ALB                  & Albania              & Europe               & 1960                 & 6.186                & 62.25437            \\\\\n",
       "\t ARE                  & United Arab Emirates & Middle East          & 1960                 & 6.928                & 52.24322            \\\\\n",
       "\t ARG                  & Argentina            & The Americas         & 1960                 & 3.109                & 65.21554            \\\\\n",
       "\\end{tabular}\n"
      ],
      "text/markdown": [
       "\n",
       "Country.Code | Country.Name | Region | Year | Fertility.Rate | Life_Expectancy_At_Birth_1960 | \n",
       "|---|---|---|---|---|---|\n",
       "| ABW                  | Aruba                | The Americas         | 1960                 | 4.820                | 65.56937             | \n",
       "| AFG                  | Afghanistan          | Asia                 | 1960                 | 7.450                | 32.32851             | \n",
       "| AGO                  | Angola               | Africa               | 1960                 | 7.379                | 32.98483             | \n",
       "| ALB                  | Albania              | Europe               | 1960                 | 6.186                | 62.25437             | \n",
       "| ARE                  | United Arab Emirates | Middle East          | 1960                 | 6.928                | 52.24322             | \n",
       "| ARG                  | Argentina            | The Americas         | 1960                 | 3.109                | 65.21554             | \n",
       "\n",
       "\n"
      ],
      "text/plain": [
       "  Country.Code Country.Name         Region       Year Fertility.Rate\n",
       "1 ABW          Aruba                The Americas 1960 4.820         \n",
       "2 AFG          Afghanistan          Asia         1960 7.450         \n",
       "3 AGO          Angola               Africa       1960 7.379         \n",
       "4 ALB          Albania              Europe       1960 6.186         \n",
       "5 ARE          United Arab Emirates Middle East  1960 6.928         \n",
       "6 ARG          Argentina            The Americas 1960 3.109         \n",
       "  Life_Expectancy_At_Birth_1960\n",
       "1 65.56937                     \n",
       "2 32.32851                     \n",
       "3 32.98483                     \n",
       "4 62.25437                     \n",
       "5 52.24322                     \n",
       "6 65.21554                     "
      ]
     },
     "metadata": {},
     "output_type": "display_data"
    }
   ],
   "source": [
    "head(merged_1960)"
   ]
  },
  {
   "cell_type": "code",
   "execution_count": 84,
   "metadata": {},
   "outputs": [],
   "source": [
    "merged_2013 <- merge(df_2013,world_df,by.x =\"Country.Code\",by.y = \"Country_Code\" )\n",
    "merged_2013$Life_Expectancy_At_Birth_1960 <- NULL"
   ]
  },
  {
   "cell_type": "code",
   "execution_count": 85,
   "metadata": {},
   "outputs": [
    {
     "data": {
      "text/html": [
       "<table>\n",
       "<thead><tr><th scope=col>Country.Code</th><th scope=col>Country.Name</th><th scope=col>Region</th><th scope=col>Year</th><th scope=col>Fertility.Rate</th><th scope=col>Life_Expectancy_At_Birth_2013</th></tr></thead>\n",
       "<tbody>\n",
       "\t<tr><td>ABW                 </td><td>Aruba               </td><td>The Americas        </td><td>2013                </td><td>1.669               </td><td>75.32866            </td></tr>\n",
       "\t<tr><td>AFG                 </td><td>Afghanistan         </td><td>Asia                </td><td>2013                </td><td>5.050               </td><td>60.02827            </td></tr>\n",
       "\t<tr><td>AGO                 </td><td>Angola              </td><td>Africa              </td><td>2013                </td><td>6.165               </td><td>51.86617            </td></tr>\n",
       "\t<tr><td>ALB                 </td><td>Albania             </td><td>Europe              </td><td>2013                </td><td>1.771               </td><td>77.53724            </td></tr>\n",
       "\t<tr><td>ARE                 </td><td>United Arab Emirates</td><td>Middle East         </td><td>2013                </td><td>1.801               </td><td>77.19563            </td></tr>\n",
       "\t<tr><td>ARG                 </td><td>Argentina           </td><td>The Americas        </td><td>2013                </td><td>2.335               </td><td>75.98610            </td></tr>\n",
       "</tbody>\n",
       "</table>\n"
      ],
      "text/latex": [
       "\\begin{tabular}{r|llllll}\n",
       " Country.Code & Country.Name & Region & Year & Fertility.Rate & Life\\_Expectancy\\_At\\_Birth\\_2013\\\\\n",
       "\\hline\n",
       "\t ABW                  & Aruba                & The Americas         & 2013                 & 1.669                & 75.32866            \\\\\n",
       "\t AFG                  & Afghanistan          & Asia                 & 2013                 & 5.050                & 60.02827            \\\\\n",
       "\t AGO                  & Angola               & Africa               & 2013                 & 6.165                & 51.86617            \\\\\n",
       "\t ALB                  & Albania              & Europe               & 2013                 & 1.771                & 77.53724            \\\\\n",
       "\t ARE                  & United Arab Emirates & Middle East          & 2013                 & 1.801                & 77.19563            \\\\\n",
       "\t ARG                  & Argentina            & The Americas         & 2013                 & 2.335                & 75.98610            \\\\\n",
       "\\end{tabular}\n"
      ],
      "text/markdown": [
       "\n",
       "Country.Code | Country.Name | Region | Year | Fertility.Rate | Life_Expectancy_At_Birth_2013 | \n",
       "|---|---|---|---|---|---|\n",
       "| ABW                  | Aruba                | The Americas         | 2013                 | 1.669                | 75.32866             | \n",
       "| AFG                  | Afghanistan          | Asia                 | 2013                 | 5.050                | 60.02827             | \n",
       "| AGO                  | Angola               | Africa               | 2013                 | 6.165                | 51.86617             | \n",
       "| ALB                  | Albania              | Europe               | 2013                 | 1.771                | 77.53724             | \n",
       "| ARE                  | United Arab Emirates | Middle East          | 2013                 | 1.801                | 77.19563             | \n",
       "| ARG                  | Argentina            | The Americas         | 2013                 | 2.335                | 75.98610             | \n",
       "\n",
       "\n"
      ],
      "text/plain": [
       "  Country.Code Country.Name         Region       Year Fertility.Rate\n",
       "1 ABW          Aruba                The Americas 2013 1.669         \n",
       "2 AFG          Afghanistan          Asia         2013 5.050         \n",
       "3 AGO          Angola               Africa       2013 6.165         \n",
       "4 ALB          Albania              Europe       2013 1.771         \n",
       "5 ARE          United Arab Emirates Middle East  2013 1.801         \n",
       "6 ARG          Argentina            The Americas 2013 2.335         \n",
       "  Life_Expectancy_At_Birth_2013\n",
       "1 75.32866                     \n",
       "2 60.02827                     \n",
       "3 51.86617                     \n",
       "4 77.53724                     \n",
       "5 77.19563                     \n",
       "6 75.98610                     "
      ]
     },
     "metadata": {},
     "output_type": "display_data"
    }
   ],
   "source": [
    "head(merged_2013)"
   ]
  },
  {
   "cell_type": "code",
   "execution_count": 88,
   "metadata": {},
   "outputs": [
    {
     "data": {},
     "metadata": {},
     "output_type": "display_data"
    },
    {
     "data": {
      "image/png": "[encoded data removed]",
      "text/plain": [
       "plot without title"
      ]
     },
     "metadata": {},
     "output_type": "display_data"
    }
   ],
   "source": [
    "qplot(data=merged_1960,x=Fertility.Rate,y=Life_Expectancy_At_Birth_1960,size=I(2),\n",
    "      color=Region,alpha=I(0.7),main=\"Fertility Vs Life Expectancy of 1960\")"
   ]
  },
  {
   "cell_type": "code",
   "execution_count": 89,
   "metadata": {},
   "outputs": [
    {
     "data": {},
     "metadata": {},
     "output_type": "display_data"
    },
    {
     "data": {
      "image/png": "[encoded data removed]",
      "text/plain": [
       "plot without title"
      ]
     },
     "metadata": {},
     "output_type": "display_data"
    }
   ],
   "source": [
    "qplot(data=merged_2013,x=Fertility.Rate,y=Life_Expectancy_At_Birth_2013,size=I(2),\n",
    "      color=Region,alpha=I(0.7),main=\"Fertility Vs Life Expectancy of 2013\")"
   ]
  },
  {
   "cell_type": "markdown",
   "metadata": {},
   "source": [
    "# Section 5"
   ]
  },
  {
   "cell_type": "code",
   "execution_count": 90,
   "metadata": {},
   "outputs": [],
   "source": [
    "movie <- read.csv(\"Movie-Ratings.csv\")"
   ]
  },
  {
   "cell_type": "code",
   "execution_count": 91,
   "metadata": {},
   "outputs": [
    {
     "data": {
      "text/html": [
       "<table>\n",
       "<thead><tr><th scope=col>Film</th><th scope=col>Genre</th><th scope=col>Rotten.Tomatoes.Ratings..</th><th scope=col>Audience.Ratings..</th><th scope=col>Budget..million...</th><th scope=col>Year.of.release</th></tr></thead>\n",
       "<tbody>\n",
       "\t<tr><td>(500) Days of Summer </td><td>Comedy               </td><td>87                   </td><td>81                   </td><td>  8                  </td><td>2009                 </td></tr>\n",
       "\t<tr><td>10,000 B.C.          </td><td>Adventure            </td><td> 9                   </td><td>44                   </td><td>105                  </td><td>2008                 </td></tr>\n",
       "\t<tr><td>12 Rounds            </td><td>Action               </td><td>30                   </td><td>52                   </td><td> 20                  </td><td>2009                 </td></tr>\n",
       "\t<tr><td>127 Hours            </td><td>Adventure            </td><td>93                   </td><td>84                   </td><td> 18                  </td><td>2010                 </td></tr>\n",
       "\t<tr><td>17 Again             </td><td>Comedy               </td><td>55                   </td><td>70                   </td><td> 20                  </td><td>2009                 </td></tr>\n",
       "\t<tr><td>2012                 </td><td>Action               </td><td>39                   </td><td>63                   </td><td>200                  </td><td>2009                 </td></tr>\n",
       "</tbody>\n",
       "</table>\n"
      ],
      "text/latex": [
       "\\begin{tabular}{r|llllll}\n",
       " Film & Genre & Rotten.Tomatoes.Ratings.. & Audience.Ratings.. & Budget..million... & Year.of.release\\\\\n",
       "\\hline\n",
       "\t (500) Days of Summer  & Comedy                & 87                    & 81                    &   8                   & 2009                 \\\\\n",
       "\t 10,000 B.C.           & Adventure             &  9                    & 44                    & 105                   & 2008                 \\\\\n",
       "\t 12 Rounds             & Action                & 30                    & 52                    &  20                   & 2009                 \\\\\n",
       "\t 127 Hours             & Adventure             & 93                    & 84                    &  18                   & 2010                 \\\\\n",
       "\t 17 Again              & Comedy                & 55                    & 70                    &  20                   & 2009                 \\\\\n",
       "\t 2012                  & Action                & 39                    & 63                    & 200                   & 2009                 \\\\\n",
       "\\end{tabular}\n"
      ],
      "text/markdown": [
       "\n",
       "Film | Genre | Rotten.Tomatoes.Ratings.. | Audience.Ratings.. | Budget..million... | Year.of.release | \n",
       "|---|---|---|---|---|---|\n",
       "| (500) Days of Summer  | Comedy                | 87                    | 81                    |   8                   | 2009                  | \n",
       "| 10,000 B.C.           | Adventure             |  9                    | 44                    | 105                   | 2008                  | \n",
       "| 12 Rounds             | Action                | 30                    | 52                    |  20                   | 2009                  | \n",
       "| 127 Hours             | Adventure             | 93                    | 84                    |  18                   | 2010                  | \n",
       "| 17 Again              | Comedy                | 55                    | 70                    |  20                   | 2009                  | \n",
       "| 2012                  | Action                | 39                    | 63                    | 200                   | 2009                  | \n",
       "\n",
       "\n"
      ],
      "text/plain": [
       "  Film                  Genre     Rotten.Tomatoes.Ratings.. Audience.Ratings..\n",
       "1 (500) Days of Summer  Comedy    87                        81                \n",
       "2 10,000 B.C.           Adventure  9                        44                \n",
       "3 12 Rounds             Action    30                        52                \n",
       "4 127 Hours             Adventure 93                        84                \n",
       "5 17 Again              Comedy    55                        70                \n",
       "6 2012                  Action    39                        63                \n",
       "  Budget..million... Year.of.release\n",
       "1   8                2009           \n",
       "2 105                2008           \n",
       "3  20                2009           \n",
       "4  18                2010           \n",
       "5  20                2009           \n",
       "6 200                2009           "
      ]
     },
     "metadata": {},
     "output_type": "display_data"
    }
   ],
   "source": [
    "head(movie)"
   ]
  },
  {
   "cell_type": "code",
   "execution_count": 94,
   "metadata": {},
   "outputs": [],
   "source": [
    "colnames(movie) <- c(\"Film\",\"Genre\",\"CriticRatings\",\"AudienceRatings\",\"BudgetMillion\",\"Year\")"
   ]
  },
  {
   "cell_type": "code",
   "execution_count": 95,
   "metadata": {},
   "outputs": [
    {
     "data": {
      "text/html": [
       "<table>\n",
       "<thead><tr><th scope=col>Film</th><th scope=col>Genre</th><th scope=col>CriticRatings</th><th scope=col>AudienceRatings</th><th scope=col>BudgetMillion</th><th scope=col>Year</th></tr></thead>\n",
       "<tbody>\n",
       "\t<tr><td>(500) Days of Summer </td><td>Comedy               </td><td>87                   </td><td>81                   </td><td>  8                  </td><td>2009                 </td></tr>\n",
       "\t<tr><td>10,000 B.C.          </td><td>Adventure            </td><td> 9                   </td><td>44                   </td><td>105                  </td><td>2008                 </td></tr>\n",
       "\t<tr><td>12 Rounds            </td><td>Action               </td><td>30                   </td><td>52                   </td><td> 20                  </td><td>2009                 </td></tr>\n",
       "\t<tr><td>127 Hours            </td><td>Adventure            </td><td>93                   </td><td>84                   </td><td> 18                  </td><td>2010                 </td></tr>\n",
       "\t<tr><td>17 Again             </td><td>Comedy               </td><td>55                   </td><td>70                   </td><td> 20                  </td><td>2009                 </td></tr>\n",
       "\t<tr><td>2012                 </td><td>Action               </td><td>39                   </td><td>63                   </td><td>200                  </td><td>2009                 </td></tr>\n",
       "</tbody>\n",
       "</table>\n"
      ],
      "text/latex": [
       "\\begin{tabular}{r|llllll}\n",
       " Film & Genre & CriticRatings & AudienceRatings & BudgetMillion & Year\\\\\n",
       "\\hline\n",
       "\t (500) Days of Summer  & Comedy                & 87                    & 81                    &   8                   & 2009                 \\\\\n",
       "\t 10,000 B.C.           & Adventure             &  9                    & 44                    & 105                   & 2008                 \\\\\n",
       "\t 12 Rounds             & Action                & 30                    & 52                    &  20                   & 2009                 \\\\\n",
       "\t 127 Hours             & Adventure             & 93                    & 84                    &  18                   & 2010                 \\\\\n",
       "\t 17 Again              & Comedy                & 55                    & 70                    &  20                   & 2009                 \\\\\n",
       "\t 2012                  & Action                & 39                    & 63                    & 200                   & 2009                 \\\\\n",
       "\\end{tabular}\n"
      ],
      "text/markdown": [
       "\n",
       "Film | Genre | CriticRatings | AudienceRatings | BudgetMillion | Year | \n",
       "|---|---|---|---|---|---|\n",
       "| (500) Days of Summer  | Comedy                | 87                    | 81                    |   8                   | 2009                  | \n",
       "| 10,000 B.C.           | Adventure             |  9                    | 44                    | 105                   | 2008                  | \n",
       "| 12 Rounds             | Action                | 30                    | 52                    |  20                   | 2009                  | \n",
       "| 127 Hours             | Adventure             | 93                    | 84                    |  18                   | 2010                  | \n",
       "| 17 Again              | Comedy                | 55                    | 70                    |  20                   | 2009                  | \n",
       "| 2012                  | Action                | 39                    | 63                    | 200                   | 2009                  | \n",
       "\n",
       "\n"
      ],
      "text/plain": [
       "  Film                  Genre     CriticRatings AudienceRatings BudgetMillion\n",
       "1 (500) Days of Summer  Comedy    87            81                8          \n",
       "2 10,000 B.C.           Adventure  9            44              105          \n",
       "3 12 Rounds             Action    30            52               20          \n",
       "4 127 Hours             Adventure 93            84               18          \n",
       "5 17 Again              Comedy    55            70               20          \n",
       "6 2012                  Action    39            63              200          \n",
       "  Year\n",
       "1 2009\n",
       "2 2008\n",
       "3 2009\n",
       "4 2010\n",
       "5 2009\n",
       "6 2009"
      ]
     },
     "metadata": {},
     "output_type": "display_data"
    }
   ],
   "source": [
    "head(movie)"
   ]
  },
  {
   "cell_type": "code",
   "execution_count": 96,
   "metadata": {},
   "outputs": [
    {
     "name": "stdout",
     "output_type": "stream",
     "text": [
      "'data.frame':\t562 obs. of  6 variables:\n",
      " $ Film           : Factor w/ 562 levels \"(500) Days of Summer \",..: 1 2 3 4 5 6 7 8 9 10 ...\n",
      " $ Genre          : Factor w/ 7 levels \"Action\",\"Adventure\",..: 3 2 1 2 3 1 3 5 3 3 ...\n",
      " $ CriticRatings  : int  87 9 30 93 55 39 40 50 43 93 ...\n",
      " $ AudienceRatings: int  81 44 52 84 70 63 71 57 48 93 ...\n",
      " $ BudgetMillion  : int  8 105 20 18 20 200 30 32 28 8 ...\n",
      " $ Year           : int  2009 2008 2009 2010 2009 2009 2008 2007 2011 2011 ...\n"
     ]
    }
   ],
   "source": [
    "str(movie)"
   ]
  },
  {
   "cell_type": "code",
   "execution_count": 98,
   "metadata": {},
   "outputs": [
    {
     "data": {
      "text/plain": [
       "                    Film           Genre     CriticRatings  AudienceRatings\n",
       " (500) Days of Summer :  1   Action   :154   Min.   : 0.0   Min.   : 0.00  \n",
       " 10,000 B.C.          :  1   Adventure: 29   1st Qu.:25.0   1st Qu.:47.00  \n",
       " 12 Rounds            :  1   Comedy   :172   Median :46.0   Median :58.00  \n",
       " 127 Hours            :  1   Drama    :101   Mean   :47.4   Mean   :58.83  \n",
       " 17 Again             :  1   Horror   : 49   3rd Qu.:70.0   3rd Qu.:72.00  \n",
       " 2012                 :  1   Romance  : 21   Max.   :97.0   Max.   :96.00  \n",
       " (Other)              :556   Thriller : 36                                 \n",
       " BudgetMillion        Year     \n",
       " Min.   :  0.0   Min.   :2007  \n",
       " 1st Qu.: 20.0   1st Qu.:2008  \n",
       " Median : 35.0   Median :2009  \n",
       " Mean   : 50.1   Mean   :2009  \n",
       " 3rd Qu.: 65.0   3rd Qu.:2010  \n",
       " Max.   :300.0   Max.   :2011  \n",
       "                               "
      ]
     },
     "metadata": {},
     "output_type": "display_data"
    }
   ],
   "source": [
    "summary(movie)"
   ]
  },
  {
   "cell_type": "code",
   "execution_count": 99,
   "metadata": {},
   "outputs": [
    {
     "data": {
      "text/html": [
       "<table>\n",
       "<thead><tr><th scope=col>Film</th><th scope=col>Genre</th><th scope=col>CriticRatings</th><th scope=col>AudienceRatings</th><th scope=col>BudgetMillion</th><th scope=col>Year</th></tr></thead>\n",
       "<tbody>\n",
       "\t<tr><td>(500) Days of Summer </td><td>Comedy               </td><td>87                   </td><td>81                   </td><td>  8                  </td><td>2009                 </td></tr>\n",
       "\t<tr><td>10,000 B.C.          </td><td>Adventure            </td><td> 9                   </td><td>44                   </td><td>105                  </td><td>2008                 </td></tr>\n",
       "\t<tr><td>12 Rounds            </td><td>Action               </td><td>30                   </td><td>52                   </td><td> 20                  </td><td>2009                 </td></tr>\n",
       "\t<tr><td>127 Hours            </td><td>Adventure            </td><td>93                   </td><td>84                   </td><td> 18                  </td><td>2010                 </td></tr>\n",
       "\t<tr><td>17 Again             </td><td>Comedy               </td><td>55                   </td><td>70                   </td><td> 20                  </td><td>2009                 </td></tr>\n",
       "\t<tr><td>2012                 </td><td>Action               </td><td>39                   </td><td>63                   </td><td>200                  </td><td>2009                 </td></tr>\n",
       "</tbody>\n",
       "</table>\n"
      ],
      "text/latex": [
       "\\begin{tabular}{r|llllll}\n",
       " Film & Genre & CriticRatings & AudienceRatings & BudgetMillion & Year\\\\\n",
       "\\hline\n",
       "\t (500) Days of Summer  & Comedy                & 87                    & 81                    &   8                   & 2009                 \\\\\n",
       "\t 10,000 B.C.           & Adventure             &  9                    & 44                    & 105                   & 2008                 \\\\\n",
       "\t 12 Rounds             & Action                & 30                    & 52                    &  20                   & 2009                 \\\\\n",
       "\t 127 Hours             & Adventure             & 93                    & 84                    &  18                   & 2010                 \\\\\n",
       "\t 17 Again              & Comedy                & 55                    & 70                    &  20                   & 2009                 \\\\\n",
       "\t 2012                  & Action                & 39                    & 63                    & 200                   & 2009                 \\\\\n",
       "\\end{tabular}\n"
      ],
      "text/markdown": [
       "\n",
       "Film | Genre | CriticRatings | AudienceRatings | BudgetMillion | Year | \n",
       "|---|---|---|---|---|---|\n",
       "| (500) Days of Summer  | Comedy                | 87                    | 81                    |   8                   | 2009                  | \n",
       "| 10,000 B.C.           | Adventure             |  9                    | 44                    | 105                   | 2008                  | \n",
       "| 12 Rounds             | Action                | 30                    | 52                    |  20                   | 2009                  | \n",
       "| 127 Hours             | Adventure             | 93                    | 84                    |  18                   | 2010                  | \n",
       "| 17 Again              | Comedy                | 55                    | 70                    |  20                   | 2009                  | \n",
       "| 2012                  | Action                | 39                    | 63                    | 200                   | 2009                  | \n",
       "\n",
       "\n"
      ],
      "text/plain": [
       "  Film                  Genre     CriticRatings AudienceRatings BudgetMillion\n",
       "1 (500) Days of Summer  Comedy    87            81                8          \n",
       "2 10,000 B.C.           Adventure  9            44              105          \n",
       "3 12 Rounds             Action    30            52               20          \n",
       "4 127 Hours             Adventure 93            84               18          \n",
       "5 17 Again              Comedy    55            70               20          \n",
       "6 2012                  Action    39            63              200          \n",
       "  Year\n",
       "1 2009\n",
       "2 2008\n",
       "3 2009\n",
       "4 2010\n",
       "5 2009\n",
       "6 2009"
      ]
     },
     "metadata": {},
     "output_type": "display_data"
    }
   ],
   "source": [
    "movie$Year <- factor(movie$Year)\n",
    "head(movie)"
   ]
  },
  {
   "cell_type": "code",
   "execution_count": 100,
   "metadata": {},
   "outputs": [
    {
     "name": "stdout",
     "output_type": "stream",
     "text": [
      "'data.frame':\t562 obs. of  6 variables:\n",
      " $ Film           : Factor w/ 562 levels \"(500) Days of Summer \",..: 1 2 3 4 5 6 7 8 9 10 ...\n",
      " $ Genre          : Factor w/ 7 levels \"Action\",\"Adventure\",..: 3 2 1 2 3 1 3 5 3 3 ...\n",
      " $ CriticRatings  : int  87 9 30 93 55 39 40 50 43 93 ...\n",
      " $ AudienceRatings: int  81 44 52 84 70 63 71 57 48 93 ...\n",
      " $ BudgetMillion  : int  8 105 20 18 20 200 30 32 28 8 ...\n",
      " $ Year           : Factor w/ 5 levels \"2007\",\"2008\",..: 3 2 3 4 3 3 2 1 5 5 ...\n"
     ]
    }
   ],
   "source": [
    "str(movie)"
   ]
  },
  {
   "cell_type": "code",
   "execution_count": 103,
   "metadata": {},
   "outputs": [
    {
     "data": {
      "text/plain": [
       "                    Film           Genre     CriticRatings  AudienceRatings\n",
       " (500) Days of Summer :  1   Action   :154   Min.   : 0.0   Min.   : 0.00  \n",
       " 10,000 B.C.          :  1   Adventure: 29   1st Qu.:25.0   1st Qu.:47.00  \n",
       " 12 Rounds            :  1   Comedy   :172   Median :46.0   Median :58.00  \n",
       " 127 Hours            :  1   Drama    :101   Mean   :47.4   Mean   :58.83  \n",
       " 17 Again             :  1   Horror   : 49   3rd Qu.:70.0   3rd Qu.:72.00  \n",
       " 2012                 :  1   Romance  : 21   Max.   :97.0   Max.   :96.00  \n",
       " (Other)              :556   Thriller : 36                                 \n",
       " BudgetMillion     Year    \n",
       " Min.   :  0.0   2007: 79  \n",
       " 1st Qu.: 20.0   2008:125  \n",
       " Median : 35.0   2009:116  \n",
       " Mean   : 50.1   2010:119  \n",
       " 3rd Qu.: 65.0   2011:123  \n",
       " Max.   :300.0             \n",
       "                           "
      ]
     },
     "metadata": {},
     "output_type": "display_data"
    }
   ],
   "source": [
    "summary(movie)"
   ]
  },
  {
   "cell_type": "code",
   "execution_count": 107,
   "metadata": {},
   "outputs": [],
   "source": [
    "?ggplot"
   ]
  },
  {
   "cell_type": "code",
   "execution_count": 104,
   "metadata": {},
   "outputs": [],
   "source": [
    "library(ggplot2)"
   ]
  },
  {
   "cell_type": "code",
   "execution_count": 116,
   "metadata": {},
   "outputs": [
    {
     "data": {},
     "metadata": {},
     "output_type": "display_data"
    },
    {
     "data": {
      "image/png": "[encoded data removed]",
      "text/plain": [
       "plot without title"
      ]
     },
     "metadata": {},
     "output_type": "display_data"
    }
   ],
   "source": [
    "ggplot(data = movie, aes(x = CriticRatings, y =AudienceRatings,colour=Genre)) + geom_point()"
   ]
  },
  {
   "cell_type": "code",
   "execution_count": 120,
   "metadata": {},
   "outputs": [
    {
     "data": {},
     "metadata": {},
     "output_type": "display_data"
    },
    {
     "data": {
      "image/png": "[encoded data removed]",
      "text/plain": [
       "plot without title"
      ]
     },
     "metadata": {},
     "output_type": "display_data"
    }
   ],
   "source": [
    "options(repr.plot.width=10, repr.plot.height=5)\n",
    "ggplot(data = movie, aes(x = CriticRatings, y =AudienceRatings,colour=Genre,size=BudgetMillion)) +\n",
    "geom_point()"
   ]
  },
  {
   "cell_type": "code",
   "execution_count": 125,
   "metadata": {},
   "outputs": [
    {
     "data": {},
     "metadata": {},
     "output_type": "display_data"
    },
    {
     "data": {
      "image/png": "[encoded data removed]",
      "text/plain": [
       "plot without title"
      ]
     },
     "metadata": {},
     "output_type": "display_data"
    }
   ],
   "source": [
    "options(repr.plot.width=10, repr.plot.height=5)\n",
    "base <-ggplot(data = movie, aes(x = CriticRatings, y =AudienceRatings,colour=Genre,size=BudgetMillion))\n",
    "base + geom_line(size=1)+geom_point()"
   ]
  },
  {
   "cell_type": "code",
   "execution_count": 129,
   "metadata": {},
   "outputs": [
    {
     "data": {},
     "metadata": {},
     "output_type": "display_data"
    },
    {
     "data": {
      "image/png": "[encoded data removed]",
      "text/plain": [
       "plot without title"
      ]
     },
     "metadata": {},
     "output_type": "display_data"
    }
   ],
   "source": [
    "options(repr.plot.width=10, repr.plot.height=5)\n",
    "base <-ggplot(data = movie, aes(x = CriticRatings, y =AudienceRatings,colour=Genre))\n",
    "base + geom_point(aes(colour=Genre))"
   ]
  },
  {
   "cell_type": "code",
   "execution_count": 136,
   "metadata": {},
   "outputs": [
    {
     "data": {},
     "metadata": {},
     "output_type": "display_data"
    },
    {
     "data": {
      "image/png": "[encoded data removed]",
      "text/plain": [
       "plot without title"
      ]
     },
     "metadata": {},
     "output_type": "display_data"
    }
   ],
   "source": [
    "options(repr.plot.width=10, repr.plot.height=5)\n",
    "base <-ggplot(data = movie, aes(x = BudgetMillion))\n",
    "base + geom_histogram(binwidth = 5,aes(fill=Genre),colour=\"Black\")"
   ]
  },
  {
   "cell_type": "code",
   "execution_count": 140,
   "metadata": {},
   "outputs": [
    {
     "data": {},
     "metadata": {},
     "output_type": "display_data"
    },
    {
     "data": {
      "image/png": "[encoded data removed]",
      "text/plain": [
       "plot without title"
      ]
     },
     "metadata": {},
     "output_type": "display_data"
    }
   ],
   "source": [
    "base + geom_density(aes(fill = Genre),position = \"stack\")"
   ]
  },
  {
   "cell_type": "code",
   "execution_count": 141,
   "metadata": {},
   "outputs": [
    {
     "data": {},
     "metadata": {},
     "output_type": "display_data"
    },
    {
     "data": {
      "image/png": "[encoded data removed]",
      "text/plain": [
       "plot without title"
      ]
     },
     "metadata": {},
     "output_type": "display_data"
    }
   ],
   "source": [
    "base + geom_density(aes(fill = Genre))"
   ]
  },
  {
   "cell_type": "code",
   "execution_count": null,
   "metadata": {},
   "outputs": [],
   "source": []
  }
 ],
 "metadata": {
  "kernelspec": {
   "display_name": "R",
   "language": "R",
   "name": "ir"
  },
  "language_info": {
   "codemirror_mode": "r",
   "file_extension": ".r",
   "mimetype": "text/x-r-source",
   "name": "R",
   "pygments_lexer": "r",
   "version": "3.5.1"
  }
 },
 "nbformat": 4,
 "nbformat_minor": 2
}
